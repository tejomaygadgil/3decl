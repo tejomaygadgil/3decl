{
 "cells": [
  {
   "cell_type": "markdown",
   "metadata": {
    "colab_type": "text",
    "id": "view-in-github"
   },
   "source": [
    "<a href=\"https://colab.research.google.com/github/tejomaygadgil/cgpos/blob/nn/notebooks/colab/0_pre_training.ipynb\" target=\"_parent\"><img src=\"https://colab.research.google.com/assets/colab-badge.svg\" alt=\"Open In Colab\"/></a>"
   ]
  },
  {
   "cell_type": "code",
   "execution_count": null,
   "metadata": {
    "colab": {
     "base_uri": "https://localhost:8080/",
     "height": 816
    },
    "id": "qO7JFlmU0JjI",
    "outputId": "3a32c1af-828a-4d66-be5c-c848a87f334c"
   },
   "outputs": [
    {
     "name": "stdout",
     "output_type": "stream",
     "text": [
      "Collecting wandb\n",
      "  Downloading wandb-0.15.12-py3-none-any.whl (2.1 MB)\n",
      "\u001b[2K     \u001b[90m━━━━━━━━━━━━━━━━━━━━━━━━━━━━━━━━━━━━━━━━\u001b[0m \u001b[32m2.1/2.1 MB\u001b[0m \u001b[31m21.3 MB/s\u001b[0m eta \u001b[36m0:00:00\u001b[0m\n",
      "\u001b[?25hRequirement already satisfied: Click!=8.0.0,>=7.1 in /usr/local/lib/python3.10/dist-packages (from wandb) (8.1.7)\n",
      "Collecting GitPython!=3.1.29,>=1.0.0 (from wandb)\n",
      "  Downloading GitPython-3.1.37-py3-none-any.whl (190 kB)\n",
      "\u001b[2K     \u001b[90m━━━━━━━━━━━━━━━━━━━━━━━━━━━━━━━━━━━━━━\u001b[0m \u001b[32m190.0/190.0 kB\u001b[0m \u001b[31m23.5 MB/s\u001b[0m eta \u001b[36m0:00:00\u001b[0m\n",
      "\u001b[?25hRequirement already satisfied: requests<3,>=2.0.0 in /usr/local/lib/python3.10/dist-packages (from wandb) (2.31.0)\n",
      "Requirement already satisfied: psutil>=5.0.0 in /usr/local/lib/python3.10/dist-packages (from wandb) (5.9.5)\n",
      "Collecting sentry-sdk>=1.0.0 (from wandb)\n",
      "  Downloading sentry_sdk-1.31.0-py2.py3-none-any.whl (224 kB)\n",
      "\u001b[2K     \u001b[90m━━━━━━━━━━━━━━━━━━━━━━━━━━━━━━━━━━━━━━\u001b[0m \u001b[32m224.8/224.8 kB\u001b[0m \u001b[31m28.9 MB/s\u001b[0m eta \u001b[36m0:00:00\u001b[0m\n",
      "\u001b[?25hCollecting docker-pycreds>=0.4.0 (from wandb)\n",
      "  Downloading docker_pycreds-0.4.0-py2.py3-none-any.whl (9.0 kB)\n",
      "Requirement already satisfied: PyYAML in /usr/local/lib/python3.10/dist-packages (from wandb) (6.0.1)\n",
      "Collecting pathtools (from wandb)\n",
      "  Downloading pathtools-0.1.2.tar.gz (11 kB)\n",
      "  Preparing metadata (setup.py) ... \u001b[?25l\u001b[?25hdone\n",
      "Collecting setproctitle (from wandb)\n",
      "  Downloading setproctitle-1.3.3-cp310-cp310-manylinux_2_5_x86_64.manylinux1_x86_64.manylinux_2_17_x86_64.manylinux2014_x86_64.whl (30 kB)\n",
      "Requirement already satisfied: setuptools in /usr/local/lib/python3.10/dist-packages (from wandb) (67.7.2)\n",
      "Requirement already satisfied: appdirs>=1.4.3 in /usr/local/lib/python3.10/dist-packages (from wandb) (1.4.4)\n",
      "Requirement already satisfied: protobuf!=4.21.0,<5,>=3.19.0 in /usr/local/lib/python3.10/dist-packages (from wandb) (3.20.3)\n",
      "Requirement already satisfied: six>=1.4.0 in /usr/local/lib/python3.10/dist-packages (from docker-pycreds>=0.4.0->wandb) (1.16.0)\n",
      "Collecting gitdb<5,>=4.0.1 (from GitPython!=3.1.29,>=1.0.0->wandb)\n",
      "  Downloading gitdb-4.0.10-py3-none-any.whl (62 kB)\n",
      "\u001b[2K     \u001b[90m━━━━━━━━━━━━━━━━━━━━━━━━━━━━━━━━━━━━━━━━\u001b[0m \u001b[32m62.7/62.7 kB\u001b[0m \u001b[31m9.9 MB/s\u001b[0m eta \u001b[36m0:00:00\u001b[0m\n",
      "\u001b[?25hRequirement already satisfied: charset-normalizer<4,>=2 in /usr/local/lib/python3.10/dist-packages (from requests<3,>=2.0.0->wandb) (3.3.0)\n",
      "Requirement already satisfied: idna<4,>=2.5 in /usr/local/lib/python3.10/dist-packages (from requests<3,>=2.0.0->wandb) (3.4)\n",
      "Requirement already satisfied: urllib3<3,>=1.21.1 in /usr/local/lib/python3.10/dist-packages (from requests<3,>=2.0.0->wandb) (2.0.6)\n",
      "Requirement already satisfied: certifi>=2017.4.17 in /usr/local/lib/python3.10/dist-packages (from requests<3,>=2.0.0->wandb) (2023.7.22)\n",
      "Collecting smmap<6,>=3.0.1 (from gitdb<5,>=4.0.1->GitPython!=3.1.29,>=1.0.0->wandb)\n",
      "  Downloading smmap-5.0.1-py3-none-any.whl (24 kB)\n",
      "Building wheels for collected packages: pathtools\n",
      "  Building wheel for pathtools (setup.py) ... \u001b[?25l\u001b[?25hdone\n",
      "  Created wheel for pathtools: filename=pathtools-0.1.2-py3-none-any.whl size=8791 sha256=16e0117b85b2617318014a6a3498829cdd14d35e8103be3a61e04bc3b50d3bbe\n",
      "  Stored in directory: /root/.cache/pip/wheels/e7/f3/22/152153d6eb222ee7a56ff8617d80ee5207207a8c00a7aab794\n",
      "Successfully built pathtools\n",
      "Installing collected packages: pathtools, smmap, setproctitle, sentry-sdk, docker-pycreds, gitdb, GitPython, wandb\n",
      "Successfully installed GitPython-3.1.37 docker-pycreds-0.4.0 gitdb-4.0.10 pathtools-0.1.2 sentry-sdk-1.31.0 setproctitle-1.3.3 smmap-5.0.1 wandb-0.15.12\n"
     ]
    },
    {
     "data": {
      "application/javascript": [
       "\n",
       "        window._wandbApiKey = new Promise((resolve, reject) => {\n",
       "            function loadScript(url) {\n",
       "            return new Promise(function(resolve, reject) {\n",
       "                let newScript = document.createElement(\"script\");\n",
       "                newScript.onerror = reject;\n",
       "                newScript.onload = resolve;\n",
       "                document.body.appendChild(newScript);\n",
       "                newScript.src = url;\n",
       "            });\n",
       "            }\n",
       "            loadScript(\"https://cdn.jsdelivr.net/npm/postmate/build/postmate.min.js\").then(() => {\n",
       "            const iframe = document.createElement('iframe')\n",
       "            iframe.style.cssText = \"width:0;height:0;border:none\"\n",
       "            document.body.appendChild(iframe)\n",
       "            const handshake = new Postmate({\n",
       "                container: iframe,\n",
       "                url: 'https://wandb.ai/authorize'\n",
       "            });\n",
       "            const timeout = setTimeout(() => reject(\"Couldn't auto authenticate\"), 5000)\n",
       "            handshake.then(function(child) {\n",
       "                child.on('authorize', data => {\n",
       "                    clearTimeout(timeout)\n",
       "                    resolve(data)\n",
       "                });\n",
       "            });\n",
       "            })\n",
       "        });\n",
       "    "
      ],
      "text/plain": [
       "<IPython.core.display.Javascript object>"
      ]
     },
     "metadata": {},
     "output_type": "display_data"
    },
    {
     "name": "stderr",
     "output_type": "stream",
     "text": [
      "\u001b[34m\u001b[1mwandb\u001b[0m: Logging into wandb.ai. (Learn how to deploy a W&B server locally: https://wandb.me/wandb-server)\n",
      "\u001b[34m\u001b[1mwandb\u001b[0m: You can find your API key in your browser here: https://wandb.ai/authorize\n",
      "wandb: Paste an API key from your profile and hit enter, or press ctrl+c to quit:"
     ]
    },
    {
     "name": "stdout",
     "output_type": "stream",
     "text": [
      " ··········\n"
     ]
    },
    {
     "name": "stderr",
     "output_type": "stream",
     "text": [
      "\u001b[34m\u001b[1mwandb\u001b[0m: Appending key for api.wandb.ai to your netrc file: /root/.netrc\n"
     ]
    },
    {
     "data": {
      "text/plain": [
       "True"
      ]
     },
     "execution_count": 1,
     "metadata": {},
     "output_type": "execute_result"
    }
   ],
   "source": [
    "!pip install wandb\n",
    "import wandb\n",
    "wandb.login()"
   ]
  },
  {
   "cell_type": "code",
   "execution_count": null,
   "metadata": {
    "colab": {
     "base_uri": "https://localhost:8080/"
    },
    "id": "AU6t8MAiPRrR",
    "outputId": "ae3c4eea-6103-4c69-eb02-9ec44d3c326e"
   },
   "outputs": [
    {
     "name": "stdout",
     "output_type": "stream",
     "text": [
      "/content/cgpos\n"
     ]
    }
   ],
   "source": [
    "!pwd"
   ]
  },
  {
   "cell_type": "code",
   "execution_count": null,
   "metadata": {
    "colab": {
     "base_uri": "https://localhost:8080/"
    },
    "id": "vLVs6-8SdW16",
    "outputId": "e53f3e40-6f0f-47ff-c7bb-e3530b58a9b1"
   },
   "outputs": [
    {
     "name": "stdout",
     "output_type": "stream",
     "text": [
      "Cloning into 'cgpos'...\n",
      "remote: Enumerating objects: 2199, done.\u001b[K\n",
      "remote: Counting objects: 100% (177/177), done.\u001b[K\n",
      "remote: Compressing objects: 100% (102/102), done.\u001b[K\n",
      "remote: Total 2199 (delta 117), reused 127 (delta 71), pack-reused 2022\u001b[K\n",
      "Receiving objects: 100% (2199/2199), 101.85 MiB | 35.89 MiB/s, done.\n",
      "Resolving deltas: 100% (1363/1363), done.\n",
      "Collecting git+https://github.com/jtauber/greek-accentuation.git\n",
      "  Cloning https://github.com/jtauber/greek-accentuation.git to /tmp/pip-req-build-p2uil6ms\n",
      "  Running command git clone --filter=blob:none --quiet https://github.com/jtauber/greek-accentuation.git /tmp/pip-req-build-p2uil6ms\n",
      "  Resolved https://github.com/jtauber/greek-accentuation.git to commit 15ac5fd1cc82c8f9b91a4041f9b64399c9552097\n",
      "  Preparing metadata (setup.py) ... \u001b[?25l\u001b[?25hdone\n",
      "Collecting beta-code\n",
      "  Downloading beta_code-1.1.0-py3-none-any.whl (8.4 kB)\n",
      "Building wheels for collected packages: greek-accentuation\n",
      "  Building wheel for greek-accentuation (setup.py) ... \u001b[?25l\u001b[?25hdone\n",
      "  Created wheel for greek-accentuation: filename=greek_accentuation-1.2.0-py2.py3-none-any.whl size=7639 sha256=3410f14c88d242b2cabc2cb7bda2562c38940bedf852caa806018f9a11fbb605\n",
      "  Stored in directory: /tmp/pip-ephem-wheel-cache-84nt0gf8/wheels/31/68/a9/73949cf9e13b5f173b691a48aef7e9d728d04178209d0ae649\n",
      "Successfully built greek-accentuation\n",
      "Installing collected packages: beta-code, greek-accentuation\n",
      "Successfully installed beta-code-1.1.0 greek-accentuation-1.2.0\n",
      "/content/cgpos\n",
      "mkdir -p data/zip\n",
      "mkdir -p data/raw\n",
      "mkdir -p data/processed\n",
      "mkdir -p data/interim\n",
      "mkdir -p data/reference\n",
      "Initializing data directory\n"
     ]
    }
   ],
   "source": [
    "!git clone -b nn https://github.com/tejomaygadgil/cgpos.git\n",
    "!pip install git+https://github.com/jtauber/greek-accentuation.git beta-code\n",
    "%cd cgpos/\n",
    "!make init_data_dir"
   ]
  },
  {
   "cell_type": "code",
   "execution_count": null,
   "metadata": {
    "colab": {
     "base_uri": "https://localhost:8080/"
    },
    "id": "-YXMtnCWpZc6",
    "outputId": "a7e2f00d-cb33-4918-ad87-71ba87cd4f13"
   },
   "outputs": [
    {
     "name": "stdout",
     "output_type": "stream",
     "text": [
      "remote: Enumerating objects: 7, done.\u001b[K\n",
      "remote: Counting objects: 100% (7/7), done.\u001b[K\n",
      "remote: Compressing objects: 100% (1/1), done.\u001b[K\n",
      "remote: Total 4 (delta 3), reused 4 (delta 3), pack-reused 0\u001b[K\n",
      "Unpacking objects: 100% (4/4), 362 bytes | 362.00 KiB/s, done.\n",
      "From https://github.com/tejomaygadgil/cgpos\n",
      "   e48c86f..16156b8  nn         -> origin/nn\n",
      "Updating e48c86f..16156b8\n",
      "Fast-forward\n",
      " src/train.py | 2 \u001b[32m+\u001b[m\u001b[31m-\u001b[m\n",
      " 1 file changed, 1 insertion(+), 1 deletion(-)\n"
     ]
    }
   ],
   "source": [
    "!git pull"
   ]
  },
  {
   "cell_type": "code",
   "execution_count": null,
   "metadata": {
    "colab": {
     "base_uri": "https://localhost:8080/"
    },
    "id": "L7vgvahtYZD_",
    "outputId": "58e97716-847d-47bb-b206-35f24478107c"
   },
   "outputs": [
    {
     "name": "stdout",
     "output_type": "stream",
     "text": [
      "2023-10-08 03:00:00,949 - git.cmd - DEBUG - Popen(['git', 'rev-parse', '--show-toplevel'], cwd=/content/cgpos, universal_newlines=False, shell=None, istream=None)\n",
      "2023-10-08 03:00:00,951 - git.cmd - DEBUG - Popen(['git', 'rev-parse', '--show-toplevel'], cwd=/content/cgpos, universal_newlines=False, shell=None, istream=None)\n",
      "2023-10-08 03:00:00,968 - urllib3.connectionpool - DEBUG - Starting new HTTPS connection (1): api.wandb.ai:443\n",
      "2023-10-08 03:00:01,268 - urllib3.connectionpool - DEBUG - https://api.wandb.ai:443 \"POST /graphql HTTP/1.1\" 200 None\n",
      "2023-10-08 03:00:01,484 - urllib3.connectionpool - DEBUG - https://api.wandb.ai:443 \"POST /graphql HTTP/1.1\" 200 None\n",
      "\u001b[34m\u001b[1mwandb\u001b[0m: Currently logged in as: \u001b[33mtejomaygadgil\u001b[0m. Use \u001b[1m`wandb login --relogin`\u001b[0m to force relogin\n",
      "2023-10-08 03:00:01,494 - git.cmd - DEBUG - Popen(['git', 'cat-file', '--batch-check'], cwd=/content/cgpos, universal_newlines=False, shell=None, istream=<valid stream>)\n",
      "\u001b[34m\u001b[1mwandb\u001b[0m: Tracking run with wandb version 0.15.12\n",
      "\u001b[34m\u001b[1mwandb\u001b[0m: Run data is saved locally in \u001b[35m\u001b[1m/content/cgpos/wandb/run-20231008_030001-r2c1sm9i\u001b[0m\n",
      "\u001b[34m\u001b[1mwandb\u001b[0m: Run \u001b[1m`wandb offline`\u001b[0m to turn off syncing.\n",
      "\u001b[34m\u001b[1mwandb\u001b[0m: Syncing run \u001b[33mwinter-sunset-15\u001b[0m\n",
      "\u001b[34m\u001b[1mwandb\u001b[0m: ⭐️ View project at \u001b[34m\u001b[4mhttps://wandb.ai/tejomaygadgil/ncgpos\u001b[0m\n",
      "\u001b[34m\u001b[1mwandb\u001b[0m: 🚀 View run at \u001b[34m\u001b[4mhttps://wandb.ai/tejomaygadgil/ncgpos/runs/r2c1sm9i\u001b[0m\n",
      "2023-10-08 03:00:07,086 - util - INFO - Imported /content/drive/MyDrive/Colab Notebooks/pt_syl.pkl\n",
      "2023-10-08 03:00:18,486 - util - INFO - Exported data/reference/pt_stoi.pkl\n",
      "2023-10-08 03:00:18,490 - util - INFO - Exported data/reference/pt_itos.pkl\n",
      "2023-10-08 03:00:18,586 - root - INFO - vocab_size: 17,016\n",
      "2023-10-08 03:00:18,586 - root - INFO - train_size: 0.98\n",
      "2023-10-08 03:00:18,587 - root - INFO - n_chunks: 500\n",
      "2023-10-08 03:00:18,587 - root - INFO - Train set: 34,631,855 obs\n",
      "2023-10-08 03:00:18,587 - root - INFO - Val set: 708,210 obs\n",
      "\n",
      "\u001b[42m \u001b[0m\u001b[42m \u001b[0m\u001b[42m \u001b[0m\u001b[42m \u001b[0m\u001b[42m \u001b[0m\u001b[42m \u001b[0m\u001b[42m \u001b[0m\u001b[42m \u001b[0m\u001b[42m \u001b[0m\u001b[42m \u001b[0m\u001b[42m \u001b[0m\u001b[42m \u001b[0m\u001b[42m \u001b[0m\u001b[42m \u001b[0m\u001b[42m \u001b[0m\u001b[42m \u001b[0m\u001b[42m \u001b[0m\u001b[42m \u001b[0m\u001b[42m \u001b[0m\u001b[42m \u001b[0m\u001b[42m \u001b[0m\u001b[42m \u001b[0m\u001b[42m \u001b[0m\u001b[42m \u001b[0m\u001b[42m \u001b[0m\u001b[42m \u001b[0m\u001b[42m \u001b[0m\u001b[42m \u001b[0m\u001b[42m \u001b[0m\u001b[42m \u001b[0m\u001b[42m \u001b[0m\u001b[42m \u001b[0m\u001b[42m \u001b[0m\u001b[42m \u001b[0m\u001b[42m \u001b[0m\u001b[42m \u001b[0m\u001b[42m \u001b[0m\u001b[42m \u001b[0m\u001b[42m \u001b[0m\u001b[42m \u001b[0m\u001b[42m \u001b[0m\u001b[42m \u001b[0m\u001b[41m \u001b[0m\u001b[42m \u001b[0m\u001b[42m \u001b[0m\u001b[42m \u001b[0m\u001b[42m \u001b[0m\u001b[42m \u001b[0m\u001b[42m \u001b[0m\u001b[42m \u001b[0m\n",
      "\u001b[42m \u001b[0m\u001b[42m \u001b[0m\u001b[42m \u001b[0m\u001b[42m \u001b[0m\u001b[42m \u001b[0m\u001b[42m \u001b[0m\u001b[42m \u001b[0m\u001b[42m \u001b[0m\u001b[42m \u001b[0m\u001b[42m \u001b[0m\u001b[42m \u001b[0m\u001b[42m \u001b[0m\u001b[42m \u001b[0m\u001b[42m \u001b[0m\u001b[42m \u001b[0m\u001b[42m \u001b[0m\u001b[42m \u001b[0m\u001b[42m \u001b[0m\u001b[42m \u001b[0m\u001b[42m \u001b[0m\u001b[42m \u001b[0m\u001b[42m \u001b[0m\u001b[42m \u001b[0m\u001b[42m \u001b[0m\u001b[42m \u001b[0m\u001b[42m \u001b[0m\u001b[41m \u001b[0m\u001b[42m \u001b[0m\u001b[42m \u001b[0m\u001b[42m \u001b[0m\u001b[41m \u001b[0m\u001b[42m \u001b[0m\u001b[42m \u001b[0m\u001b[42m \u001b[0m\u001b[42m \u001b[0m\u001b[42m \u001b[0m\u001b[42m \u001b[0m\u001b[42m \u001b[0m\u001b[42m \u001b[0m\u001b[42m \u001b[0m\u001b[42m \u001b[0m\u001b[42m \u001b[0m\u001b[42m \u001b[0m\u001b[42m \u001b[0m\u001b[42m \u001b[0m\u001b[42m \u001b[0m\u001b[42m \u001b[0m\u001b[42m \u001b[0m\u001b[42m \u001b[0m\u001b[42m \u001b[0m\n",
      "\u001b[42m \u001b[0m\u001b[42m \u001b[0m\u001b[42m \u001b[0m\u001b[42m \u001b[0m\u001b[42m \u001b[0m\u001b[42m \u001b[0m\u001b[42m \u001b[0m\u001b[42m \u001b[0m\u001b[42m \u001b[0m\u001b[42m \u001b[0m\u001b[42m \u001b[0m\u001b[42m \u001b[0m\u001b[42m \u001b[0m\u001b[42m \u001b[0m\u001b[42m \u001b[0m\u001b[42m \u001b[0m\u001b[42m \u001b[0m\u001b[42m \u001b[0m\u001b[42m \u001b[0m\u001b[42m \u001b[0m\u001b[42m \u001b[0m\u001b[42m \u001b[0m\u001b[42m \u001b[0m\u001b[42m \u001b[0m\u001b[42m \u001b[0m\u001b[41m \u001b[0m\u001b[42m \u001b[0m\u001b[42m \u001b[0m\u001b[42m \u001b[0m\u001b[42m \u001b[0m\u001b[42m \u001b[0m\u001b[42m \u001b[0m\u001b[42m \u001b[0m\u001b[42m \u001b[0m\u001b[42m \u001b[0m\u001b[42m \u001b[0m\u001b[42m \u001b[0m\u001b[42m \u001b[0m\u001b[42m \u001b[0m\u001b[42m \u001b[0m\u001b[42m \u001b[0m\u001b[42m \u001b[0m\u001b[42m \u001b[0m\u001b[42m \u001b[0m\u001b[42m \u001b[0m\u001b[42m \u001b[0m\u001b[42m \u001b[0m\u001b[42m \u001b[0m\u001b[42m \u001b[0m\u001b[42m \u001b[0m\n",
      "\u001b[42m \u001b[0m\u001b[42m \u001b[0m\u001b[42m \u001b[0m\u001b[42m \u001b[0m\u001b[42m \u001b[0m\u001b[42m \u001b[0m\u001b[42m \u001b[0m\u001b[42m \u001b[0m\u001b[42m \u001b[0m\u001b[42m \u001b[0m\u001b[42m \u001b[0m\u001b[42m \u001b[0m\u001b[42m \u001b[0m\u001b[42m \u001b[0m\u001b[42m \u001b[0m\u001b[42m \u001b[0m\u001b[42m \u001b[0m\u001b[42m \u001b[0m\u001b[42m \u001b[0m\u001b[42m \u001b[0m\u001b[42m \u001b[0m\u001b[42m \u001b[0m\u001b[42m \u001b[0m\u001b[42m \u001b[0m\u001b[42m \u001b[0m\u001b[42m \u001b[0m\u001b[42m \u001b[0m\u001b[42m \u001b[0m\u001b[42m \u001b[0m\u001b[42m \u001b[0m\u001b[42m \u001b[0m\u001b[42m \u001b[0m\u001b[42m \u001b[0m\u001b[42m \u001b[0m\u001b[42m \u001b[0m\u001b[42m \u001b[0m\u001b[42m \u001b[0m\u001b[42m \u001b[0m\u001b[41m \u001b[0m\u001b[42m \u001b[0m\u001b[42m \u001b[0m\u001b[42m \u001b[0m\u001b[42m \u001b[0m\u001b[42m \u001b[0m\u001b[42m \u001b[0m\u001b[42m \u001b[0m\u001b[42m \u001b[0m\u001b[42m \u001b[0m\u001b[42m \u001b[0m\u001b[42m \u001b[0m\n",
      "\u001b[42m \u001b[0m\u001b[42m \u001b[0m\u001b[42m \u001b[0m\u001b[42m \u001b[0m\u001b[42m \u001b[0m\u001b[42m \u001b[0m\u001b[41m \u001b[0m\u001b[42m \u001b[0m\u001b[42m \u001b[0m\u001b[42m \u001b[0m\u001b[42m \u001b[0m\u001b[42m \u001b[0m\u001b[42m \u001b[0m\u001b[42m \u001b[0m\u001b[42m \u001b[0m\u001b[42m \u001b[0m\u001b[42m \u001b[0m\u001b[42m \u001b[0m\u001b[42m \u001b[0m\u001b[42m \u001b[0m\u001b[42m \u001b[0m\u001b[42m \u001b[0m\u001b[42m \u001b[0m\u001b[42m \u001b[0m\u001b[42m \u001b[0m\u001b[42m \u001b[0m\u001b[42m \u001b[0m\u001b[42m \u001b[0m\u001b[42m \u001b[0m\u001b[42m \u001b[0m\u001b[42m \u001b[0m\u001b[42m \u001b[0m\u001b[42m \u001b[0m\u001b[42m \u001b[0m\u001b[42m \u001b[0m\u001b[42m \u001b[0m\u001b[42m \u001b[0m\u001b[42m \u001b[0m\u001b[42m \u001b[0m\u001b[42m \u001b[0m\u001b[42m \u001b[0m\u001b[42m \u001b[0m\u001b[42m \u001b[0m\u001b[42m \u001b[0m\u001b[42m \u001b[0m\u001b[42m \u001b[0m\u001b[42m \u001b[0m\u001b[42m \u001b[0m\u001b[42m \u001b[0m\u001b[42m \u001b[0m\n",
      "\u001b[42m \u001b[0m\u001b[42m \u001b[0m\u001b[42m \u001b[0m\u001b[42m \u001b[0m\u001b[42m \u001b[0m\u001b[42m \u001b[0m\u001b[42m \u001b[0m\u001b[42m \u001b[0m\u001b[42m \u001b[0m\u001b[42m \u001b[0m\u001b[42m \u001b[0m\u001b[42m \u001b[0m\u001b[42m \u001b[0m\u001b[42m \u001b[0m\u001b[42m \u001b[0m\u001b[42m \u001b[0m\u001b[42m \u001b[0m\u001b[42m \u001b[0m\u001b[42m \u001b[0m\u001b[42m \u001b[0m\u001b[42m \u001b[0m\u001b[42m \u001b[0m\u001b[42m \u001b[0m\u001b[42m \u001b[0m\u001b[42m \u001b[0m\u001b[42m \u001b[0m\u001b[42m \u001b[0m\u001b[42m \u001b[0m\u001b[42m \u001b[0m\u001b[42m \u001b[0m\u001b[42m \u001b[0m\u001b[42m \u001b[0m\u001b[42m \u001b[0m\u001b[42m \u001b[0m\u001b[42m \u001b[0m\u001b[42m \u001b[0m\u001b[42m \u001b[0m\u001b[42m \u001b[0m\u001b[42m \u001b[0m\u001b[42m \u001b[0m\u001b[42m \u001b[0m\u001b[42m \u001b[0m\u001b[42m \u001b[0m\u001b[42m \u001b[0m\u001b[42m \u001b[0m\u001b[42m \u001b[0m\u001b[42m \u001b[0m\u001b[42m \u001b[0m\u001b[42m \u001b[0m\u001b[42m \u001b[0m\n",
      "\u001b[42m \u001b[0m\u001b[42m \u001b[0m\u001b[42m \u001b[0m\u001b[42m \u001b[0m\u001b[42m \u001b[0m\u001b[42m \u001b[0m\u001b[42m \u001b[0m\u001b[42m \u001b[0m\u001b[42m \u001b[0m\u001b[42m \u001b[0m\u001b[42m \u001b[0m\u001b[42m \u001b[0m\u001b[42m \u001b[0m\u001b[42m \u001b[0m\u001b[42m \u001b[0m\u001b[42m \u001b[0m\u001b[42m \u001b[0m\u001b[42m \u001b[0m\u001b[42m \u001b[0m\u001b[42m \u001b[0m\u001b[42m \u001b[0m\u001b[42m \u001b[0m\u001b[42m \u001b[0m\u001b[42m \u001b[0m\u001b[42m \u001b[0m\u001b[42m \u001b[0m\u001b[42m \u001b[0m\u001b[42m \u001b[0m\u001b[42m \u001b[0m\u001b[42m \u001b[0m\u001b[42m \u001b[0m\u001b[42m \u001b[0m\u001b[42m \u001b[0m\u001b[42m \u001b[0m\u001b[42m \u001b[0m\u001b[42m \u001b[0m\u001b[42m \u001b[0m\u001b[42m \u001b[0m\u001b[42m \u001b[0m\u001b[42m \u001b[0m\u001b[42m \u001b[0m\u001b[42m \u001b[0m\u001b[42m \u001b[0m\u001b[42m \u001b[0m\u001b[42m \u001b[0m\u001b[42m \u001b[0m\u001b[42m \u001b[0m\u001b[42m \u001b[0m\u001b[42m \u001b[0m\u001b[42m \u001b[0m\n",
      "\u001b[42m \u001b[0m\u001b[42m \u001b[0m\u001b[42m \u001b[0m\u001b[42m \u001b[0m\u001b[42m \u001b[0m\u001b[42m \u001b[0m\u001b[42m \u001b[0m\u001b[42m \u001b[0m\u001b[42m \u001b[0m\u001b[42m \u001b[0m\u001b[42m \u001b[0m\u001b[42m \u001b[0m\u001b[42m \u001b[0m\u001b[42m \u001b[0m\u001b[42m \u001b[0m\u001b[42m \u001b[0m\u001b[42m \u001b[0m\u001b[42m \u001b[0m\u001b[42m \u001b[0m\u001b[42m \u001b[0m\u001b[42m \u001b[0m\u001b[42m \u001b[0m\u001b[42m \u001b[0m\u001b[42m \u001b[0m\u001b[42m \u001b[0m\u001b[42m \u001b[0m\u001b[42m \u001b[0m\u001b[42m \u001b[0m\u001b[42m \u001b[0m\u001b[41m \u001b[0m\u001b[42m \u001b[0m\u001b[42m \u001b[0m\u001b[42m \u001b[0m\u001b[42m \u001b[0m\u001b[42m \u001b[0m\u001b[42m \u001b[0m\u001b[42m \u001b[0m\u001b[42m \u001b[0m\u001b[42m \u001b[0m\u001b[42m \u001b[0m\u001b[42m \u001b[0m\u001b[42m \u001b[0m\u001b[42m \u001b[0m\u001b[42m \u001b[0m\u001b[42m \u001b[0m\u001b[42m \u001b[0m\u001b[42m \u001b[0m\u001b[42m \u001b[0m\u001b[42m \u001b[0m\u001b[42m \u001b[0m\n",
      "\u001b[42m \u001b[0m\u001b[42m \u001b[0m\u001b[42m \u001b[0m\u001b[42m \u001b[0m\u001b[42m \u001b[0m\u001b[42m \u001b[0m\u001b[42m \u001b[0m\u001b[42m \u001b[0m\u001b[42m \u001b[0m\u001b[42m \u001b[0m\u001b[42m \u001b[0m\u001b[42m \u001b[0m\u001b[42m \u001b[0m\u001b[41m \u001b[0m\u001b[42m \u001b[0m\u001b[42m \u001b[0m\u001b[42m \u001b[0m\u001b[42m \u001b[0m\u001b[42m \u001b[0m\u001b[42m \u001b[0m\u001b[42m \u001b[0m\u001b[42m \u001b[0m\u001b[42m \u001b[0m\u001b[42m \u001b[0m\u001b[42m \u001b[0m\u001b[42m \u001b[0m\u001b[42m \u001b[0m\u001b[42m \u001b[0m\u001b[42m \u001b[0m\u001b[42m \u001b[0m\u001b[42m \u001b[0m\u001b[42m \u001b[0m\u001b[42m \u001b[0m\u001b[42m \u001b[0m\u001b[42m \u001b[0m\u001b[42m \u001b[0m\u001b[42m \u001b[0m\u001b[42m \u001b[0m\u001b[42m \u001b[0m\u001b[42m \u001b[0m\u001b[42m \u001b[0m\u001b[42m \u001b[0m\u001b[42m \u001b[0m\u001b[42m \u001b[0m\u001b[42m \u001b[0m\u001b[42m \u001b[0m\u001b[42m \u001b[0m\u001b[42m \u001b[0m\u001b[42m \u001b[0m\u001b[42m \u001b[0m\n",
      "  0% 0/10000 [00:00<?, ?it/s]2023-10-08 03:00:57,737 - numexpr.utils - INFO - Note: NumExpr detected 12 cores but \"NUMEXPR_MAX_THREADS\" not set, so enforcing safe limit of 8.\n",
      "2023-10-08 03:00:57,737 - numexpr.utils - INFO - NumExpr defaulting to 8 threads.\n",
      "2023-10-08 03:00:57,915 - root - INFO - step 0: train loss 10.0325, val loss 10.0277\n",
      "2023-10-08 03:00:58,646 - root - INFO - <UNK>φρώσἙφρῆςΤαιΦΘΕΙχοὕβανλυθὈνφλώτΕὗασχσαμχμᾷνχρεμγριπκρίλβονθπλευκξευσΠεμσχυσκύβὲλΒράκχλεῖςσαιχΠριΤάγθνηντεκνθρᾴ\n",
      "2023-10-08 03:03:25,194 - root - INFO - step 500: train loss 3.6628, val loss 3.6950\n",
      "2023-10-08 03:03:25,934 - root - INFO - <UNK> γὰρ φέρός λααῖονταδέξιοῦν ποίη πρὶν δῆλους καὶ παρινμήνας δι ἄρ\n",
      "2023-10-08 03:05:52,478 - root - INFO - step 1000: train loss 3.3864, val loss 3.4183\n",
      "2023-10-08 03:05:53,201 - root - INFO - <UNK> διεθέρε τὰ εἰ τὸν ἁλω ἂν τῶν πάντων , οἷονταμὸν δὲ ἀ\n",
      "2023-10-08 03:08:19,632 - root - INFO - step 1500: train loss 3.1432, val loss 3.1832\n",
      "2023-10-08 03:08:20,377 - root - INFO - <UNK> μουσαμαι , · τὸ τούτῳ νυν χρὴ διῶ ἔλοιλογίωτος . γὰρ \n",
      "2023-10-08 03:10:46,741 - root - INFO - step 2000: train loss 2.9758, val loss 3.0157\n",
      "2023-10-08 03:10:47,543 - root - INFO - <UNK>σι τὰ κότως καθ ἀλλ νίκα ὁ σόλων , οὔτ μηχα καὶ πάταυτὶ \n",
      "2023-10-08 03:13:13,955 - root - INFO - step 2500: train loss 2.8879, val loss 2.9186\n",
      "2023-10-08 03:13:14,701 - root - INFO - <UNK> δημονῶν πολύσθηκεγεῖσθαι πρὸς Ἰλίου . ὁπλῖται δ Ἀφροθιστορίας\n",
      "2023-10-08 03:15:41,230 - root - INFO - step 3000: train loss 2.7991, val loss 2.8276\n",
      "2023-10-08 03:15:41,976 - root - INFO - <UNK> συμλίοισι . ἐξ ὧν ἀληθίσθη δήμου . μέρεσιν εἰθι καθόφες\n",
      "2023-10-08 03:18:08,543 - root - INFO - step 3500: train loss 2.7308, val loss 2.7555\n",
      "2023-10-08 03:18:09,279 - root - INFO - <UNK> χομέσθὲν ἀνάγκης ἡμέλεια , καὶ τὰ πάντων ἀντέβαλσεν Ἐναντίω\n",
      "2023-10-08 03:20:35,758 - root - INFO - step 4000: train loss 2.6647, val loss 2.7025\n",
      "2023-10-08 03:20:36,519 - root - INFO - <UNK>λέγον ἐν μακρὸν ὀργῆς ὧν ποιηθείσας καὶ αὐτοὺς ἱππέων , οὐδεὶς \n",
      "2023-10-08 03:23:03,008 - root - INFO - step 4500: train loss 2.6286, val loss 2.6711\n",
      "2023-10-08 03:23:03,741 - root - INFO - <UNK>σφίσιν τοὺς συμβάλποι ὅσασθαι καταλύδους ἰδέας καὶ θαυμάζειν καὶ εὐθυ\n",
      "2023-10-08 03:25:30,148 - root - INFO - step 5000: train loss 2.5981, val loss 2.6364\n",
      "2023-10-08 03:25:30,899 - root - INFO - <UNK> , αὐτοὶ  δικαίως εἰ ὀργὴ ἀνάλογον ἀποδόκου . καὶ ἔγω\n",
      "2023-10-08 03:27:57,206 - root - INFO - step 5500: train loss 2.5486, val loss 2.5861\n",
      "2023-10-08 03:27:57,931 - root - INFO - <UNK>σατο<UNK>γὰρμὴ καλουμένῳ τὴν Σάσαμον τὴν ἴσον ἄποδον ἐπὶ σφέρειν \n",
      "2023-10-08 03:30:24,168 - root - INFO - step 6000: train loss 2.5319, val loss 2.5718\n",
      "2023-10-08 03:30:24,919 - root - INFO - <UNK> ἄλλα ἠτινομυνσολῆς πολρικῶν πρεσβύτας καὶ Ἀχαιοὺς , ὥραις τὴν \n",
      "2023-10-08 03:32:51,257 - root - INFO - step 6500: train loss 2.4989, val loss 2.5318\n",
      "2023-10-08 03:32:52,013 - root - INFO - <UNK>πος φιλοτρια καὶ τὸν Ἰβηρίον σοφοῦν<UNK> τὴν πρᾶξου <UNK>τοὺς πρεσβυτέρους\n",
      "2023-10-08 03:35:18,191 - root - INFO - step 7000: train loss 2.4739, val loss 2.5193\n",
      "2023-10-08 03:35:18,937 - root - INFO - <UNK>θύθου τῆς φαρκηκῆς <UNK> οὔσης εἰς τὴν ἄμψαφε ἀποστολὴν ἐπιπηγνύη\n",
      "2023-10-08 03:37:45,106 - root - INFO - step 7500: train loss 2.4539, val loss 2.4993\n",
      "2023-10-08 03:37:45,840 - root - INFO - <UNK>δόξας ἀρετῷ νόηι πολέμῳ , ἀντιστρόφῳ καὶ ἀφ ἄλλου δὲ ὁ\n",
      "2023-10-08 03:40:12,104 - root - INFO - step 8000: train loss 2.4369, val loss 2.4835\n",
      "2023-10-08 03:40:12,842 - root - INFO - <UNK>τά τε Χίων περίβολον ἐῶν δελφῶν τε κτησάμενος ἄλλος ᾖ <UNK>παυ\n",
      "2023-10-08 03:42:39,231 - root - INFO - step 8500: train loss 2.4267, val loss 2.4730\n",
      "2023-10-08 03:42:39,985 - root - INFO - <UNK>περὶ τὴν γῆροχὴν λέγονται · ἡ δὲ ἀνεξεζός ἄν μεταστάσις τῆς\n",
      "2023-10-08 03:45:06,370 - root - INFO - step 9000: train loss 2.4038, val loss 2.4601\n",
      "2023-10-08 03:45:07,154 - root - INFO - <UNK>ἱγείουσι τοῖς Ἕλλησιν ἐόντος κεκρυμμένων στε χαί<UNK>σι τούς τε <UNK>ναι\n",
      "2023-10-08 03:47:33,525 - root - INFO - step 9500: train loss 2.4031, val loss 2.4505\n",
      "2023-10-08 03:47:34,266 - root - INFO - <UNK>ναλοὺςκτανασι τοῖς φθόσὶ καὶ προτιμᾶν καὶ παρὰ πολὺ δοτυριάν · \n",
      "100% 10000/10000 [49:06<00:00,  3.39it/s]\n",
      "\u001b[34m\u001b[1mwandb\u001b[0m: Waiting for W&B process to finish... \u001b[32m(success).\u001b[0m\n",
      "\u001b[34m\u001b[1mwandb\u001b[0m: \n",
      "\u001b[34m\u001b[1mwandb\u001b[0m: Run history:\n",
      "\u001b[34m\u001b[1mwandb\u001b[0m: train_loss █▂▂▂▂▁▁▁▁▁▁▁▁▁▁▁▁▁▁▁\n",
      "\u001b[34m\u001b[1mwandb\u001b[0m:   val_loss █▂▂▂▂▁▁▁▁▁▁▁▁▁▁▁▁▁▁▁\n",
      "\u001b[34m\u001b[1mwandb\u001b[0m: \n",
      "\u001b[34m\u001b[1mwandb\u001b[0m: Run summary:\n",
      "\u001b[34m\u001b[1mwandb\u001b[0m: train_loss 2.40314\n",
      "\u001b[34m\u001b[1mwandb\u001b[0m:   val_loss 2.45048\n",
      "\u001b[34m\u001b[1mwandb\u001b[0m: \n",
      "\u001b[34m\u001b[1mwandb\u001b[0m: 🚀 View run \u001b[33mwinter-sunset-15\u001b[0m at: \u001b[34m\u001b[4mhttps://wandb.ai/tejomaygadgil/ncgpos/runs/r2c1sm9i\u001b[0m\n",
      "\u001b[34m\u001b[1mwandb\u001b[0m: Synced 5 W&B file(s), 0 media file(s), 0 artifact file(s) and 0 other file(s)\n",
      "\u001b[34m\u001b[1mwandb\u001b[0m: Find logs at: \u001b[35m\u001b[1m./wandb/run-20231008_030001-r2c1sm9i/logs\u001b[0m\n",
      "2023-10-08 03:49:37,051 - urllib3.connectionpool - DEBUG - Starting new HTTPS connection (1): o151352.ingest.sentry.io:443\n",
      "2023-10-08 03:49:37,206 - urllib3.connectionpool - DEBUG - https://o151352.ingest.sentry.io:443 \"POST /api/4504800232407040/envelope/ HTTP/1.1\" 200 0\n"
     ]
    }
   ],
   "source": [
    "!python src/train.py cloud_pt"
   ]
  }
 ],
 "metadata": {
  "accelerator": "GPU",
  "colab": {
   "authorship_tag": "ABX9TyPi6xzF1ibDGuNI91f8mhlz",
   "gpuType": "T4",
   "include_colab_link": true,
   "machine_shape": "hm",
   "mount_file_id": "1ET_qLCcw52EyaYWEVoAa1S06OQvUv2in",
   "provenance": []
  },
  "kernelspec": {
   "display_name": "Python 3 (ipykernel)",
   "language": "python",
   "name": "python3"
  },
  "language_info": {
   "codemirror_mode": {
    "name": "ipython",
    "version": 3
   },
   "file_extension": ".py",
   "mimetype": "text/x-python",
   "name": "python",
   "nbconvert_exporter": "python",
   "pygments_lexer": "ipython3",
   "version": "3.11.5"
  }
 },
 "nbformat": 4,
 "nbformat_minor": 4
}
