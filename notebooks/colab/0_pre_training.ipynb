{
  "cells": [
    {
      "cell_type": "markdown",
      "metadata": {
        "id": "view-in-github",
        "colab_type": "text"
      },
      "source": [
        "<a href=\"https://colab.research.google.com/github/tejomaygadgil/cgpos/blob/nn/notebooks/colab/0_pre_training.ipynb\" target=\"_parent\"><img src=\"https://colab.research.google.com/assets/colab-badge.svg\" alt=\"Open In Colab\"/></a>"
      ]
    },
    {
      "cell_type": "code",
      "execution_count": 1,
      "metadata": {
        "colab": {
          "base_uri": "https://localhost:8080/"
        },
        "id": "XS5ez-GXOw3d",
        "outputId": "697b4dce-7394-445d-8c30-9a8692bb7b44"
      },
      "outputs": [
        {
          "output_type": "stream",
          "name": "stdout",
          "text": [
            "Mounted at /content/drive\n"
          ]
        }
      ],
      "source": [
        "from google.colab import drive\n",
        "drive.mount('/content/drive')"
      ]
    },
    {
      "cell_type": "code",
      "execution_count": 2,
      "metadata": {
        "colab": {
          "base_uri": "https://localhost:8080/",
          "height": 816
        },
        "id": "qO7JFlmU0JjI",
        "outputId": "f109929e-0e06-4857-c166-0d0e5605780f"
      },
      "outputs": [
        {
          "output_type": "stream",
          "name": "stdout",
          "text": [
            "Collecting wandb\n",
            "  Downloading wandb-0.15.12-py3-none-any.whl (2.1 MB)\n",
            "\u001b[2K     \u001b[90m━━━━━━━━━━━━━━━━━━━━━━━━━━━━━━━━━━━━━━━━\u001b[0m \u001b[32m2.1/2.1 MB\u001b[0m \u001b[31m14.4 MB/s\u001b[0m eta \u001b[36m0:00:00\u001b[0m\n",
            "\u001b[?25hRequirement already satisfied: Click!=8.0.0,>=7.1 in /usr/local/lib/python3.10/dist-packages (from wandb) (8.1.7)\n",
            "Collecting GitPython!=3.1.29,>=1.0.0 (from wandb)\n",
            "  Downloading GitPython-3.1.37-py3-none-any.whl (190 kB)\n",
            "\u001b[2K     \u001b[90m━━━━━━━━━━━━━━━━━━━━━━━━━━━━━━━━━━━━━━\u001b[0m \u001b[32m190.0/190.0 kB\u001b[0m \u001b[31m16.0 MB/s\u001b[0m eta \u001b[36m0:00:00\u001b[0m\n",
            "\u001b[?25hRequirement already satisfied: requests<3,>=2.0.0 in /usr/local/lib/python3.10/dist-packages (from wandb) (2.31.0)\n",
            "Requirement already satisfied: psutil>=5.0.0 in /usr/local/lib/python3.10/dist-packages (from wandb) (5.9.5)\n",
            "Collecting sentry-sdk>=1.0.0 (from wandb)\n",
            "  Downloading sentry_sdk-1.31.0-py2.py3-none-any.whl (224 kB)\n",
            "\u001b[2K     \u001b[90m━━━━━━━━━━━━━━━━━━━━━━━━━━━━━━━━━━━━━━\u001b[0m \u001b[32m224.8/224.8 kB\u001b[0m \u001b[31m18.5 MB/s\u001b[0m eta \u001b[36m0:00:00\u001b[0m\n",
            "\u001b[?25hCollecting docker-pycreds>=0.4.0 (from wandb)\n",
            "  Downloading docker_pycreds-0.4.0-py2.py3-none-any.whl (9.0 kB)\n",
            "Requirement already satisfied: PyYAML in /usr/local/lib/python3.10/dist-packages (from wandb) (6.0.1)\n",
            "Collecting pathtools (from wandb)\n",
            "  Downloading pathtools-0.1.2.tar.gz (11 kB)\n",
            "  Preparing metadata (setup.py) ... \u001b[?25l\u001b[?25hdone\n",
            "Collecting setproctitle (from wandb)\n",
            "  Downloading setproctitle-1.3.3-cp310-cp310-manylinux_2_5_x86_64.manylinux1_x86_64.manylinux_2_17_x86_64.manylinux2014_x86_64.whl (30 kB)\n",
            "Requirement already satisfied: setuptools in /usr/local/lib/python3.10/dist-packages (from wandb) (67.7.2)\n",
            "Requirement already satisfied: appdirs>=1.4.3 in /usr/local/lib/python3.10/dist-packages (from wandb) (1.4.4)\n",
            "Requirement already satisfied: protobuf!=4.21.0,<5,>=3.19.0 in /usr/local/lib/python3.10/dist-packages (from wandb) (3.20.3)\n",
            "Requirement already satisfied: six>=1.4.0 in /usr/local/lib/python3.10/dist-packages (from docker-pycreds>=0.4.0->wandb) (1.16.0)\n",
            "Collecting gitdb<5,>=4.0.1 (from GitPython!=3.1.29,>=1.0.0->wandb)\n",
            "  Downloading gitdb-4.0.10-py3-none-any.whl (62 kB)\n",
            "\u001b[2K     \u001b[90m━━━━━━━━━━━━━━━━━━━━━━━━━━━━━━━━━━━━━━━━\u001b[0m \u001b[32m62.7/62.7 kB\u001b[0m \u001b[31m7.3 MB/s\u001b[0m eta \u001b[36m0:00:00\u001b[0m\n",
            "\u001b[?25hRequirement already satisfied: charset-normalizer<4,>=2 in /usr/local/lib/python3.10/dist-packages (from requests<3,>=2.0.0->wandb) (3.3.0)\n",
            "Requirement already satisfied: idna<4,>=2.5 in /usr/local/lib/python3.10/dist-packages (from requests<3,>=2.0.0->wandb) (3.4)\n",
            "Requirement already satisfied: urllib3<3,>=1.21.1 in /usr/local/lib/python3.10/dist-packages (from requests<3,>=2.0.0->wandb) (2.0.6)\n",
            "Requirement already satisfied: certifi>=2017.4.17 in /usr/local/lib/python3.10/dist-packages (from requests<3,>=2.0.0->wandb) (2023.7.22)\n",
            "Collecting smmap<6,>=3.0.1 (from gitdb<5,>=4.0.1->GitPython!=3.1.29,>=1.0.0->wandb)\n",
            "  Downloading smmap-5.0.1-py3-none-any.whl (24 kB)\n",
            "Building wheels for collected packages: pathtools\n",
            "  Building wheel for pathtools (setup.py) ... \u001b[?25l\u001b[?25hdone\n",
            "  Created wheel for pathtools: filename=pathtools-0.1.2-py3-none-any.whl size=8791 sha256=e6bde47b824d56c92c5ec7850fee4b96f5014ee3ad4017c745be98b332d9c776\n",
            "  Stored in directory: /root/.cache/pip/wheels/e7/f3/22/152153d6eb222ee7a56ff8617d80ee5207207a8c00a7aab794\n",
            "Successfully built pathtools\n",
            "Installing collected packages: pathtools, smmap, setproctitle, sentry-sdk, docker-pycreds, gitdb, GitPython, wandb\n",
            "Successfully installed GitPython-3.1.37 docker-pycreds-0.4.0 gitdb-4.0.10 pathtools-0.1.2 sentry-sdk-1.31.0 setproctitle-1.3.3 smmap-5.0.1 wandb-0.15.12\n"
          ]
        },
        {
          "output_type": "display_data",
          "data": {
            "text/plain": [
              "<IPython.core.display.Javascript object>"
            ],
            "application/javascript": [
              "\n",
              "        window._wandbApiKey = new Promise((resolve, reject) => {\n",
              "            function loadScript(url) {\n",
              "            return new Promise(function(resolve, reject) {\n",
              "                let newScript = document.createElement(\"script\");\n",
              "                newScript.onerror = reject;\n",
              "                newScript.onload = resolve;\n",
              "                document.body.appendChild(newScript);\n",
              "                newScript.src = url;\n",
              "            });\n",
              "            }\n",
              "            loadScript(\"https://cdn.jsdelivr.net/npm/postmate/build/postmate.min.js\").then(() => {\n",
              "            const iframe = document.createElement('iframe')\n",
              "            iframe.style.cssText = \"width:0;height:0;border:none\"\n",
              "            document.body.appendChild(iframe)\n",
              "            const handshake = new Postmate({\n",
              "                container: iframe,\n",
              "                url: 'https://wandb.ai/authorize'\n",
              "            });\n",
              "            const timeout = setTimeout(() => reject(\"Couldn't auto authenticate\"), 5000)\n",
              "            handshake.then(function(child) {\n",
              "                child.on('authorize', data => {\n",
              "                    clearTimeout(timeout)\n",
              "                    resolve(data)\n",
              "                });\n",
              "            });\n",
              "            })\n",
              "        });\n",
              "    "
            ]
          },
          "metadata": {}
        },
        {
          "output_type": "stream",
          "name": "stderr",
          "text": [
            "\u001b[34m\u001b[1mwandb\u001b[0m: Logging into wandb.ai. (Learn how to deploy a W&B server locally: https://wandb.me/wandb-server)\n",
            "\u001b[34m\u001b[1mwandb\u001b[0m: You can find your API key in your browser here: https://wandb.ai/authorize\n",
            "wandb: Paste an API key from your profile and hit enter, or press ctrl+c to quit:"
          ]
        },
        {
          "name": "stdout",
          "output_type": "stream",
          "text": [
            " ··········\n"
          ]
        },
        {
          "output_type": "stream",
          "name": "stderr",
          "text": [
            "\u001b[34m\u001b[1mwandb\u001b[0m: Appending key for api.wandb.ai to your netrc file: /root/.netrc\n"
          ]
        },
        {
          "output_type": "execute_result",
          "data": {
            "text/plain": [
              "True"
            ]
          },
          "metadata": {},
          "execution_count": 2
        }
      ],
      "source": [
        "!pip install wandb\n",
        "import wandb\n",
        "wandb.login()"
      ]
    },
    {
      "cell_type": "code",
      "execution_count": 3,
      "metadata": {
        "colab": {
          "base_uri": "https://localhost:8080/"
        },
        "id": "vLVs6-8SdW16",
        "outputId": "e02a10b7-8ec1-4050-8451-d20966593d09"
      },
      "outputs": [
        {
          "output_type": "stream",
          "name": "stdout",
          "text": [
            "Cloning into 'cgpos'...\n",
            "remote: Enumerating objects: 2343, done.\u001b[K\n",
            "remote: Counting objects: 100% (321/321), done.\u001b[K\n",
            "remote: Compressing objects: 100% (121/121), done.\u001b[K\n",
            "remote: Total 2343 (delta 219), reused 294 (delta 196), pack-reused 2022\u001b[K\n",
            "Receiving objects: 100% (2343/2343), 101.90 MiB | 6.78 MiB/s, done.\n",
            "Resolving deltas: 100% (1465/1465), done.\n",
            "Collecting git+https://github.com/jtauber/greek-accentuation.git\n",
            "  Cloning https://github.com/jtauber/greek-accentuation.git to /tmp/pip-req-build-9mw_kh6e\n",
            "  Running command git clone --filter=blob:none --quiet https://github.com/jtauber/greek-accentuation.git /tmp/pip-req-build-9mw_kh6e\n",
            "  Resolved https://github.com/jtauber/greek-accentuation.git to commit 15ac5fd1cc82c8f9b91a4041f9b64399c9552097\n",
            "  Preparing metadata (setup.py) ... \u001b[?25l\u001b[?25hdone\n",
            "Collecting beta-code\n",
            "  Downloading beta_code-1.1.0-py3-none-any.whl (8.4 kB)\n",
            "Building wheels for collected packages: greek-accentuation\n",
            "  Building wheel for greek-accentuation (setup.py) ... \u001b[?25l\u001b[?25hdone\n",
            "  Created wheel for greek-accentuation: filename=greek_accentuation-1.2.0-py2.py3-none-any.whl size=7639 sha256=1f156789a98032d51c2607264ac3a531209532bbe17567cf0968840f1ac18a20\n",
            "  Stored in directory: /tmp/pip-ephem-wheel-cache-zd53ydto/wheels/31/68/a9/73949cf9e13b5f173b691a48aef7e9d728d04178209d0ae649\n",
            "Successfully built greek-accentuation\n",
            "Installing collected packages: beta-code, greek-accentuation\n",
            "Successfully installed beta-code-1.1.0 greek-accentuation-1.2.0\n",
            "/content/cgpos\n",
            "mkdir -p data/zip\n",
            "mkdir -p data/raw\n",
            "mkdir -p data/processed\n",
            "mkdir -p data/interim\n",
            "mkdir -p data/reference\n",
            "mkdir -p data/train\n",
            "Initializing data directory\n"
          ]
        }
      ],
      "source": [
        "!git clone -b nn https://github.com/tejomaygadgil/cgpos.git\n",
        "!pip install git+https://github.com/jtauber/greek-accentuation.git beta-code\n",
        "%cd /content/cgpos\n",
        "!make init_data_dir"
      ]
    },
    {
      "cell_type": "code",
      "execution_count": 7,
      "metadata": {
        "colab": {
          "base_uri": "https://localhost:8080/"
        },
        "id": "-YXMtnCWpZc6",
        "outputId": "54de6232-ef2d-4d1b-d2f0-4a1028831b5e"
      },
      "outputs": [
        {
          "output_type": "stream",
          "name": "stdout",
          "text": [
            "remote: Enumerating objects: 7, done.\u001b[K\n",
            "remote: Counting objects:  14% (1/7)\u001b[K\rremote: Counting objects:  28% (2/7)\u001b[K\rremote: Counting objects:  42% (3/7)\u001b[K\rremote: Counting objects:  57% (4/7)\u001b[K\rremote: Counting objects:  71% (5/7)\u001b[K\rremote: Counting objects:  85% (6/7)\u001b[K\rremote: Counting objects: 100% (7/7)\u001b[K\rremote: Counting objects: 100% (7/7), done.\u001b[K\n",
            "remote: Compressing objects: 100% (1/1)\u001b[K\rremote: Compressing objects: 100% (1/1), done.\u001b[K\n",
            "remote: Total 4 (delta 3), reused 4 (delta 3), pack-reused 0\u001b[K\n",
            "Unpacking objects:  25% (1/4)\rUnpacking objects:  50% (2/4)\rUnpacking objects:  75% (3/4)\rUnpacking objects: 100% (4/4)\rUnpacking objects: 100% (4/4), 374 bytes | 374.00 KiB/s, done.\n",
            "From https://github.com/tejomaygadgil/cgpos\n",
            "   84a8528..cf37d81  nn         -> origin/nn\n",
            "Updating 84a8528..cf37d81\n",
            "Fast-forward\n",
            " src/train.py | 4 \u001b[32m+\u001b[m\u001b[31m---\u001b[m\n",
            " 1 file changed, 1 insertion(+), 3 deletions(-)\n"
          ]
        }
      ],
      "source": [
        "!git pull"
      ]
    },
    {
      "cell_type": "code",
      "execution_count": 6,
      "metadata": {
        "colab": {
          "base_uri": "https://localhost:8080/"
        },
        "id": "L7vgvahtYZD_",
        "outputId": "7262b9a1-d328-4e53-e710-b4c6f810855b"
      },
      "outputs": [
        {
          "output_type": "stream",
          "name": "stdout",
          "text": [
            "2023-10-08 19:09:11,120 - __main__ - INFO - Pre-training setup:\n",
            "2023-10-08 19:09:15,598 - util - INFO - Imported /content/drive/MyDrive/Colab Notebooks/pt_syl.pkl\n",
            "2023-10-08 19:09:26,521 - util - INFO - Exported data/train/pt_params.pkl\n",
            "2023-10-08 19:09:26,528 - util - INFO - Exported data/train/pt_stoi.pkl\n",
            "2023-10-08 19:09:26,532 - util - INFO - Exported data/train/pt_itos.pkl\n",
            "2023-10-08 19:09:27,046 - util - INFO - Exported data/train/pt_train\n",
            "2023-10-08 19:09:27,055 - util - INFO - Exported data/train/pt_val\n",
            "2023-10-08 19:09:27,055 - __main__ - INFO - vocab_size: 17,016\n",
            "2023-10-08 19:09:27,055 - __main__ - INFO - train_size: 0.98\n",
            "2023-10-08 19:09:27,055 - __main__ - INFO - n_chunks: 500\n",
            "2023-10-08 19:09:27,055 - __main__ - INFO - Train set: 34,631,855 obs\n",
            "2023-10-08 19:09:27,055 - __main__ - INFO - Val set: 708,210 obs\n",
            "\n",
            "\u001b[42m \u001b[0m\u001b[42m \u001b[0m\u001b[42m \u001b[0m\u001b[42m \u001b[0m\u001b[42m \u001b[0m\u001b[42m \u001b[0m\u001b[42m \u001b[0m\u001b[42m \u001b[0m\u001b[42m \u001b[0m\u001b[42m \u001b[0m\u001b[42m \u001b[0m\u001b[42m \u001b[0m\u001b[42m \u001b[0m\u001b[42m \u001b[0m\u001b[42m \u001b[0m\u001b[42m \u001b[0m\u001b[42m \u001b[0m\u001b[42m \u001b[0m\u001b[42m \u001b[0m\u001b[42m \u001b[0m\u001b[42m \u001b[0m\u001b[42m \u001b[0m\u001b[42m \u001b[0m\u001b[42m \u001b[0m\u001b[42m \u001b[0m\u001b[42m \u001b[0m\u001b[42m \u001b[0m\u001b[42m \u001b[0m\u001b[42m \u001b[0m\u001b[42m \u001b[0m\u001b[42m \u001b[0m\u001b[42m \u001b[0m\u001b[42m \u001b[0m\u001b[42m \u001b[0m\u001b[42m \u001b[0m\u001b[42m \u001b[0m\u001b[42m \u001b[0m\u001b[42m \u001b[0m\u001b[42m \u001b[0m\u001b[42m \u001b[0m\u001b[42m \u001b[0m\u001b[42m \u001b[0m\u001b[41m \u001b[0m\u001b[42m \u001b[0m\u001b[42m \u001b[0m\u001b[42m \u001b[0m\u001b[42m \u001b[0m\u001b[42m \u001b[0m\u001b[42m \u001b[0m\u001b[42m \u001b[0m\n",
            "\u001b[42m \u001b[0m\u001b[42m \u001b[0m\u001b[42m \u001b[0m\u001b[42m \u001b[0m\u001b[42m \u001b[0m\u001b[42m \u001b[0m\u001b[42m \u001b[0m\u001b[42m \u001b[0m\u001b[42m \u001b[0m\u001b[42m \u001b[0m\u001b[42m \u001b[0m\u001b[42m \u001b[0m\u001b[42m \u001b[0m\u001b[42m \u001b[0m\u001b[42m \u001b[0m\u001b[42m \u001b[0m\u001b[42m \u001b[0m\u001b[42m \u001b[0m\u001b[42m \u001b[0m\u001b[42m \u001b[0m\u001b[42m \u001b[0m\u001b[42m \u001b[0m\u001b[42m \u001b[0m\u001b[42m \u001b[0m\u001b[42m \u001b[0m\u001b[42m \u001b[0m\u001b[41m \u001b[0m\u001b[42m \u001b[0m\u001b[42m \u001b[0m\u001b[42m \u001b[0m\u001b[41m \u001b[0m\u001b[42m \u001b[0m\u001b[42m \u001b[0m\u001b[42m \u001b[0m\u001b[42m \u001b[0m\u001b[42m \u001b[0m\u001b[42m \u001b[0m\u001b[42m \u001b[0m\u001b[42m \u001b[0m\u001b[42m \u001b[0m\u001b[42m \u001b[0m\u001b[42m \u001b[0m\u001b[42m \u001b[0m\u001b[42m \u001b[0m\u001b[42m \u001b[0m\u001b[42m \u001b[0m\u001b[42m \u001b[0m\u001b[42m \u001b[0m\u001b[42m \u001b[0m\u001b[42m \u001b[0m\n",
            "\u001b[42m \u001b[0m\u001b[42m \u001b[0m\u001b[42m \u001b[0m\u001b[42m \u001b[0m\u001b[42m \u001b[0m\u001b[42m \u001b[0m\u001b[42m \u001b[0m\u001b[42m \u001b[0m\u001b[42m \u001b[0m\u001b[42m \u001b[0m\u001b[42m \u001b[0m\u001b[42m \u001b[0m\u001b[42m \u001b[0m\u001b[42m \u001b[0m\u001b[42m \u001b[0m\u001b[42m \u001b[0m\u001b[42m \u001b[0m\u001b[42m \u001b[0m\u001b[42m \u001b[0m\u001b[42m \u001b[0m\u001b[42m \u001b[0m\u001b[42m \u001b[0m\u001b[42m \u001b[0m\u001b[42m \u001b[0m\u001b[42m \u001b[0m\u001b[41m \u001b[0m\u001b[42m \u001b[0m\u001b[42m \u001b[0m\u001b[42m \u001b[0m\u001b[42m \u001b[0m\u001b[42m \u001b[0m\u001b[42m \u001b[0m\u001b[42m \u001b[0m\u001b[42m \u001b[0m\u001b[42m \u001b[0m\u001b[42m \u001b[0m\u001b[42m \u001b[0m\u001b[42m \u001b[0m\u001b[42m \u001b[0m\u001b[42m \u001b[0m\u001b[42m \u001b[0m\u001b[42m \u001b[0m\u001b[42m \u001b[0m\u001b[42m \u001b[0m\u001b[42m \u001b[0m\u001b[42m \u001b[0m\u001b[42m \u001b[0m\u001b[42m \u001b[0m\u001b[42m \u001b[0m\u001b[42m \u001b[0m\n",
            "\u001b[42m \u001b[0m\u001b[42m \u001b[0m\u001b[42m \u001b[0m\u001b[42m \u001b[0m\u001b[42m \u001b[0m\u001b[42m \u001b[0m\u001b[42m \u001b[0m\u001b[42m \u001b[0m\u001b[42m \u001b[0m\u001b[42m \u001b[0m\u001b[42m \u001b[0m\u001b[42m \u001b[0m\u001b[42m \u001b[0m\u001b[42m \u001b[0m\u001b[42m \u001b[0m\u001b[42m \u001b[0m\u001b[42m \u001b[0m\u001b[42m \u001b[0m\u001b[42m \u001b[0m\u001b[42m \u001b[0m\u001b[42m \u001b[0m\u001b[42m \u001b[0m\u001b[42m \u001b[0m\u001b[42m \u001b[0m\u001b[42m \u001b[0m\u001b[42m \u001b[0m\u001b[42m \u001b[0m\u001b[42m \u001b[0m\u001b[42m \u001b[0m\u001b[42m \u001b[0m\u001b[42m \u001b[0m\u001b[42m \u001b[0m\u001b[42m \u001b[0m\u001b[42m \u001b[0m\u001b[42m \u001b[0m\u001b[42m \u001b[0m\u001b[42m \u001b[0m\u001b[42m \u001b[0m\u001b[41m \u001b[0m\u001b[42m \u001b[0m\u001b[42m \u001b[0m\u001b[42m \u001b[0m\u001b[42m \u001b[0m\u001b[42m \u001b[0m\u001b[42m \u001b[0m\u001b[42m \u001b[0m\u001b[42m \u001b[0m\u001b[42m \u001b[0m\u001b[42m \u001b[0m\u001b[42m \u001b[0m\n",
            "\u001b[42m \u001b[0m\u001b[42m \u001b[0m\u001b[42m \u001b[0m\u001b[42m \u001b[0m\u001b[42m \u001b[0m\u001b[42m \u001b[0m\u001b[41m \u001b[0m\u001b[42m \u001b[0m\u001b[42m \u001b[0m\u001b[42m \u001b[0m\u001b[42m \u001b[0m\u001b[42m \u001b[0m\u001b[42m \u001b[0m\u001b[42m \u001b[0m\u001b[42m \u001b[0m\u001b[42m \u001b[0m\u001b[42m \u001b[0m\u001b[42m \u001b[0m\u001b[42m \u001b[0m\u001b[42m \u001b[0m\u001b[42m \u001b[0m\u001b[42m \u001b[0m\u001b[42m \u001b[0m\u001b[42m \u001b[0m\u001b[42m \u001b[0m\u001b[42m \u001b[0m\u001b[42m \u001b[0m\u001b[42m \u001b[0m\u001b[42m \u001b[0m\u001b[42m \u001b[0m\u001b[42m \u001b[0m\u001b[42m \u001b[0m\u001b[42m \u001b[0m\u001b[42m \u001b[0m\u001b[42m \u001b[0m\u001b[42m \u001b[0m\u001b[42m \u001b[0m\u001b[42m \u001b[0m\u001b[42m \u001b[0m\u001b[42m \u001b[0m\u001b[42m \u001b[0m\u001b[42m \u001b[0m\u001b[42m \u001b[0m\u001b[42m \u001b[0m\u001b[42m \u001b[0m\u001b[42m \u001b[0m\u001b[42m \u001b[0m\u001b[42m \u001b[0m\u001b[42m \u001b[0m\u001b[42m \u001b[0m\n",
            "\u001b[42m \u001b[0m\u001b[42m \u001b[0m\u001b[42m \u001b[0m\u001b[42m \u001b[0m\u001b[42m \u001b[0m\u001b[42m \u001b[0m\u001b[42m \u001b[0m\u001b[42m \u001b[0m\u001b[42m \u001b[0m\u001b[42m \u001b[0m\u001b[42m \u001b[0m\u001b[42m \u001b[0m\u001b[42m \u001b[0m\u001b[42m \u001b[0m\u001b[42m \u001b[0m\u001b[42m \u001b[0m\u001b[42m \u001b[0m\u001b[42m \u001b[0m\u001b[42m \u001b[0m\u001b[42m \u001b[0m\u001b[42m \u001b[0m\u001b[42m \u001b[0m\u001b[42m \u001b[0m\u001b[42m \u001b[0m\u001b[42m \u001b[0m\u001b[42m \u001b[0m\u001b[42m \u001b[0m\u001b[42m \u001b[0m\u001b[42m \u001b[0m\u001b[42m \u001b[0m\u001b[42m \u001b[0m\u001b[42m \u001b[0m\u001b[42m \u001b[0m\u001b[42m \u001b[0m\u001b[42m \u001b[0m\u001b[42m \u001b[0m\u001b[42m \u001b[0m\u001b[42m \u001b[0m\u001b[42m \u001b[0m\u001b[42m \u001b[0m\u001b[42m \u001b[0m\u001b[42m \u001b[0m\u001b[42m \u001b[0m\u001b[42m \u001b[0m\u001b[42m \u001b[0m\u001b[42m \u001b[0m\u001b[42m \u001b[0m\u001b[42m \u001b[0m\u001b[42m \u001b[0m\u001b[42m \u001b[0m\n",
            "\u001b[42m \u001b[0m\u001b[42m \u001b[0m\u001b[42m \u001b[0m\u001b[42m \u001b[0m\u001b[42m \u001b[0m\u001b[42m \u001b[0m\u001b[42m \u001b[0m\u001b[42m \u001b[0m\u001b[42m \u001b[0m\u001b[42m \u001b[0m\u001b[42m \u001b[0m\u001b[42m \u001b[0m\u001b[42m \u001b[0m\u001b[42m \u001b[0m\u001b[42m \u001b[0m\u001b[42m \u001b[0m\u001b[42m \u001b[0m\u001b[42m \u001b[0m\u001b[42m \u001b[0m\u001b[42m \u001b[0m\u001b[42m \u001b[0m\u001b[42m \u001b[0m\u001b[42m \u001b[0m\u001b[42m \u001b[0m\u001b[42m \u001b[0m\u001b[42m \u001b[0m\u001b[42m \u001b[0m\u001b[42m \u001b[0m\u001b[42m \u001b[0m\u001b[42m \u001b[0m\u001b[42m \u001b[0m\u001b[42m \u001b[0m\u001b[42m \u001b[0m\u001b[42m \u001b[0m\u001b[42m \u001b[0m\u001b[42m \u001b[0m\u001b[42m \u001b[0m\u001b[42m \u001b[0m\u001b[42m \u001b[0m\u001b[42m \u001b[0m\u001b[42m \u001b[0m\u001b[42m \u001b[0m\u001b[42m \u001b[0m\u001b[42m \u001b[0m\u001b[42m \u001b[0m\u001b[42m \u001b[0m\u001b[42m \u001b[0m\u001b[42m \u001b[0m\u001b[42m \u001b[0m\u001b[42m \u001b[0m\n",
            "\u001b[42m \u001b[0m\u001b[42m \u001b[0m\u001b[42m \u001b[0m\u001b[42m \u001b[0m\u001b[42m \u001b[0m\u001b[42m \u001b[0m\u001b[42m \u001b[0m\u001b[42m \u001b[0m\u001b[42m \u001b[0m\u001b[42m \u001b[0m\u001b[42m \u001b[0m\u001b[42m \u001b[0m\u001b[42m \u001b[0m\u001b[42m \u001b[0m\u001b[42m \u001b[0m\u001b[42m \u001b[0m\u001b[42m \u001b[0m\u001b[42m \u001b[0m\u001b[42m \u001b[0m\u001b[42m \u001b[0m\u001b[42m \u001b[0m\u001b[42m \u001b[0m\u001b[42m \u001b[0m\u001b[42m \u001b[0m\u001b[42m \u001b[0m\u001b[42m \u001b[0m\u001b[42m \u001b[0m\u001b[42m \u001b[0m\u001b[42m \u001b[0m\u001b[41m \u001b[0m\u001b[42m \u001b[0m\u001b[42m \u001b[0m\u001b[42m \u001b[0m\u001b[42m \u001b[0m\u001b[42m \u001b[0m\u001b[42m \u001b[0m\u001b[42m \u001b[0m\u001b[42m \u001b[0m\u001b[42m \u001b[0m\u001b[42m \u001b[0m\u001b[42m \u001b[0m\u001b[42m \u001b[0m\u001b[42m \u001b[0m\u001b[42m \u001b[0m\u001b[42m \u001b[0m\u001b[42m \u001b[0m\u001b[42m \u001b[0m\u001b[42m \u001b[0m\u001b[42m \u001b[0m\u001b[42m \u001b[0m\n",
            "\u001b[42m \u001b[0m\u001b[42m \u001b[0m\u001b[42m \u001b[0m\u001b[42m \u001b[0m\u001b[42m \u001b[0m\u001b[42m \u001b[0m\u001b[42m \u001b[0m\u001b[42m \u001b[0m\u001b[42m \u001b[0m\u001b[42m \u001b[0m\u001b[42m \u001b[0m\u001b[42m \u001b[0m\u001b[42m \u001b[0m\u001b[41m \u001b[0m\u001b[42m \u001b[0m\u001b[42m \u001b[0m\u001b[42m \u001b[0m\u001b[42m \u001b[0m\u001b[42m \u001b[0m\u001b[42m \u001b[0m\u001b[42m \u001b[0m\u001b[42m \u001b[0m\u001b[42m \u001b[0m\u001b[42m \u001b[0m\u001b[42m \u001b[0m\u001b[42m \u001b[0m\u001b[42m \u001b[0m\u001b[42m \u001b[0m\u001b[42m \u001b[0m\u001b[42m \u001b[0m\u001b[42m \u001b[0m\u001b[42m \u001b[0m\u001b[42m \u001b[0m\u001b[42m \u001b[0m\u001b[42m \u001b[0m\u001b[42m \u001b[0m\u001b[42m \u001b[0m\u001b[42m \u001b[0m\u001b[42m \u001b[0m\u001b[42m \u001b[0m\u001b[42m \u001b[0m\u001b[42m \u001b[0m\u001b[42m \u001b[0m\u001b[42m \u001b[0m\u001b[42m \u001b[0m\u001b[42m \u001b[0m\u001b[42m \u001b[0m\u001b[42m \u001b[0m\u001b[42m \u001b[0m\u001b[42m \u001b[0m\n",
            "\u001b[42m \u001b[0m\u001b[42m \u001b[0m\u001b[42m \u001b[0m\u001b[42m \u001b[0m\u001b[41m \u001b[0m\u001b[42m \u001b[0m\u001b[42m \u001b[0m\u001b[42m \u001b[0m\u001b[42m \u001b[0m\u001b[42m \u001b[0m\u001b[42m \u001b[0m\u001b[42m \u001b[0m\u001b[42m \u001b[0m\u001b[42m \u001b[0m\u001b[42m \u001b[0m\u001b[42m \u001b[0m\u001b[42m \u001b[0m\u001b[42m \u001b[0m\u001b[42m \u001b[0m\u001b[42m \u001b[0m\u001b[42m \u001b[0m\u001b[42m \u001b[0m\u001b[42m \u001b[0m\u001b[42m \u001b[0m\u001b[42m \u001b[0m\u001b[42m \u001b[0m\u001b[42m \u001b[0m\u001b[42m \u001b[0m\u001b[42m \u001b[0m\u001b[42m \u001b[0m\u001b[42m \u001b[0m\u001b[42m \u001b[0m\u001b[42m \u001b[0m\u001b[42m \u001b[0m\u001b[42m \u001b[0m\u001b[42m \u001b[0m\u001b[42m \u001b[0m\u001b[42m \u001b[0m\u001b[42m \u001b[0m\u001b[42m \u001b[0m\u001b[41m \u001b[0m\u001b[42m \u001b[0m\u001b[42m \u001b[0m\u001b[42m \u001b[0m\u001b[42m \u001b[0m\u001b[42m \u001b[0m\u001b[42m \u001b[0m\u001b[42m \u001b[0m\u001b[42m \u001b[0m\u001b[42m \u001b[0m\n",
            "2023-10-08 19:09:27,675 - __main__ - INFO - Pre-training!\n",
            "2023-10-08 19:09:27,679 - util - INFO - Imported data/train/pt_itos.pkl\n",
            "2023-10-08 19:09:27,989 - util - INFO - Imported data/train/pt_train\n",
            "2023-10-08 19:09:27,995 - util - INFO - Imported data/train/pt_val\n",
            "2023-10-08 19:09:27,995 - util - INFO - Imported data/train/pt_params.pkl\n",
            "2023-10-08 19:09:28,037 - git.cmd - DEBUG - Popen(['git', 'rev-parse', '--show-toplevel'], cwd=/content/cgpos, universal_newlines=False, shell=None, istream=None)\n",
            "2023-10-08 19:09:28,039 - git.cmd - DEBUG - Popen(['git', 'rev-parse', '--show-toplevel'], cwd=/content/cgpos, universal_newlines=False, shell=None, istream=None)\n",
            "2023-10-08 19:09:28,056 - urllib3.connectionpool - DEBUG - Starting new HTTPS connection (1): api.wandb.ai:443\n",
            "2023-10-08 19:09:28,255 - urllib3.connectionpool - DEBUG - https://api.wandb.ai:443 \"POST /graphql HTTP/1.1\" 200 None\n",
            "2023-10-08 19:09:28,376 - urllib3.connectionpool - DEBUG - https://api.wandb.ai:443 \"POST /graphql HTTP/1.1\" 200 None\n",
            "\u001b[34m\u001b[1mwandb\u001b[0m: Currently logged in as: \u001b[33mtejomaygadgil\u001b[0m. Use \u001b[1m`wandb login --relogin`\u001b[0m to force relogin\n",
            "2023-10-08 19:09:28,385 - git.cmd - DEBUG - Popen(['git', 'cat-file', '--batch-check'], cwd=/content/cgpos, universal_newlines=False, shell=None, istream=<valid stream>)\n",
            "\u001b[34m\u001b[1mwandb\u001b[0m: Tracking run with wandb version 0.15.12\n",
            "\u001b[34m\u001b[1mwandb\u001b[0m: Run data is saved locally in \u001b[35m\u001b[1m/content/cgpos/wandb/run-20231008_190928-yz6zpopz\u001b[0m\n",
            "\u001b[34m\u001b[1mwandb\u001b[0m: Run \u001b[1m`wandb offline`\u001b[0m to turn off syncing.\n",
            "\u001b[34m\u001b[1mwandb\u001b[0m: Syncing run \u001b[33mrevived-deluge-20\u001b[0m\n",
            "\u001b[34m\u001b[1mwandb\u001b[0m: ⭐️ View project at \u001b[34m\u001b[4mhttps://wandb.ai/tejomaygadgil/ncgpos\u001b[0m\n",
            "\u001b[34m\u001b[1mwandb\u001b[0m: 🚀 View run at \u001b[34m\u001b[4mhttps://wandb.ai/tejomaygadgil/ncgpos/runs/yz6zpopz\u001b[0m\n",
            "  0% 0/10000 [00:00<?, ?it/s]2023-10-08 19:10:13,201 - numexpr.utils - INFO - NumExpr defaulting to 8 threads.\n",
            "2023-10-08 19:10:13,357 - __main__ - INFO - step 0: train loss 10.0300, val loss 10.0252\n",
            "2023-10-08 19:10:13,836 - __main__ - INFO - <UNK>κοῖτβρέγὶςλότῥῆξθρόγδἔΘΡΟὌγΑἶλεστὝδΣμερφρεῦσταθμάτΒὼβΝυσθᾠγλοιςζἐΦουλβλίςπτωςβλὰξθήλδεινθῄσθῶσμνηςἑν\n",
            "2023-10-08 19:13:23,105 - __main__ - INFO - step 500: train loss 3.6438, val loss 3.6789\n",
            "2023-10-08 19:13:23,595 - __main__ - INFO - <UNK> μοίσθαι , . γὰρ πᾶρου τοὺς ἐν θεβοῦσιν μὲν καὶ ὄδεις Δειμένων \n",
            "  5% 518/10000 [03:58<1:12:40,  2.17it/s]\n",
            "Traceback (most recent call last):\n",
            "  File \"/content/cgpos/src/train.py\", line 298, in <module>\n",
            "    pre_train()\n",
            "  File \"/content/cgpos/src/train.py\", line 147, in pre_train\n",
            "    loss.backward()\n",
            "  File \"/usr/local/lib/python3.10/dist-packages/torch/_tensor.py\", line 487, in backward\n",
            "    torch.autograd.backward(\n",
            "  File \"/usr/local/lib/python3.10/dist-packages/torch/autograd/__init__.py\", line 200, in backward\n",
            "    Variable._execution_engine.run_backward(  # Calls into the C++ engine to run the backward pass\n",
            "KeyboardInterrupt\n",
            "2023-10-08 19:13:29,283 - urllib3.connectionpool - DEBUG - Starting new HTTPS connection (1): o151352.ingest.sentry.io:443\n",
            "2023-10-08 19:13:29,376 - urllib3.connectionpool - DEBUG - https://o151352.ingest.sentry.io:443 \"POST /api/4504800232407040/envelope/ HTTP/1.1\" 200 0\n",
            "^C\n"
          ]
        }
      ],
      "source": [
        "!python src/train.py pre_train pt_cloud"
      ]
    }
  ],
  "metadata": {
    "accelerator": "GPU",
    "colab": {
      "gpuType": "V100",
      "machine_shape": "hm",
      "provenance": [],
      "include_colab_link": true
    },
    "kernelspec": {
      "display_name": "Python 3 (ipykernel)",
      "language": "python",
      "name": "python3"
    },
    "language_info": {
      "codemirror_mode": {
        "name": "ipython",
        "version": 3
      },
      "file_extension": ".py",
      "mimetype": "text/x-python",
      "name": "python",
      "nbconvert_exporter": "python",
      "pygments_lexer": "ipython3",
      "version": "3.11.5"
    }
  },
  "nbformat": 4,
  "nbformat_minor": 0
}