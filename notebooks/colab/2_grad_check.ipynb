{
  "cells": [
    {
      "cell_type": "markdown",
      "metadata": {
        "id": "view-in-github",
        "colab_type": "text"
      },
      "source": [
        "<a href=\"https://colab.research.google.com/github/tejomaygadgil/cgpos/blob/nn/notebooks/colab/2_grad_check.ipynb\" target=\"_parent\"><img src=\"https://colab.research.google.com/assets/colab-badge.svg\" alt=\"Open In Colab\"/></a>"
      ]
    },
    {
      "cell_type": "code",
      "execution_count": 1,
      "metadata": {
        "colab": {
          "base_uri": "https://localhost:8080/"
        },
        "id": "XS5ez-GXOw3d",
        "outputId": "01e6de80-492f-4aa8-8af5-6929d06125d9"
      },
      "outputs": [
        {
          "output_type": "stream",
          "name": "stdout",
          "text": [
            "Mounted at /content/drive\n"
          ]
        }
      ],
      "source": [
        "from google.colab import drive\n",
        "drive.mount('/content/drive')"
      ]
    },
    {
      "cell_type": "code",
      "execution_count": 2,
      "metadata": {
        "colab": {
          "base_uri": "https://localhost:8080/",
          "height": 816
        },
        "id": "qO7JFlmU0JjI",
        "outputId": "da3395e6-eb8f-4e13-96a5-ba9b2164c9c2"
      },
      "outputs": [
        {
          "output_type": "stream",
          "name": "stdout",
          "text": [
            "Collecting wandb\n",
            "  Downloading wandb-0.15.12-py3-none-any.whl (2.1 MB)\n",
            "\u001b[2K     \u001b[90m━━━━━━━━━━━━━━━━━━━━━━━━━━━━━━━━━━━━━━━━\u001b[0m \u001b[32m2.1/2.1 MB\u001b[0m \u001b[31m17.4 MB/s\u001b[0m eta \u001b[36m0:00:00\u001b[0m\n",
            "\u001b[?25hRequirement already satisfied: Click!=8.0.0,>=7.1 in /usr/local/lib/python3.10/dist-packages (from wandb) (8.1.7)\n",
            "Collecting GitPython!=3.1.29,>=1.0.0 (from wandb)\n",
            "  Downloading GitPython-3.1.37-py3-none-any.whl (190 kB)\n",
            "\u001b[2K     \u001b[90m━━━━━━━━━━━━━━━━━━━━━━━━━━━━━━━━━━━━━━\u001b[0m \u001b[32m190.0/190.0 kB\u001b[0m \u001b[31m23.1 MB/s\u001b[0m eta \u001b[36m0:00:00\u001b[0m\n",
            "\u001b[?25hRequirement already satisfied: requests<3,>=2.0.0 in /usr/local/lib/python3.10/dist-packages (from wandb) (2.31.0)\n",
            "Requirement already satisfied: psutil>=5.0.0 in /usr/local/lib/python3.10/dist-packages (from wandb) (5.9.5)\n",
            "Collecting sentry-sdk>=1.0.0 (from wandb)\n",
            "  Downloading sentry_sdk-1.31.0-py2.py3-none-any.whl (224 kB)\n",
            "\u001b[2K     \u001b[90m━━━━━━━━━━━━━━━━━━━━━━━━━━━━━━━━━━━━━━\u001b[0m \u001b[32m224.8/224.8 kB\u001b[0m \u001b[31m23.2 MB/s\u001b[0m eta \u001b[36m0:00:00\u001b[0m\n",
            "\u001b[?25hCollecting docker-pycreds>=0.4.0 (from wandb)\n",
            "  Downloading docker_pycreds-0.4.0-py2.py3-none-any.whl (9.0 kB)\n",
            "Requirement already satisfied: PyYAML in /usr/local/lib/python3.10/dist-packages (from wandb) (6.0.1)\n",
            "Collecting pathtools (from wandb)\n",
            "  Downloading pathtools-0.1.2.tar.gz (11 kB)\n",
            "  Preparing metadata (setup.py) ... \u001b[?25l\u001b[?25hdone\n",
            "Collecting setproctitle (from wandb)\n",
            "  Downloading setproctitle-1.3.3-cp310-cp310-manylinux_2_5_x86_64.manylinux1_x86_64.manylinux_2_17_x86_64.manylinux2014_x86_64.whl (30 kB)\n",
            "Requirement already satisfied: setuptools in /usr/local/lib/python3.10/dist-packages (from wandb) (67.7.2)\n",
            "Requirement already satisfied: appdirs>=1.4.3 in /usr/local/lib/python3.10/dist-packages (from wandb) (1.4.4)\n",
            "Requirement already satisfied: protobuf!=4.21.0,<5,>=3.19.0 in /usr/local/lib/python3.10/dist-packages (from wandb) (3.20.3)\n",
            "Requirement already satisfied: six>=1.4.0 in /usr/local/lib/python3.10/dist-packages (from docker-pycreds>=0.4.0->wandb) (1.16.0)\n",
            "Collecting gitdb<5,>=4.0.1 (from GitPython!=3.1.29,>=1.0.0->wandb)\n",
            "  Downloading gitdb-4.0.10-py3-none-any.whl (62 kB)\n",
            "\u001b[2K     \u001b[90m━━━━━━━━━━━━━━━━━━━━━━━━━━━━━━━━━━━━━━━━\u001b[0m \u001b[32m62.7/62.7 kB\u001b[0m \u001b[31m7.8 MB/s\u001b[0m eta \u001b[36m0:00:00\u001b[0m\n",
            "\u001b[?25hRequirement already satisfied: charset-normalizer<4,>=2 in /usr/local/lib/python3.10/dist-packages (from requests<3,>=2.0.0->wandb) (3.3.0)\n",
            "Requirement already satisfied: idna<4,>=2.5 in /usr/local/lib/python3.10/dist-packages (from requests<3,>=2.0.0->wandb) (3.4)\n",
            "Requirement already satisfied: urllib3<3,>=1.21.1 in /usr/local/lib/python3.10/dist-packages (from requests<3,>=2.0.0->wandb) (2.0.6)\n",
            "Requirement already satisfied: certifi>=2017.4.17 in /usr/local/lib/python3.10/dist-packages (from requests<3,>=2.0.0->wandb) (2023.7.22)\n",
            "Collecting smmap<6,>=3.0.1 (from gitdb<5,>=4.0.1->GitPython!=3.1.29,>=1.0.0->wandb)\n",
            "  Downloading smmap-5.0.1-py3-none-any.whl (24 kB)\n",
            "Building wheels for collected packages: pathtools\n",
            "  Building wheel for pathtools (setup.py) ... \u001b[?25l\u001b[?25hdone\n",
            "  Created wheel for pathtools: filename=pathtools-0.1.2-py3-none-any.whl size=8791 sha256=bf98e32f63c01ccc3bc34609b14cb547e7c97719d442fabb1be299f85a582392\n",
            "  Stored in directory: /root/.cache/pip/wheels/e7/f3/22/152153d6eb222ee7a56ff8617d80ee5207207a8c00a7aab794\n",
            "Successfully built pathtools\n",
            "Installing collected packages: pathtools, smmap, setproctitle, sentry-sdk, docker-pycreds, gitdb, GitPython, wandb\n",
            "Successfully installed GitPython-3.1.37 docker-pycreds-0.4.0 gitdb-4.0.10 pathtools-0.1.2 sentry-sdk-1.31.0 setproctitle-1.3.3 smmap-5.0.1 wandb-0.15.12\n"
          ]
        },
        {
          "output_type": "display_data",
          "data": {
            "text/plain": [
              "<IPython.core.display.Javascript object>"
            ],
            "application/javascript": [
              "\n",
              "        window._wandbApiKey = new Promise((resolve, reject) => {\n",
              "            function loadScript(url) {\n",
              "            return new Promise(function(resolve, reject) {\n",
              "                let newScript = document.createElement(\"script\");\n",
              "                newScript.onerror = reject;\n",
              "                newScript.onload = resolve;\n",
              "                document.body.appendChild(newScript);\n",
              "                newScript.src = url;\n",
              "            });\n",
              "            }\n",
              "            loadScript(\"https://cdn.jsdelivr.net/npm/postmate/build/postmate.min.js\").then(() => {\n",
              "            const iframe = document.createElement('iframe')\n",
              "            iframe.style.cssText = \"width:0;height:0;border:none\"\n",
              "            document.body.appendChild(iframe)\n",
              "            const handshake = new Postmate({\n",
              "                container: iframe,\n",
              "                url: 'https://wandb.ai/authorize'\n",
              "            });\n",
              "            const timeout = setTimeout(() => reject(\"Couldn't auto authenticate\"), 5000)\n",
              "            handshake.then(function(child) {\n",
              "                child.on('authorize', data => {\n",
              "                    clearTimeout(timeout)\n",
              "                    resolve(data)\n",
              "                });\n",
              "            });\n",
              "            })\n",
              "        });\n",
              "    "
            ]
          },
          "metadata": {}
        },
        {
          "output_type": "stream",
          "name": "stderr",
          "text": [
            "\u001b[34m\u001b[1mwandb\u001b[0m: Logging into wandb.ai. (Learn how to deploy a W&B server locally: https://wandb.me/wandb-server)\n",
            "\u001b[34m\u001b[1mwandb\u001b[0m: You can find your API key in your browser here: https://wandb.ai/authorize\n",
            "wandb: Paste an API key from your profile and hit enter, or press ctrl+c to quit:"
          ]
        },
        {
          "name": "stdout",
          "output_type": "stream",
          "text": [
            " ··········\n"
          ]
        },
        {
          "output_type": "stream",
          "name": "stderr",
          "text": [
            "\u001b[34m\u001b[1mwandb\u001b[0m: Appending key for api.wandb.ai to your netrc file: /root/.netrc\n"
          ]
        },
        {
          "output_type": "execute_result",
          "data": {
            "text/plain": [
              "True"
            ]
          },
          "metadata": {},
          "execution_count": 2
        }
      ],
      "source": [
        "!pip install wandb\n",
        "import wandb\n",
        "wandb.login()"
      ]
    },
    {
      "cell_type": "code",
      "execution_count": 3,
      "metadata": {
        "colab": {
          "base_uri": "https://localhost:8080/"
        },
        "id": "vLVs6-8SdW16",
        "outputId": "59d109fb-0cab-4bd3-e6ac-1cbecb35244e"
      },
      "outputs": [
        {
          "output_type": "stream",
          "name": "stdout",
          "text": [
            "Cloning into 'cgpos'...\n",
            "remote: Enumerating objects: 2477, done.\u001b[K\n",
            "remote: Counting objects: 100% (455/455), done.\u001b[K\n",
            "remote: Compressing objects: 100% (213/213), done.\u001b[K\n",
            "remote: Total 2477 (delta 315), reused 372 (delta 238), pack-reused 2022\u001b[K\n",
            "Receiving objects: 100% (2477/2477), 101.92 MiB | 33.75 MiB/s, done.\n",
            "Resolving deltas: 100% (1561/1561), done.\n",
            "Collecting git+https://github.com/jtauber/greek-accentuation.git\n",
            "  Cloning https://github.com/jtauber/greek-accentuation.git to /tmp/pip-req-build-23tamlq5\n",
            "  Running command git clone --filter=blob:none --quiet https://github.com/jtauber/greek-accentuation.git /tmp/pip-req-build-23tamlq5\n",
            "  Resolved https://github.com/jtauber/greek-accentuation.git to commit 15ac5fd1cc82c8f9b91a4041f9b64399c9552097\n",
            "  Preparing metadata (setup.py) ... \u001b[?25l\u001b[?25hdone\n",
            "Collecting beta-code\n",
            "  Downloading beta_code-1.1.0-py3-none-any.whl (8.4 kB)\n",
            "Building wheels for collected packages: greek-accentuation\n",
            "  Building wheel for greek-accentuation (setup.py) ... \u001b[?25l\u001b[?25hdone\n",
            "  Created wheel for greek-accentuation: filename=greek_accentuation-1.2.0-py2.py3-none-any.whl size=7639 sha256=f45084cf19d10d7081ea995912cafaf0a3db0bcb955b9fbafb567d389350e694\n",
            "  Stored in directory: /tmp/pip-ephem-wheel-cache-6da9m0st/wheels/31/68/a9/73949cf9e13b5f173b691a48aef7e9d728d04178209d0ae649\n",
            "Successfully built greek-accentuation\n",
            "Installing collected packages: beta-code, greek-accentuation\n",
            "Successfully installed beta-code-1.1.0 greek-accentuation-1.2.0\n",
            "/content/cgpos\n",
            "mkdir -p data/zip\n",
            "mkdir -p data/raw\n",
            "mkdir -p data/processed\n",
            "mkdir -p data/interim\n",
            "mkdir -p data/reference\n",
            "mkdir -p data/train\n",
            "Initializing data directory\n"
          ]
        }
      ],
      "source": [
        "!git clone -b nn https://github.com/tejomaygadgil/cgpos.git\n",
        "!pip install git+https://github.com/jtauber/greek-accentuation.git beta-code\n",
        "%cd /content/cgpos\n",
        "!make init_data_dir"
      ]
    },
    {
      "cell_type": "code",
      "execution_count": 19,
      "metadata": {
        "colab": {
          "base_uri": "https://localhost:8080/"
        },
        "id": "-YXMtnCWpZc6",
        "outputId": "38166adb-ef1c-4fcc-c3b6-ac88c3990106"
      },
      "outputs": [
        {
          "output_type": "stream",
          "name": "stdout",
          "text": [
            "remote: Enumerating objects: 7, done.\u001b[K\n",
            "remote: Counting objects:  14% (1/7)\u001b[K\rremote: Counting objects:  28% (2/7)\u001b[K\rremote: Counting objects:  42% (3/7)\u001b[K\rremote: Counting objects:  57% (4/7)\u001b[K\rremote: Counting objects:  71% (5/7)\u001b[K\rremote: Counting objects:  85% (6/7)\u001b[K\rremote: Counting objects: 100% (7/7)\u001b[K\rremote: Counting objects: 100% (7/7), done.\u001b[K\n",
            "remote: Compressing objects: 100% (1/1)\u001b[K\rremote: Compressing objects: 100% (1/1), done.\u001b[K\n",
            "remote: Total 4 (delta 3), reused 4 (delta 3), pack-reused 0\u001b[K\n",
            "Unpacking objects:  25% (1/4)\rUnpacking objects:  50% (2/4)\rUnpacking objects:  75% (3/4)\rUnpacking objects: 100% (4/4)\rUnpacking objects: 100% (4/4), 372 bytes | 372.00 KiB/s, done.\n",
            "From https://github.com/tejomaygadgil/cgpos\n",
            "   653e2c5..f9940d8  nn         -> origin/nn\n",
            "Updating 653e2c5..f9940d8\n",
            "Fast-forward\n",
            " src/train_check.py | 1 \u001b[32m+\u001b[m\n",
            " 1 file changed, 1 insertion(+)\n"
          ]
        }
      ],
      "source": [
        "!git pull"
      ]
    },
    {
      "cell_type": "code",
      "execution_count": 20,
      "metadata": {
        "colab": {
          "base_uri": "https://localhost:8080/"
        },
        "id": "L7vgvahtYZD_",
        "outputId": "fffc1042-4cea-4298-ec1a-7b49c2601a84"
      },
      "outputs": [
        {
          "output_type": "stream",
          "name": "stdout",
          "text": [
            "2023-10-09 16:35:31,885 - __main__ - INFO - Checking zero loss:\n",
            "2023-10-09 16:35:36,709 - util - INFO - Imported /content/drive/MyDrive/Colab Notebooks/pt_syl.pkl\n",
            "2023-10-09 16:35:37,321 - __main__ - INFO - vocab_size: 198\n",
            "2023-10-09 16:35:37,322 - __main__ - INFO - data len : torch.Size([500])\n",
            "2023-10-09 16:35:37,324 - __main__ - INFO - data: tensor([  8,  32,   0, 179, 115,   0,  40,  57, 158,   0, 114,  67,   0,   1,\n",
            "          0, 178, 138, 119, 171,   0, 187,   0,  37,  62, 131,   0,   1,   0,\n",
            "         74, 147,   0,   9,  86,  54,   0, 187,   0, 114,  67,   0,   1,   0,\n",
            "          5,  12, 171,   0, 191,   0,  33,  79,   0, 103, 140,   0,   3,   0,\n",
            "         22,  28,  79,   0,  65,  82,   0, 181,   0,  56, 116,   0, 109, 153,\n",
            "          0,   1,   0, 186, 118,  76,   0,  50, 171,   0, 157,   0, 102,  59,\n",
            "         15,   0,   2,   0, 189,  45,   0,  17,   0, 191,   0,  56, 112,   0,\n",
            "         47, 154,   0, 110, 127,   0, 179, 115,   0,  24,  96, 195,   0,  51,\n",
            "         60,  88, 142,   0,   1,   0, 137,  76,   0,  25, 145, 123,   0, 190,\n",
            "        126, 125,  52,   0,   1,   0,  48,   0, 157,   0, 193,  29,   0,  11,\n",
            "         43,   0,  35, 121,   0,   1,   0,  48,   0,  13,  88, 142,   0, 152,\n",
            "          0,  65,  73,  92,   0, 174,  68,   0,  65,  75,   0,   1,   0, 194,\n",
            "          0, 168,  72,  36,   0,  81,   0, 143, 158,   0, 155,   0, 192,  46,\n",
            "         23,   0, 181,   0,  14,  58,  95,   0,   1,   0,  41, 119,  36,   0,\n",
            "         31,   0, 152,   0,  65,  73,  92,   0, 182,   0, 157,   0, 113,  56,\n",
            "        107,  98,   0,   2,   0, 185, 144,  40,   0, 188,  54,   0, 180,   0,\n",
            "        111,  70,   0, 168,  84,  92,   0, 139, 136,   0, 183,  44,  98,   0,\n",
            "        179,  77, 152,   0, 159,   0, 160,   0,   9,  86,  54,   0,  41, 197,\n",
            "          0,   3,   0, 177, 135, 146,   0,  10, 156,   0, 100,   0,   8,  30,\n",
            "         91,  97,   0,  47,  70, 132,   0,   2,   0,   7, 122, 172, 196,   0,\n",
            "        101,   0,  48,   0, 156,   0, 174,  64,   0, 114,  66,   0,  48,   0,\n",
            "        105, 122, 134, 117,   0, 154,   0, 173,  87,  39,  76, 141,   0,   1,\n",
            "          0, 191, 130,   0,  16, 165,   0, 173,  87,  49,  73,  90,   0,  19,\n",
            "          0, 176,  76,   0,  48,   0,  40,  57, 148,   0,   2,   0,   4, 126,\n",
            "        106,   0, 187,   0,  16, 163,   0,   1,   0,   9,  86,  54,   0, 187,\n",
            "          0,  37,  62, 131,   0,   1,   0,   8,  34,  92,   0, 187,   0,  18,\n",
            "          0,   2,   0, 185,   0, 159,   0,  20,   0,  63,  83,   0,  48,   0,\n",
            "        169, 128,   0, 104,  38,  93,   0,   3,   0, 181,   0, 159,   0,  40,\n",
            "         57, 158,   0, 144, 124,   0, 179,  85, 167, 149,   0,   1,   0,  48,\n",
            "          0, 151,   0,  94, 150,   0,  47,  71,   0, 104,  38,  92,   0, 179,\n",
            "        105,  46,  42, 149,   0,   1,   0, 179, 115,   0,   6, 146,   0, 161,\n",
            "          0, 143, 129,   0, 108,  99, 131,   0,   2,   0, 184,  55,  76,   0,\n",
            "        111,  69,   0, 175,  41, 133,   0, 191,   0,  63,  80,   0,   1,   0,\n",
            "         21,  27,   0,  10, 151,   0, 173,  88,  73,  78,  53,   0, 162,  61,\n",
            "          0,  48,   0, 164, 160,   0,   3,   0, 138,  88, 170,   0, 154,   0,\n",
            "         21,  26,   0,   1,   0, 138,  89, 120, 166,   0])\n",
            "2023-10-09 16:35:47,822 - __main__ - INFO - Step 0 - loss: train 5.557\n",
            "2023-10-09 16:36:28,137 - __main__ - INFO - Step 250 - loss: train 3.203\n",
            "2023-10-09 16:37:08,599 - __main__ - INFO - Step 500 - loss: train 1.401\n",
            "2023-10-09 16:37:49,049 - __main__ - INFO - Step 750 - loss: train 0.714\n",
            "2023-10-09 16:38:29,505 - __main__ - INFO - Step 1000 - loss: train 0.221\n",
            "2023-10-09 16:39:10,019 - __main__ - INFO - Step 1250 - loss: train 0.018\n",
            "2023-10-09 16:39:50,510 - __main__ - INFO - Step 1500 - loss: train 0.009\n",
            "2023-10-09 16:40:30,995 - __main__ - INFO - Step 1750 - loss: train 0.008\n",
            "2023-10-09 16:41:11,486 - __main__ - INFO - Step 2000 - loss: train 0.008\n",
            "2023-10-09 16:41:51,986 - __main__ - INFO - Step 2250 - loss: train 0.008\n",
            "2023-10-09 16:42:32,499 - __main__ - INFO - Step 2500 - loss: train 0.008\n",
            "2023-10-09 16:43:13,016 - __main__ - INFO - Step 2750 - loss: train 0.007\n",
            "2023-10-09 16:43:53,493 - __main__ - INFO - Step 3000 - loss: train 0.008\n",
            "2023-10-09 16:44:33,981 - __main__ - INFO - Step 3250 - loss: train 0.007\n",
            "2023-10-09 16:45:14,486 - __main__ - INFO - Step 3500 - loss: train 0.008\n",
            "2023-10-09 16:45:54,957 - __main__ - INFO - Step 3750 - loss: train 0.007\n",
            "2023-10-09 16:46:35,516 - __main__ - INFO - Step 4000 - loss: train 0.007\n",
            "2023-10-09 16:47:16,019 - __main__ - INFO - Step 4250 - loss: train 0.007\n",
            "2023-10-09 16:47:56,452 - __main__ - INFO - Step 4500 - loss: train 0.007\n",
            "2023-10-09 16:48:36,916 - __main__ - INFO - Step 4750 - loss: train 0.007\n",
            "100% 5000/5000 [13:29<00:00,  6.17it/s]\n"
          ]
        }
      ],
      "source": [
        "!python src/train_check.py zero_loss_check"
      ]
    }
  ],
  "metadata": {
    "accelerator": "GPU",
    "colab": {
      "gpuType": "V100",
      "machine_shape": "hm",
      "provenance": [],
      "include_colab_link": true
    },
    "kernelspec": {
      "display_name": "Python 3 (ipykernel)",
      "language": "python",
      "name": "python3"
    },
    "language_info": {
      "codemirror_mode": {
        "name": "ipython",
        "version": 3
      },
      "file_extension": ".py",
      "mimetype": "text/x-python",
      "name": "python",
      "nbconvert_exporter": "python",
      "pygments_lexer": "ipython3",
      "version": "3.11.5"
    }
  },
  "nbformat": 4,
  "nbformat_minor": 0
}