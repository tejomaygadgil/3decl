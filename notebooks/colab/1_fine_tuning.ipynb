{
  "cells": [
    {
      "cell_type": "markdown",
      "id": "4dc2d7bd-f0b2-4012-84d6-006406ae707c",
      "metadata": {
        "tags": [],
        "id": "4dc2d7bd-f0b2-4012-84d6-006406ae707c"
      },
      "source": [
        "<a href=\"https://colab.research.google.com/github/tejomaygadgil/cgpos/blob/nn/notebooks/colab/1_fine_tuning.ipynb\" target=\"_parent\"><img src=\"https://colab.research.google.com/assets/colab-badge.svg\" alt=\"Open In Colab\"/></a>"
      ]
    },
    {
      "cell_type": "code",
      "source": [
        "from google.colab import drive\n",
        "drive.mount('/content/drive')"
      ],
      "metadata": {
        "colab": {
          "base_uri": "https://localhost:8080/"
        },
        "id": "E5Op3eRH6CJW",
        "outputId": "c240159e-ad3f-4841-fe65-2dd040c0cddc"
      },
      "id": "E5Op3eRH6CJW",
      "execution_count": 2,
      "outputs": [
        {
          "output_type": "stream",
          "name": "stdout",
          "text": [
            "Mounted at /content/drive\n"
          ]
        }
      ]
    },
    {
      "cell_type": "code",
      "execution_count": 1,
      "id": "073b0da2-89d3-453f-aa3b-bfa840e42ea1",
      "metadata": {
        "colab": {
          "base_uri": "https://localhost:8080/"
        },
        "id": "073b0da2-89d3-453f-aa3b-bfa840e42ea1",
        "outputId": "f81ff1cd-6656-4eb2-9f39-5286ad844fa2"
      },
      "outputs": [
        {
          "output_type": "stream",
          "name": "stdout",
          "text": [
            "Cloning into 'cgpos'...\n",
            "remote: Enumerating objects: 2223, done.\u001b[K\n",
            "remote: Counting objects: 100% (201/201), done.\u001b[K\n",
            "remote: Compressing objects: 100% (120/120), done.\u001b[K\n",
            "remote: Total 2223 (delta 132), reused 140 (delta 77), pack-reused 2022\u001b[K\n",
            "Receiving objects: 100% (2223/2223), 101.86 MiB | 21.95 MiB/s, done.\n",
            "Resolving deltas: 100% (1378/1378), done.\n",
            "Collecting git+https://github.com/jtauber/greek-accentuation.git\n",
            "  Cloning https://github.com/jtauber/greek-accentuation.git to /tmp/pip-req-build-2prae9zf\n",
            "  Running command git clone --filter=blob:none --quiet https://github.com/jtauber/greek-accentuation.git /tmp/pip-req-build-2prae9zf\n",
            "  Resolved https://github.com/jtauber/greek-accentuation.git to commit 15ac5fd1cc82c8f9b91a4041f9b64399c9552097\n",
            "  Preparing metadata (setup.py) ... \u001b[?25l\u001b[?25hdone\n",
            "Collecting beta-code\n",
            "  Downloading beta_code-1.1.0-py3-none-any.whl (8.4 kB)\n",
            "Building wheels for collected packages: greek-accentuation\n",
            "  Building wheel for greek-accentuation (setup.py) ... \u001b[?25l\u001b[?25hdone\n",
            "  Created wheel for greek-accentuation: filename=greek_accentuation-1.2.0-py2.py3-none-any.whl size=7639 sha256=ae4577c78b0bf7879d324588f496948e5f94b8cf3a346f300cea18a92c574b75\n",
            "  Stored in directory: /tmp/pip-ephem-wheel-cache-cm4cut9o/wheels/31/68/a9/73949cf9e13b5f173b691a48aef7e9d728d04178209d0ae649\n",
            "Successfully built greek-accentuation\n",
            "Installing collected packages: beta-code, greek-accentuation\n",
            "Successfully installed beta-code-1.1.0 greek-accentuation-1.2.0\n",
            "/content/cgpos\n",
            "mkdir -p data/zip\n",
            "mkdir -p data/raw\n",
            "mkdir -p data/processed\n",
            "mkdir -p data/interim\n",
            "mkdir -p data/reference\n",
            "Initializing data directory\n",
            "Grabbing Perseus data\n",
            "curl -C - -Lo data/zip/perseus.zip https://github.com/PerseusDL/treebank_data/archive/master.zip\n",
            "  % Total    % Received % Xferd  Average Speed   Time    Time     Time  Current\n",
            "                                 Dload  Upload   Total   Spent    Left  Speed\n",
            "  0     0    0     0    0     0      0      0 --:--:-- --:--:-- --:--:--     0\n",
            "100 40.8M    0 40.8M    0     0  4533k      0 --:--:--  0:00:09 --:--:-- 4669k\n",
            "unzip data/zip/perseus.zip -d data/raw\n",
            "Archive:  data/zip/perseus.zip\n",
            "92de910336e5ea20e9acafbd82be9ad937d53000\n",
            "   creating: data/raw/treebank_data-master/\n",
            "   creating: data/raw/treebank_data-master/AGDT2/\n",
            "   creating: data/raw/treebank_data-master/AGDT2/corpus/\n",
            "  inflating: data/raw/treebank_data-master/AGDT2/corpus/liveannotations.md  \n",
            "  inflating: data/raw/treebank_data-master/AGDT2/corpus/readme.md  \n",
            "   creating: data/raw/treebank_data-master/AGDT2/corpus/stableannotations/\n",
            "   creating: data/raw/treebank_data-master/AGDT2/corpus/stableannotations/Aesop/\n",
            "   creating: data/raw/treebank_data-master/AGDT2/corpus/stableannotations/Aesop/Aesop_1-8/\n",
            "  inflating: data/raw/treebank_data-master/AGDT2/corpus/stableannotations/Aesop/Aesop_1-8/Aesop_1-8.xml  \n",
            "  inflating: data/raw/treebank_data-master/AGDT2/corpus/stableannotations/Aesop/Aesop_1-8/inter-coder_agreement_1-8.md  \n",
            "  inflating: data/raw/treebank_data-master/AGDT2/corpus/stableannotations/Aesop/Aesop_1-8/text_1st_annotator_1-8.xml  \n",
            "  inflating: data/raw/treebank_data-master/AGDT2/corpus/stableannotations/Aesop/Aesop_1-8/text_2nd_annotator_1-8.xml  \n",
            "   creating: data/raw/treebank_data-master/AGDT2/corpus/stableannotations/Aesop/Aesop_31-50/\n",
            "  inflating: data/raw/treebank_data-master/AGDT2/corpus/stableannotations/Aesop/Aesop_31-50/Aesop_31-50.xml  \n",
            "  inflating: data/raw/treebank_data-master/AGDT2/corpus/stableannotations/Aesop/Aesop_31-50/Aesop_31-50_xml.xml  \n",
            "  inflating: data/raw/treebank_data-master/AGDT2/corpus/stableannotations/Aesop/Aesop_31-50/inter-coder_agreement_31-50.md  \n",
            "  inflating: data/raw/treebank_data-master/AGDT2/corpus/stableannotations/Aesop/Aesop_31-50/text_1st_annotator_31-50.xml  \n",
            "  inflating: data/raw/treebank_data-master/AGDT2/corpus/stableannotations/Aesop/Aesop_31-50/text_2nd_annotator_31-50.xml  \n",
            "   creating: data/raw/treebank_data-master/AGDT2/corpus/stableannotations/Aesop/Aesop_9-30/\n",
            "  inflating: data/raw/treebank_data-master/AGDT2/corpus/stableannotations/Aesop/Aesop_9-30/Aesop_9-30.xml  \n",
            "  inflating: data/raw/treebank_data-master/AGDT2/corpus/stableannotations/Aesop/Aesop_9-30/inter-coder_agreement_9-30.md  \n",
            "  inflating: data/raw/treebank_data-master/AGDT2/corpus/stableannotations/Aesop/Aesop_9-30/text_1st_annotator_9-30.xml  \n",
            "  inflating: data/raw/treebank_data-master/AGDT2/corpus/stableannotations/Aesop/Aesop_9-30/text_2nd_annotator_9-30.xml  \n",
            "   creating: data/raw/treebank_data-master/AGDT2/corpus/stableannotations/P-Apollodorus/\n",
            "   creating: data/raw/treebank_data-master/AGDT2/corpus/stableannotations/P-Apollodorus/P-Apollodorus_1.1.1-1.4.1/\n",
            "  inflating: data/raw/treebank_data-master/AGDT2/corpus/stableannotations/P-Apollodorus/P-Apollodorus_1.1.1-1.4.1/P-Apollodorus_1.1.1-1.4.1.xml  \n",
            "  inflating: data/raw/treebank_data-master/AGDT2/corpus/stableannotations/P-Apollodorus/P-Apollodorus_1.1.1-1.4.1/inter-coder_agreement_1.1.1-1.4.1.md  \n",
            "  inflating: data/raw/treebank_data-master/AGDT2/corpus/stableannotations/P-Apollodorus/P-Apollodorus_1.1.1-1.4.1/text_1st_annotator_1.1.1-1.4.1.xml  \n",
            "  inflating: data/raw/treebank_data-master/AGDT2/corpus/stableannotations/P-Apollodorus/P-Apollodorus_1.1.1-1.4.1/text_2nd_annotator_1.1.1-1.4.1.xml  \n",
            "  inflating: data/raw/treebank_data-master/AGDT2/corpus/stableannotations/readme.md  \n",
            "   creating: data/raw/treebank_data-master/AGDT2/guidelines/\n",
            "  inflating: data/raw/treebank_data-master/AGDT2/guidelines/Greek_guidelines.html  \n",
            "  inflating: data/raw/treebank_data-master/AGDT2/guidelines/Greek_guidelines.md  \n",
            "  inflating: data/raw/treebank_data-master/AGDT2/guidelines/readme.md  \n",
            "  inflating: data/raw/treebank_data-master/AGDT2/readme.md  \n",
            "  inflating: data/raw/treebank_data-master/Gemfile  \n",
            "   creating: data/raw/treebank_data-master/IGDS/\n",
            "  inflating: data/raw/treebank_data-master/IGDS/IGDS_I_10_treebank.xml  \n",
            "  inflating: data/raw/treebank_data-master/IGDS/IGDS_I_11_treebank.xml  \n",
            "  inflating: data/raw/treebank_data-master/IGDS/IGDS_I_12_treebank.xml  \n",
            "  inflating: data/raw/treebank_data-master/IGDS/IGDS_I_13_treebank.xml  \n",
            "  inflating: data/raw/treebank_data-master/IGDS/IGDS_I_14a_treebank.xml  \n",
            "  inflating: data/raw/treebank_data-master/IGDS/IGDS_I_14b_treebank.xml  \n",
            "  inflating: data/raw/treebank_data-master/IGDS/IGDS_I_16_treebank.xml  \n",
            "  inflating: data/raw/treebank_data-master/IGDS/IGDS_I_17a_treebank.xml  \n",
            "  inflating: data/raw/treebank_data-master/IGDS/IGDS_I_17b_treebank.xml  \n",
            "  inflating: data/raw/treebank_data-master/IGDS/IGDS_I_1_treebank.xml  \n",
            "  inflating: data/raw/treebank_data-master/IGDS/IGDS_I_2_treebank.xml  \n",
            "  inflating: data/raw/treebank_data-master/IGDS/IGDS_I_4a_treebank.xml  \n",
            "  inflating: data/raw/treebank_data-master/IGDS/IGDS_I_4b_treebank.xml  \n",
            "  inflating: data/raw/treebank_data-master/IGDS/IGDS_I_5a_treebank.xml  \n",
            "  inflating: data/raw/treebank_data-master/IGDS/IGDS_I_5b_treebank.xml  \n",
            "  inflating: data/raw/treebank_data-master/IGDS/IGDS_I_6_treebank.xml  \n",
            "  inflating: data/raw/treebank_data-master/IGDS/IGDS_I_7_treebank.xml  \n",
            "  inflating: data/raw/treebank_data-master/IGDS/IGDS_I_8_treebank.xml  \n",
            "  inflating: data/raw/treebank_data-master/IGDS/IGDS_I_9_treebank.xml  \n",
            "  inflating: data/raw/treebank_data-master/IGDS/README.md  \n",
            "  inflating: data/raw/treebank_data-master/README.md  \n",
            "  inflating: data/raw/treebank_data-master/Rakefile  \n",
            "  inflating: data/raw/treebank_data-master/relatedTechnologies.md  \n",
            "   creating: data/raw/treebank_data-master/transformations/\n",
            "  inflating: data/raw/treebank_data-master/transformations/stripannotations.xsl  \n",
            "   creating: data/raw/treebank_data-master/v1.6/\n",
            "  inflating: data/raw/treebank_data-master/v1.6/README.md  \n",
            "   creating: data/raw/treebank_data-master/v1.6/greek/\n",
            "   creating: data/raw/treebank_data-master/v1.6/greek/data/\n",
            "  inflating: data/raw/treebank_data-master/v1.6/greek/data/tlg0003.tlg001.perseus-grc1.1.tb.xml  \n",
            "  inflating: data/raw/treebank_data-master/v1.6/greek/data/tlg0007.tlg004.perseus-grc1.tb.xml  \n",
            "  inflating: data/raw/treebank_data-master/v1.6/greek/data/tlg0007.tlg015.perseus-grc1.tb.xml  \n",
            "  inflating: data/raw/treebank_data-master/v1.6/greek/data/tlg0008.tlg001.perseus-grc1.12.tb.xml  \n",
            "  inflating: data/raw/treebank_data-master/v1.6/greek/data/tlg0008.tlg001.perseus-grc1.13.tb.xml  \n",
            "  inflating: data/raw/treebank_data-master/v1.6/greek/data/tlg0008.tlg001.perseus-grc1.tb.xml  \n",
            "  inflating: data/raw/treebank_data-master/v1.6/greek/data/tlg0011.tlg001.perseus-grc2.tb.xml  \n",
            "  inflating: data/raw/treebank_data-master/v1.6/greek/data/tlg0011.tlg002.perseus-grc2.tb.xml  \n",
            "  inflating: data/raw/treebank_data-master/v1.6/greek/data/tlg0011.tlg003.perseus-grc1.tb.xml  \n",
            "  inflating: data/raw/treebank_data-master/v1.6/greek/data/tlg0011.tlg004.perseus-grc1.tb.xml  \n",
            "  inflating: data/raw/treebank_data-master/v1.6/greek/data/tlg0011.tlg005.perseus-grc2.tb.xml  \n",
            "  inflating: data/raw/treebank_data-master/v1.6/greek/data/tlg0012.tlg001.perseus-grc1_1.tb.xml  \n",
            "  inflating: data/raw/treebank_data-master/v1.6/greek/data/tlg0012.tlg001.perseus-grc1_10.tb.xml  \n",
            "  inflating: data/raw/treebank_data-master/v1.6/greek/data/tlg0012.tlg001.perseus-grc1_11.tb.xml  \n",
            "  inflating: data/raw/treebank_data-master/v1.6/greek/data/tlg0012.tlg001.perseus-grc1_12.tb.xml  \n",
            "  inflating: data/raw/treebank_data-master/v1.6/greek/data/tlg0012.tlg001.perseus-grc1_13.tb.xml  \n",
            "  inflating: data/raw/treebank_data-master/v1.6/greek/data/tlg0012.tlg001.perseus-grc1_14.tb.xml  \n",
            "  inflating: data/raw/treebank_data-master/v1.6/greek/data/tlg0012.tlg001.perseus-grc1_15.tb.xml  \n",
            "  inflating: data/raw/treebank_data-master/v1.6/greek/data/tlg0012.tlg001.perseus-grc1_16.tb.xml  \n",
            "  inflating: data/raw/treebank_data-master/v1.6/greek/data/tlg0012.tlg001.perseus-grc1_17.tb.xml  \n",
            "  inflating: data/raw/treebank_data-master/v1.6/greek/data/tlg0012.tlg001.perseus-grc1_18.tb.xml  \n",
            "  inflating: data/raw/treebank_data-master/v1.6/greek/data/tlg0012.tlg001.perseus-grc1_19.tb.xml  \n",
            "  inflating: data/raw/treebank_data-master/v1.6/greek/data/tlg0012.tlg001.perseus-grc1_2.tb.xml  \n",
            "  inflating: data/raw/treebank_data-master/v1.6/greek/data/tlg0012.tlg001.perseus-grc1_20.tb.xml  \n",
            "  inflating: data/raw/treebank_data-master/v1.6/greek/data/tlg0012.tlg001.perseus-grc1_21.tb.xml  \n",
            "  inflating: data/raw/treebank_data-master/v1.6/greek/data/tlg0012.tlg001.perseus-grc1_22.tb.xml  \n",
            "  inflating: data/raw/treebank_data-master/v1.6/greek/data/tlg0012.tlg001.perseus-grc1_23.tb.xml  \n",
            "  inflating: data/raw/treebank_data-master/v1.6/greek/data/tlg0012.tlg001.perseus-grc1_24.tb.xml  \n",
            "  inflating: data/raw/treebank_data-master/v1.6/greek/data/tlg0012.tlg001.perseus-grc1_3.tb.xml  \n",
            "  inflating: data/raw/treebank_data-master/v1.6/greek/data/tlg0012.tlg001.perseus-grc1_4.tb.xml  \n",
            "  inflating: data/raw/treebank_data-master/v1.6/greek/data/tlg0012.tlg001.perseus-grc1_5.tb.xml  \n",
            "  inflating: data/raw/treebank_data-master/v1.6/greek/data/tlg0012.tlg001.perseus-grc1_6.tb.xml  \n",
            "  inflating: data/raw/treebank_data-master/v1.6/greek/data/tlg0012.tlg001.perseus-grc1_7.tb.xml  \n",
            "  inflating: data/raw/treebank_data-master/v1.6/greek/data/tlg0012.tlg001.perseus-grc1_8.tb.xml  \n",
            "  inflating: data/raw/treebank_data-master/v1.6/greek/data/tlg0012.tlg001.perseus-grc1_9.tb.xml  \n",
            "  inflating: data/raw/treebank_data-master/v1.6/greek/data/tlg0012.tlg002.perseus-grc1_1.tb.xml  \n",
            "  inflating: data/raw/treebank_data-master/v1.6/greek/data/tlg0012.tlg002.perseus-grc1_10.tb.xml  \n",
            "  inflating: data/raw/treebank_data-master/v1.6/greek/data/tlg0012.tlg002.perseus-grc1_11.tb.xml  \n",
            "  inflating: data/raw/treebank_data-master/v1.6/greek/data/tlg0012.tlg002.perseus-grc1_12.tb.xml  \n",
            "  inflating: data/raw/treebank_data-master/v1.6/greek/data/tlg0012.tlg002.perseus-grc1_13.tb.xml  \n",
            "  inflating: data/raw/treebank_data-master/v1.6/greek/data/tlg0012.tlg002.perseus-grc1_14.tb.xml  \n",
            "  inflating: data/raw/treebank_data-master/v1.6/greek/data/tlg0012.tlg002.perseus-grc1_15.tb.xml  \n",
            "  inflating: data/raw/treebank_data-master/v1.6/greek/data/tlg0012.tlg002.perseus-grc1_16.tb.xml  \n",
            "  inflating: data/raw/treebank_data-master/v1.6/greek/data/tlg0012.tlg002.perseus-grc1_17.tb.xml  \n",
            "  inflating: data/raw/treebank_data-master/v1.6/greek/data/tlg0012.tlg002.perseus-grc1_18.tb.xml  \n",
            "  inflating: data/raw/treebank_data-master/v1.6/greek/data/tlg0012.tlg002.perseus-grc1_19.tb.xml  \n",
            "  inflating: data/raw/treebank_data-master/v1.6/greek/data/tlg0012.tlg002.perseus-grc1_2.tb.xml  \n",
            "  inflating: data/raw/treebank_data-master/v1.6/greek/data/tlg0012.tlg002.perseus-grc1_20.tb.xml  \n",
            "  inflating: data/raw/treebank_data-master/v1.6/greek/data/tlg0012.tlg002.perseus-grc1_21.tb.xml  \n",
            "  inflating: data/raw/treebank_data-master/v1.6/greek/data/tlg0012.tlg002.perseus-grc1_22.tb.xml  \n",
            "  inflating: data/raw/treebank_data-master/v1.6/greek/data/tlg0012.tlg002.perseus-grc1_23.tb.xml  \n",
            "  inflating: data/raw/treebank_data-master/v1.6/greek/data/tlg0012.tlg002.perseus-grc1_24.tb.xml  \n",
            "  inflating: data/raw/treebank_data-master/v1.6/greek/data/tlg0012.tlg002.perseus-grc1_3.tb.xml  \n",
            "  inflating: data/raw/treebank_data-master/v1.6/greek/data/tlg0012.tlg002.perseus-grc1_4.tb.xml  \n",
            "  inflating: data/raw/treebank_data-master/v1.6/greek/data/tlg0012.tlg002.perseus-grc1_5.tb.xml  \n",
            "  inflating: data/raw/treebank_data-master/v1.6/greek/data/tlg0012.tlg002.perseus-grc1_6.tb.xml  \n",
            "  inflating: data/raw/treebank_data-master/v1.6/greek/data/tlg0012.tlg002.perseus-grc1_7.tb.xml  \n",
            "  inflating: data/raw/treebank_data-master/v1.6/greek/data/tlg0012.tlg002.perseus-grc1_8.tb.xml  \n",
            "  inflating: data/raw/treebank_data-master/v1.6/greek/data/tlg0012.tlg002.perseus-grc1_9.tb.xml  \n",
            "  inflating: data/raw/treebank_data-master/v1.6/greek/data/tlg0016.tlg001.perseus-grc1.1.tb.xml  \n",
            "  inflating: data/raw/treebank_data-master/v1.6/greek/data/tlg0020.tlg001.perseus-grc1.tb.xml  \n",
            "  inflating: data/raw/treebank_data-master/v1.6/greek/data/tlg0020.tlg002.perseus-grc1.tb.xml  \n",
            "  inflating: data/raw/treebank_data-master/v1.6/greek/data/tlg0020.tlg003.perseus-grc1.tb.xml  \n",
            "  inflating: data/raw/treebank_data-master/v1.6/greek/data/tlg0059.tlg001.perseus-grc1.tb.xml  \n",
            "  inflating: data/raw/treebank_data-master/v1.6/greek/data/tlg0060.tlg001.perseus-grc3.11.tb.xml  \n",
            "  inflating: data/raw/treebank_data-master/v1.6/greek/data/tlg0085.tlg001.perseus-grc2.tb.xml  \n",
            "  inflating: data/raw/treebank_data-master/v1.6/greek/data/tlg0085.tlg002.perseus-grc2.tb.xml  \n",
            "  inflating: data/raw/treebank_data-master/v1.6/greek/data/tlg0085.tlg003.perseus-grc2.tb.xml  \n",
            "  inflating: data/raw/treebank_data-master/v1.6/greek/data/tlg0085.tlg004.perseus-grc2.tb.xml  \n",
            "  inflating: data/raw/treebank_data-master/v1.6/greek/data/tlg0085.tlg005.perseus-grc1.tb.xml  \n",
            "  inflating: data/raw/treebank_data-master/v1.6/greek/data/tlg0085.tlg006.perseus-grc2.tb.xml  \n",
            "  inflating: data/raw/treebank_data-master/v1.6/greek/data/tlg0085.tlg007.perseus-grc1.tb.xml  \n",
            "  inflating: data/raw/treebank_data-master/v1.6/greek/data/tlg0540.tlg001.perseus-grc1.tb.xml  \n",
            "  inflating: data/raw/treebank_data-master/v1.6/greek/data/tlg0540.tlg014.perseus-grc1.tb.xml  \n",
            "  inflating: data/raw/treebank_data-master/v1.6/greek/data/tlg0540.tlg015.perseus-grc1.tb.xml  \n",
            "  inflating: data/raw/treebank_data-master/v1.6/greek/data/tlg0540.tlg023.perseus-grc1.tb.xml  \n",
            "  inflating: data/raw/treebank_data-master/v1.6/greek/data/tlg0543.tlg001.perseus-grc1.tb.xml  \n",
            "   creating: data/raw/treebank_data-master/v1.6/latin/\n",
            "   creating: data/raw/treebank_data-master/v1.6/latin/data/\n",
            "  inflating: data/raw/treebank_data-master/v1.6/latin/data/phi0448.phi001.perseus-lat1.tb.xml  \n",
            "  inflating: data/raw/treebank_data-master/v1.6/latin/data/phi0474.phi013.perseus-lat1.tb.xml  \n",
            "  inflating: data/raw/treebank_data-master/v1.6/latin/data/phi0620.phi001.perseus-lat1.tb.xml  \n",
            "  inflating: data/raw/treebank_data-master/v1.6/latin/data/phi0631.phi001.perseus-lat1.tb.xml  \n",
            "  inflating: data/raw/treebank_data-master/v1.6/latin/data/phi0690.phi003.perseus-lat1.tb.xml  \n",
            "  inflating: data/raw/treebank_data-master/v1.6/latin/data/phi0959.phi006.perseus-lat1.tb.xml  \n",
            "  inflating: data/raw/treebank_data-master/v1.6/latin/data/phi0972.phi001.perseus-lat1.tb.xml  \n",
            "  inflating: data/raw/treebank_data-master/v1.6/latin/data/phi1221.phi007.perseus-lat1_0-5.tb.xml  \n",
            "  inflating: data/raw/treebank_data-master/v1.6/latin/data/phi1221.phi007.perseus-lat1_12-17.tb.xml  \n",
            "  inflating: data/raw/treebank_data-master/v1.6/latin/data/phi1221.phi007.perseus-lat1_18-23.tb.xml  \n",
            "  inflating: data/raw/treebank_data-master/v1.6/latin/data/phi1221.phi007.perseus-lat1_24-29.tb.xml  \n",
            "  inflating: data/raw/treebank_data-master/v1.6/latin/data/phi1221.phi007.perseus-lat1_30-35.tb.xml  \n",
            "  inflating: data/raw/treebank_data-master/v1.6/latin/data/phi1221.phi007.perseus-lat1_6-11.tb.xml  \n",
            "  inflating: data/raw/treebank_data-master/v1.6/latin/data/phi1221.phi007.perseus-lat1_appendix.tb.xml  \n",
            "  inflating: data/raw/treebank_data-master/v1.6/latin/data/tlg0031.tlg027.perseus-lat1.tb.xml  \n",
            "   creating: data/raw/treebank_data-master/v1/\n",
            "   creating: data/raw/treebank_data-master/v1/greek/\n",
            "   creating: data/raw/treebank_data-master/v1/greek/data/\n",
            "  inflating: data/raw/treebank_data-master/v1/greek/data/agdt-1.7.xml  \n",
            "  inflating: data/raw/treebank_data-master/v1/greek/data/grctb.1.6.tb.xml  \n",
            "  inflating: data/raw/treebank_data-master/v1/greek/data/grctb.2.4.tb.xml  \n",
            "  inflating: data/raw/treebank_data-master/v1/greek/data/grctb.3.2.tb.xml  \n",
            "  inflating: data/raw/treebank_data-master/v1/greek/data/tlg0011.tlg001.perseus-grc2.xml  \n",
            "  inflating: data/raw/treebank_data-master/v1/greek/data/tlg0011.tlg002.perseus-grc2.xml  \n",
            "  inflating: data/raw/treebank_data-master/v1/greek/data/tlg0011.tlg003.perseus-grc1.xml  \n",
            "  inflating: data/raw/treebank_data-master/v1/greek/data/tlg0011.tlg004.perseus-grc1.xml  \n",
            "  inflating: data/raw/treebank_data-master/v1/greek/data/tlg0011.tlg005.perseus-grc2.xml  \n",
            "  inflating: data/raw/treebank_data-master/v1/greek/data/tlg0020.tlg001.perseus-grc1.xml  \n",
            "  inflating: data/raw/treebank_data-master/v1/greek/data/tlg0020.tlg002.perseus-grc1.xml  \n",
            "  inflating: data/raw/treebank_data-master/v1/greek/data/tlg0020.tlg003.perseus-grc1.xml  \n",
            "  inflating: data/raw/treebank_data-master/v1/greek/data/tlg0059.tlg001.perseus-grc2.xml  \n",
            "  inflating: data/raw/treebank_data-master/v1/greek/data/tlg0085.tlg001.perseus-grc2.xml  \n",
            "  inflating: data/raw/treebank_data-master/v1/greek/data/tlg0085.tlg002.perseus-grc2.xml  \n",
            "  inflating: data/raw/treebank_data-master/v1/greek/data/tlg0085.tlg003.perseus-grc2.xml  \n",
            "  inflating: data/raw/treebank_data-master/v1/greek/data/tlg0085.tlg004.perseus-grc2.xml  \n",
            "  inflating: data/raw/treebank_data-master/v1/greek/data/tlg0085.tlg005.perseus-grc1.xml  \n",
            "  inflating: data/raw/treebank_data-master/v1/greek/data/tlg0085.tlg006.perseus-grc2.xml  \n",
            "  inflating: data/raw/treebank_data-master/v1/greek/data/tlg0085.tlg007.perseus-grc1.xml  \n",
            "  inflating: data/raw/treebank_data-master/v1/greek/data/treebank-1.5.xsd  \n",
            "   creating: data/raw/treebank_data-master/v1/greek/docs/\n",
            "  inflating: data/raw/treebank_data-master/v1/greek/docs/README.txt  \n",
            "  inflating: data/raw/treebank_data-master/v1/greek/docs/guidelines.es.pdf  \n",
            "  inflating: data/raw/treebank_data-master/v1/greek/docs/guidelines.pdf  \n",
            "   creating: data/raw/treebank_data-master/v1/latin/\n",
            "   creating: data/raw/treebank_data-master/v1/latin/data/\n",
            "  inflating: data/raw/treebank_data-master/v1/latin/data/1999.02.0010.xml  \n",
            "  inflating: data/raw/treebank_data-master/v1/latin/data/1999.02.0055.xml  \n",
            "  inflating: data/raw/treebank_data-master/v1/latin/data/1999.02.0060.xml  \n",
            "  inflating: data/raw/treebank_data-master/v1/latin/data/1999.02.0066.xml  \n",
            "  inflating: data/raw/treebank_data-master/v1/latin/data/2007.01.0001.xml  \n",
            "  inflating: data/raw/treebank_data-master/v1/latin/data/2008.01.0002.xml  \n",
            "  inflating: data/raw/treebank_data-master/v1/latin/data/ldt-1.5.xml  \n",
            "  inflating: data/raw/treebank_data-master/v1/latin/data/phi0448.phi001.perseus-lat1.xml  \n",
            "  inflating: data/raw/treebank_data-master/v1/latin/data/phi0959.phi006.perseus-lat1.xml  \n",
            "  inflating: data/raw/treebank_data-master/v1/latin/data/treebank-1.5.xsd  \n",
            "   creating: data/raw/treebank_data-master/v1/latin/docs/\n",
            "  inflating: data/raw/treebank_data-master/v1/latin/docs/README.txt  \n",
            "  inflating: data/raw/treebank_data-master/v1/latin/docs/guidelines.pdf  \n",
            "   creating: data/raw/treebank_data-master/v2.0/\n",
            "   creating: data/raw/treebank_data-master/v2.0/Greek/\n",
            "  inflating: data/raw/treebank_data-master/v2.0/Greek/README.MD  \n",
            "  inflating: data/raw/treebank_data-master/v2.0/Greek/TAGSETS.xml  \n",
            "   creating: data/raw/treebank_data-master/v2.0/Greek/nonArethusaCompliant/\n",
            "  inflating: data/raw/treebank_data-master/v2.0/Greek/nonArethusaCompliant/tlg0003.tlg001.perseus-grc1.1.tb.xml  \n",
            "  inflating: data/raw/treebank_data-master/v2.0/Greek/nonArethusaCompliant/tlg0007.tlg004.perseus-grc1.tb.xml  \n",
            "  inflating: data/raw/treebank_data-master/v2.0/Greek/nonArethusaCompliant/tlg0007.tlg015.perseus-grc1.tb.xml  \n",
            "  inflating: data/raw/treebank_data-master/v2.0/Greek/nonArethusaCompliant/tlg0008.tlg001.perseus-grc1.12.tb.xml  \n",
            "  inflating: data/raw/treebank_data-master/v2.0/Greek/nonArethusaCompliant/tlg0008.tlg001.perseus-grc1.13.tb.xml  \n",
            "  inflating: data/raw/treebank_data-master/v2.0/Greek/nonArethusaCompliant/tlg0011.tlg001.perseus-grc2.tb.xml  \n",
            "  inflating: data/raw/treebank_data-master/v2.0/Greek/nonArethusaCompliant/tlg0011.tlg002.perseus-grc2.tb.xml  \n",
            "  inflating: data/raw/treebank_data-master/v2.0/Greek/nonArethusaCompliant/tlg0011.tlg003.perseus-grc1.tb.xml  \n",
            "  inflating: data/raw/treebank_data-master/v2.0/Greek/nonArethusaCompliant/tlg0011.tlg004.perseus-grc1.tb.xml  \n",
            "  inflating: data/raw/treebank_data-master/v2.0/Greek/nonArethusaCompliant/tlg0011.tlg005.perseus-grc2.tb.xml  \n",
            "  inflating: data/raw/treebank_data-master/v2.0/Greek/nonArethusaCompliant/tlg0012.tlg001.perseus-grc1.tb.xml  \n",
            "  inflating: data/raw/treebank_data-master/v2.0/Greek/nonArethusaCompliant/tlg0012.tlg002.perseus-grc1.tb.xml  \n",
            "  inflating: data/raw/treebank_data-master/v2.0/Greek/nonArethusaCompliant/tlg0013.tlg002.perseus-grc1.tb.xml  \n",
            "  inflating: data/raw/treebank_data-master/v2.0/Greek/nonArethusaCompliant/tlg0016.tlg001.perseus-grc1.1.tb.xml  \n",
            "  inflating: data/raw/treebank_data-master/v2.0/Greek/nonArethusaCompliant/tlg0020.tlg001.perseus-grc1.tb.xml  \n",
            "  inflating: data/raw/treebank_data-master/v2.0/Greek/nonArethusaCompliant/tlg0020.tlg002.perseus-grc1.tb.xml  \n",
            "  inflating: data/raw/treebank_data-master/v2.0/Greek/nonArethusaCompliant/tlg0020.tlg003.perseus-grc1.tb.xml  \n",
            "  inflating: data/raw/treebank_data-master/v2.0/Greek/nonArethusaCompliant/tlg0059.tlg001.perseus-grc1.tb.xml  \n",
            "  inflating: data/raw/treebank_data-master/v2.0/Greek/nonArethusaCompliant/tlg0060.tlg001.perseus-grc3.11.tb.xml  \n",
            "  inflating: data/raw/treebank_data-master/v2.0/Greek/nonArethusaCompliant/tlg0085.tlg001.perseus-grc2.tb.xml  \n",
            "  inflating: data/raw/treebank_data-master/v2.0/Greek/nonArethusaCompliant/tlg0085.tlg002.perseus-grc2.tb.xml  \n",
            "  inflating: data/raw/treebank_data-master/v2.0/Greek/nonArethusaCompliant/tlg0085.tlg003.perseus-grc2.tb.xml  \n",
            "  inflating: data/raw/treebank_data-master/v2.0/Greek/nonArethusaCompliant/tlg0085.tlg004.perseus-grc2.tb.xml  \n",
            "  inflating: data/raw/treebank_data-master/v2.0/Greek/nonArethusaCompliant/tlg0085.tlg005.perseus-grc1.tb.xml  \n",
            "  inflating: data/raw/treebank_data-master/v2.0/Greek/nonArethusaCompliant/tlg0085.tlg006.perseus-grc2.tb.xml  \n",
            "  inflating: data/raw/treebank_data-master/v2.0/Greek/nonArethusaCompliant/tlg0085.tlg007.perseus-grc1.tb.xml  \n",
            "  inflating: data/raw/treebank_data-master/v2.0/Greek/nonArethusaCompliant/tlg0096.tlg002.opp-grc2.1-53.tb.xml  \n",
            "  inflating: data/raw/treebank_data-master/v2.0/Greek/nonArethusaCompliant/tlg0540.tlg001.perseus-grc1.tb.xml  \n",
            "  inflating: data/raw/treebank_data-master/v2.0/Greek/nonArethusaCompliant/tlg0540.tlg014.perseus-grc1.tb.xml  \n",
            "  inflating: data/raw/treebank_data-master/v2.0/Greek/nonArethusaCompliant/tlg0540.tlg015.perseus-grc1.tb.xml  \n",
            "  inflating: data/raw/treebank_data-master/v2.0/Greek/nonArethusaCompliant/tlg0540.tlg023.perseus-grc1.tb.xml  \n",
            "  inflating: data/raw/treebank_data-master/v2.0/Greek/nonArethusaCompliant/tlg0543.tlg001.perseus-grc1.tb.xml  \n",
            "  inflating: data/raw/treebank_data-master/v2.0/Greek/nonArethusaCompliant/tlg0548.tlg001.perseus-grc1.1.1.1-1.4.1.tb.xml  \n",
            "   creating: data/raw/treebank_data-master/v2.0/Latin/\n",
            "  inflating: data/raw/treebank_data-master/v2.0/Latin/perseus-lattb.1248.1.xml  \n",
            "  inflating: data/raw/treebank_data-master/v2.0/Latin/perseus-lattb.2219.1.xml  \n",
            "  inflating: data/raw/treebank_data-master/v2.0/Latin/phi0448.phi001.perseus-lat1.tb.xml  \n",
            "  inflating: data/raw/treebank_data-master/v2.0/Latin/phi0474.phi013.perseus-lat1.tb.xml  \n",
            "  inflating: data/raw/treebank_data-master/v2.0/Latin/phi0620.phi001.perseus-lat1.tb.xml  \n",
            "  inflating: data/raw/treebank_data-master/v2.0/Latin/phi0631.phi001.perseus-lat1.tb.xml  \n",
            "  inflating: data/raw/treebank_data-master/v2.0/Latin/phi0690.phi003.perseus-lat1.tb.xml  \n",
            "  inflating: data/raw/treebank_data-master/v2.0/Latin/phi0959.phi006.perseus-lat1.tb.xml  \n",
            "  inflating: data/raw/treebank_data-master/v2.0/Latin/phi0972.phi001.perseus-lat1.tb.xml  \n",
            "  inflating: data/raw/treebank_data-master/v2.0/Latin/tlg0031.tlg027.perseus-lat1.tb.xml  \n",
            "   creating: data/raw/treebank_data-master/v2.1/\n",
            "   creating: data/raw/treebank_data-master/v2.1/Greek/\n",
            "  inflating: data/raw/treebank_data-master/v2.1/Greek/README.MD  \n",
            "  inflating: data/raw/treebank_data-master/v2.1/Greek/TAGSETS.xml  \n",
            "   creating: data/raw/treebank_data-master/v2.1/Greek/texts/\n",
            "  inflating: data/raw/treebank_data-master/v2.1/Greek/texts/tlg0003.tlg001.perseus-grc1.1.tb.xml  \n",
            "  inflating: data/raw/treebank_data-master/v2.1/Greek/texts/tlg0007.tlg004.perseus-grc1.tb.xml  \n",
            "  inflating: data/raw/treebank_data-master/v2.1/Greek/texts/tlg0007.tlg015.perseus-grc1.tb.xml  \n",
            "  inflating: data/raw/treebank_data-master/v2.1/Greek/texts/tlg0008.tlg001.perseus-grc1.12.tb.xml  \n",
            "  inflating: data/raw/treebank_data-master/v2.1/Greek/texts/tlg0008.tlg001.perseus-grc1.13.tb.xml  \n",
            "  inflating: data/raw/treebank_data-master/v2.1/Greek/texts/tlg0011.tlg001.perseus-grc2.tb.xml  \n",
            "  inflating: data/raw/treebank_data-master/v2.1/Greek/texts/tlg0011.tlg002.perseus-grc2.tb.xml  \n",
            "  inflating: data/raw/treebank_data-master/v2.1/Greek/texts/tlg0011.tlg003.perseus-grc1.tb.xml  \n",
            "  inflating: data/raw/treebank_data-master/v2.1/Greek/texts/tlg0011.tlg004.perseus-grc1.tb.xml  \n",
            "  inflating: data/raw/treebank_data-master/v2.1/Greek/texts/tlg0011.tlg005.perseus-grc2.tb.xml  \n",
            "  inflating: data/raw/treebank_data-master/v2.1/Greek/texts/tlg0012.tlg001.perseus-grc1.tb.xml  \n",
            "  inflating: data/raw/treebank_data-master/v2.1/Greek/texts/tlg0012.tlg002.perseus-grc1.tb.xml  \n",
            "  inflating: data/raw/treebank_data-master/v2.1/Greek/texts/tlg0013.tlg002.perseus-grc1.tb.xml  \n",
            "  inflating: data/raw/treebank_data-master/v2.1/Greek/texts/tlg0016.tlg001.perseus-grc1.1.tb.xml  \n",
            "  inflating: data/raw/treebank_data-master/v2.1/Greek/texts/tlg0020.tlg001.perseus-grc1.tb.xml  \n",
            "  inflating: data/raw/treebank_data-master/v2.1/Greek/texts/tlg0020.tlg002.perseus-grc1.tb.xml  \n",
            "  inflating: data/raw/treebank_data-master/v2.1/Greek/texts/tlg0020.tlg003.perseus-grc1.tb.xml  \n",
            "  inflating: data/raw/treebank_data-master/v2.1/Greek/texts/tlg0059.tlg001.perseus-grc1.tb.xml  \n",
            "  inflating: data/raw/treebank_data-master/v2.1/Greek/texts/tlg0060.tlg001.perseus-grc3.11.tb.xml  \n",
            "  inflating: data/raw/treebank_data-master/v2.1/Greek/texts/tlg0085.tlg001.perseus-grc2.tb.xml  \n",
            "  inflating: data/raw/treebank_data-master/v2.1/Greek/texts/tlg0085.tlg002.perseus-grc2.tb.xml  \n",
            "  inflating: data/raw/treebank_data-master/v2.1/Greek/texts/tlg0085.tlg003.perseus-grc2.tb.xml  \n",
            "  inflating: data/raw/treebank_data-master/v2.1/Greek/texts/tlg0085.tlg004.perseus-grc2.tb.xml  \n",
            "  inflating: data/raw/treebank_data-master/v2.1/Greek/texts/tlg0085.tlg005.perseus-grc1.tb.xml  \n",
            "  inflating: data/raw/treebank_data-master/v2.1/Greek/texts/tlg0085.tlg006.perseus-grc2.tb.xml  \n",
            "  inflating: data/raw/treebank_data-master/v2.1/Greek/texts/tlg0085.tlg007.perseus-grc1.tb.xml  \n",
            "  inflating: data/raw/treebank_data-master/v2.1/Greek/texts/tlg0096.tlg002.opp-grc2.1-53.tb.xml  \n",
            "  inflating: data/raw/treebank_data-master/v2.1/Greek/texts/tlg0540.tlg001.perseus-grc1.tb.xml  \n",
            "  inflating: data/raw/treebank_data-master/v2.1/Greek/texts/tlg0540.tlg014.perseus-grc1.tb.xml  \n",
            "  inflating: data/raw/treebank_data-master/v2.1/Greek/texts/tlg0540.tlg015.perseus-grc1.tb.xml  \n",
            "  inflating: data/raw/treebank_data-master/v2.1/Greek/texts/tlg0540.tlg023.perseus-grc1.tb.xml  \n",
            "  inflating: data/raw/treebank_data-master/v2.1/Greek/texts/tlg0543.tlg001.perseus-grc1.tb.xml  \n",
            "  inflating: data/raw/treebank_data-master/v2.1/Greek/texts/tlg0548.tlg001.perseus-grc1.1.1.1-1.4.1.tb.xml  \n",
            "   creating: data/raw/treebank_data-master/v2.1/Latin/\n",
            "  inflating: data/raw/treebank_data-master/v2.1/Latin/Harrington-tagset-Instructions.pdf  \n",
            "  inflating: data/raw/treebank_data-master/v2.1/Latin/Harrington-tagset.pdf  \n",
            "  inflating: data/raw/treebank_data-master/v2.1/Latin/README.md  \n",
            "  inflating: data/raw/treebank_data-master/v2.1/Latin/TAGSET.txt  \n",
            "  inflating: data/raw/treebank_data-master/v2.1/Latin/TAGSET.xml  \n",
            "   creating: data/raw/treebank_data-master/v2.1/Latin/texts/\n",
            "  inflating: data/raw/treebank_data-master/v2.1/Latin/texts/phi0448.phi001.perseus-lat1.tb.xml  \n",
            "  inflating: data/raw/treebank_data-master/v2.1/Latin/texts/phi0474.phi013.perseus-lat1.tb.xml  \n",
            "  inflating: data/raw/treebank_data-master/v2.1/Latin/texts/phi0620.phi001.perseus-lat1.tb.xml  \n",
            "  inflating: data/raw/treebank_data-master/v2.1/Latin/texts/phi0631.phi001.perseus-lat1.tb.xml  \n",
            "  inflating: data/raw/treebank_data-master/v2.1/Latin/texts/phi0690.phi003.perseus-lat1.tb.xml  \n",
            "  inflating: data/raw/treebank_data-master/v2.1/Latin/texts/phi0959.phi006.perseus-lat1.tb.xml  \n",
            "  inflating: data/raw/treebank_data-master/v2.1/Latin/texts/phi0972.phi001.perseus-lat1.xml  \n",
            "  inflating: data/raw/treebank_data-master/v2.1/Latin/texts/phi0975.phi001.perseus-lat1.tb.xml  \n",
            "  inflating: data/raw/treebank_data-master/v2.1/Latin/texts/phi1221.phi007.perseus-lat1.tb.xml  \n",
            "  inflating: data/raw/treebank_data-master/v2.1/Latin/texts/phi1348.abo012.perseus-lat1.tb.xml  \n",
            "  inflating: data/raw/treebank_data-master/v2.1/Latin/texts/phi1351.phi005.perseus-lat1.tb.xml  \n",
            "  inflating: data/raw/treebank_data-master/v2.1/Latin/texts/tlg0031.tlg027.perseus-lat1.tb.xml  \n",
            "Making fine-tuning dataset\n",
            "python src/process_data.py ft\n",
            "2023-10-08 15:32:50,129 - __main__ - INFO - Reading 77 files from data/raw/treebank_data-master/v1.6/greek/data\n",
            "2023-10-08 15:32:50,133 - __main__ - INFO - Processing data/raw/treebank_data-master/v1.6/greek/data/tlg0003.tlg001.perseus-grc1.1.tb.xml\n",
            "2023-10-08 15:32:50,412 - __main__ - INFO - Processing data/raw/treebank_data-master/v1.6/greek/data/tlg0007.tlg004.perseus-grc1.tb.xml\n",
            "2023-10-08 15:32:50,498 - __main__ - INFO - Processing data/raw/treebank_data-master/v1.6/greek/data/tlg0007.tlg015.perseus-grc1.tb.xml\n",
            "2023-10-08 15:32:50,571 - __main__ - INFO - Processing data/raw/treebank_data-master/v1.6/greek/data/tlg0008.tlg001.perseus-grc1.12.tb.xml\n",
            "2023-10-08 15:32:50,717 - __main__ - INFO - Processing data/raw/treebank_data-master/v1.6/greek/data/tlg0008.tlg001.perseus-grc1.13.tb.xml\n",
            "2023-10-08 15:32:50,900 - __main__ - INFO - Processing data/raw/treebank_data-master/v1.6/greek/data/tlg0008.tlg001.perseus-grc1.tb.xml\n",
            "2023-10-08 15:32:51,033 - __main__ - INFO - Processing data/raw/treebank_data-master/v1.6/greek/data/tlg0011.tlg001.perseus-grc2.tb.xml\n",
            "2023-10-08 15:32:51,085 - __main__ - INFO - Processing data/raw/treebank_data-master/v1.6/greek/data/tlg0011.tlg002.perseus-grc2.tb.xml\n",
            "2023-10-08 15:32:51,136 - __main__ - INFO - Processing data/raw/treebank_data-master/v1.6/greek/data/tlg0011.tlg003.perseus-grc1.tb.xml\n",
            "2023-10-08 15:32:51,251 - __main__ - INFO - Processing data/raw/treebank_data-master/v1.6/greek/data/tlg0011.tlg004.perseus-grc1.tb.xml\n",
            "2023-10-08 15:32:51,330 - __main__ - INFO - Processing data/raw/treebank_data-master/v1.6/greek/data/tlg0011.tlg005.perseus-grc2.tb.xml\n",
            "2023-10-08 15:32:51,467 - __main__ - INFO - Processing data/raw/treebank_data-master/v1.6/greek/data/tlg0012.tlg001.perseus-grc1_1.tb.xml\n",
            "2023-10-08 15:32:51,499 - __main__ - INFO - Processing data/raw/treebank_data-master/v1.6/greek/data/tlg0012.tlg001.perseus-grc1_10.tb.xml\n",
            "2023-10-08 15:32:51,526 - __main__ - INFO - Processing data/raw/treebank_data-master/v1.6/greek/data/tlg0012.tlg001.perseus-grc1_11.tb.xml\n",
            "2023-10-08 15:32:51,565 - __main__ - INFO - Processing data/raw/treebank_data-master/v1.6/greek/data/tlg0012.tlg001.perseus-grc1_12.tb.xml\n",
            "2023-10-08 15:32:51,650 - __main__ - INFO - Processing data/raw/treebank_data-master/v1.6/greek/data/tlg0012.tlg001.perseus-grc1_13.tb.xml\n",
            "2023-10-08 15:32:51,692 - __main__ - INFO - Processing data/raw/treebank_data-master/v1.6/greek/data/tlg0012.tlg001.perseus-grc1_14.tb.xml\n",
            "2023-10-08 15:32:51,721 - __main__ - INFO - Processing data/raw/treebank_data-master/v1.6/greek/data/tlg0012.tlg001.perseus-grc1_15.tb.xml\n",
            "2023-10-08 15:32:51,758 - __main__ - INFO - Processing data/raw/treebank_data-master/v1.6/greek/data/tlg0012.tlg001.perseus-grc1_16.tb.xml\n",
            "2023-10-08 15:32:51,859 - __main__ - INFO - Processing data/raw/treebank_data-master/v1.6/greek/data/tlg0012.tlg001.perseus-grc1_17.tb.xml\n",
            "2023-10-08 15:32:51,898 - __main__ - INFO - Processing data/raw/treebank_data-master/v1.6/greek/data/tlg0012.tlg001.perseus-grc1_18.tb.xml\n",
            "2023-10-08 15:32:51,934 - __main__ - INFO - Processing data/raw/treebank_data-master/v1.6/greek/data/tlg0012.tlg001.perseus-grc1_19.tb.xml\n",
            "2023-10-08 15:32:51,955 - __main__ - INFO - Processing data/raw/treebank_data-master/v1.6/greek/data/tlg0012.tlg001.perseus-grc1_2.tb.xml\n",
            "2023-10-08 15:32:52,047 - __main__ - INFO - Processing data/raw/treebank_data-master/v1.6/greek/data/tlg0012.tlg001.perseus-grc1_20.tb.xml\n",
            "2023-10-08 15:32:52,076 - __main__ - INFO - Processing data/raw/treebank_data-master/v1.6/greek/data/tlg0012.tlg001.perseus-grc1_21.tb.xml\n",
            "2023-10-08 15:32:52,104 - __main__ - INFO - Processing data/raw/treebank_data-master/v1.6/greek/data/tlg0012.tlg001.perseus-grc1_22.tb.xml\n",
            "2023-10-08 15:32:52,129 - __main__ - INFO - Processing data/raw/treebank_data-master/v1.6/greek/data/tlg0012.tlg001.perseus-grc1_23.tb.xml\n",
            "2023-10-08 15:32:52,229 - __main__ - INFO - Processing data/raw/treebank_data-master/v1.6/greek/data/tlg0012.tlg001.perseus-grc1_24.tb.xml\n",
            "2023-10-08 15:32:52,269 - __main__ - INFO - Processing data/raw/treebank_data-master/v1.6/greek/data/tlg0012.tlg001.perseus-grc1_3.tb.xml\n",
            "2023-10-08 15:32:52,292 - __main__ - INFO - Processing data/raw/treebank_data-master/v1.6/greek/data/tlg0012.tlg001.perseus-grc1_4.tb.xml\n",
            "2023-10-08 15:32:52,319 - __main__ - INFO - Processing data/raw/treebank_data-master/v1.6/greek/data/tlg0012.tlg001.perseus-grc1_5.tb.xml\n",
            "2023-10-08 15:32:52,439 - __main__ - INFO - Processing data/raw/treebank_data-master/v1.6/greek/data/tlg0012.tlg001.perseus-grc1_6.tb.xml\n",
            "2023-10-08 15:32:52,466 - __main__ - INFO - Processing data/raw/treebank_data-master/v1.6/greek/data/tlg0012.tlg001.perseus-grc1_7.tb.xml\n",
            "2023-10-08 15:32:52,490 - __main__ - INFO - Processing data/raw/treebank_data-master/v1.6/greek/data/tlg0012.tlg001.perseus-grc1_8.tb.xml\n",
            "2023-10-08 15:32:52,519 - __main__ - INFO - Processing data/raw/treebank_data-master/v1.6/greek/data/tlg0012.tlg001.perseus-grc1_9.tb.xml\n",
            "2023-10-08 15:32:52,615 - __main__ - INFO - Processing data/raw/treebank_data-master/v1.6/greek/data/tlg0012.tlg002.perseus-grc1_1.tb.xml\n",
            "2023-10-08 15:32:52,638 - __main__ - INFO - Processing data/raw/treebank_data-master/v1.6/greek/data/tlg0012.tlg002.perseus-grc1_10.tb.xml\n",
            "2023-10-08 15:32:52,666 - __main__ - INFO - Processing data/raw/treebank_data-master/v1.6/greek/data/tlg0012.tlg002.perseus-grc1_11.tb.xml\n",
            "2023-10-08 15:32:52,705 - __main__ - INFO - Processing data/raw/treebank_data-master/v1.6/greek/data/tlg0012.tlg002.perseus-grc1_12.tb.xml\n",
            "2023-10-08 15:32:52,729 - __main__ - INFO - Processing data/raw/treebank_data-master/v1.6/greek/data/tlg0012.tlg002.perseus-grc1_13.tb.xml\n",
            "2023-10-08 15:32:52,752 - __main__ - INFO - Processing data/raw/treebank_data-master/v1.6/greek/data/tlg0012.tlg002.perseus-grc1_14.tb.xml\n",
            "2023-10-08 15:32:52,840 - __main__ - INFO - Processing data/raw/treebank_data-master/v1.6/greek/data/tlg0012.tlg002.perseus-grc1_15.tb.xml\n",
            "2023-10-08 15:32:52,870 - __main__ - INFO - Processing data/raw/treebank_data-master/v1.6/greek/data/tlg0012.tlg002.perseus-grc1_16.tb.xml\n",
            "2023-10-08 15:32:52,895 - __main__ - INFO - Processing data/raw/treebank_data-master/v1.6/greek/data/tlg0012.tlg002.perseus-grc1_17.tb.xml\n",
            "2023-10-08 15:32:52,925 - __main__ - INFO - Processing data/raw/treebank_data-master/v1.6/greek/data/tlg0012.tlg002.perseus-grc1_18.tb.xml\n",
            "2023-10-08 15:32:53,001 - __main__ - INFO - Processing data/raw/treebank_data-master/v1.6/greek/data/tlg0012.tlg002.perseus-grc1_19.tb.xml\n",
            "2023-10-08 15:32:53,032 - __main__ - INFO - Processing data/raw/treebank_data-master/v1.6/greek/data/tlg0012.tlg002.perseus-grc1_2.tb.xml\n",
            "2023-10-08 15:32:53,054 - __main__ - INFO - Processing data/raw/treebank_data-master/v1.6/greek/data/tlg0012.tlg002.perseus-grc1_20.tb.xml\n",
            "2023-10-08 15:32:53,074 - __main__ - INFO - Processing data/raw/treebank_data-master/v1.6/greek/data/tlg0012.tlg002.perseus-grc1_21.tb.xml\n",
            "2023-10-08 15:32:53,094 - __main__ - INFO - Processing data/raw/treebank_data-master/v1.6/greek/data/tlg0012.tlg002.perseus-grc1_22.tb.xml\n",
            "2023-10-08 15:32:53,118 - __main__ - INFO - Processing data/raw/treebank_data-master/v1.6/greek/data/tlg0012.tlg002.perseus-grc1_23.tb.xml\n",
            "2023-10-08 15:32:53,195 - __main__ - INFO - Processing data/raw/treebank_data-master/v1.6/greek/data/tlg0012.tlg002.perseus-grc1_24.tb.xml\n",
            "2023-10-08 15:32:53,222 - __main__ - INFO - Processing data/raw/treebank_data-master/v1.6/greek/data/tlg0012.tlg002.perseus-grc1_3.tb.xml\n",
            "2023-10-08 15:32:53,246 - __main__ - INFO - Processing data/raw/treebank_data-master/v1.6/greek/data/tlg0012.tlg002.perseus-grc1_4.tb.xml\n",
            "2023-10-08 15:32:53,290 - __main__ - INFO - Processing data/raw/treebank_data-master/v1.6/greek/data/tlg0012.tlg002.perseus-grc1_5.tb.xml\n",
            "2023-10-08 15:32:53,375 - __main__ - INFO - Processing data/raw/treebank_data-master/v1.6/greek/data/tlg0012.tlg002.perseus-grc1_6.tb.xml\n",
            "2023-10-08 15:32:53,399 - __main__ - INFO - Processing data/raw/treebank_data-master/v1.6/greek/data/tlg0012.tlg002.perseus-grc1_7.tb.xml\n",
            "2023-10-08 15:32:53,417 - __main__ - INFO - Processing data/raw/treebank_data-master/v1.6/greek/data/tlg0012.tlg002.perseus-grc1_8.tb.xml\n",
            "2023-10-08 15:32:53,450 - __main__ - INFO - Processing data/raw/treebank_data-master/v1.6/greek/data/tlg0012.tlg002.perseus-grc1_9.tb.xml\n",
            "2023-10-08 15:32:53,477 - __main__ - INFO - Processing data/raw/treebank_data-master/v1.6/greek/data/tlg0016.tlg001.perseus-grc1.1.tb.xml\n",
            "2023-10-08 15:32:53,757 - __main__ - INFO - Processing data/raw/treebank_data-master/v1.6/greek/data/tlg0020.tlg001.perseus-grc1.tb.xml\n",
            "2023-10-08 15:32:53,810 - __main__ - INFO - Processing data/raw/treebank_data-master/v1.6/greek/data/tlg0020.tlg002.perseus-grc1.tb.xml\n",
            "2023-10-08 15:32:53,847 - __main__ - INFO - Processing data/raw/treebank_data-master/v1.6/greek/data/tlg0020.tlg003.perseus-grc1.tb.xml\n",
            "2023-10-08 15:32:53,873 - __main__ - INFO - Processing data/raw/treebank_data-master/v1.6/greek/data/tlg0059.tlg001.perseus-grc1.tb.xml\n",
            "2023-10-08 15:32:53,905 - __main__ - INFO - Processing data/raw/treebank_data-master/v1.6/greek/data/tlg0060.tlg001.perseus-grc3.11.tb.xml\n",
            "2023-10-08 15:32:54,143 - __main__ - INFO - Processing data/raw/treebank_data-master/v1.6/greek/data/tlg0085.tlg001.perseus-grc2.tb.xml\n",
            "2023-10-08 15:32:54,189 - __main__ - INFO - Processing data/raw/treebank_data-master/v1.6/greek/data/tlg0085.tlg002.perseus-grc2.tb.xml\n",
            "2023-10-08 15:32:54,224 - __main__ - INFO - Processing data/raw/treebank_data-master/v1.6/greek/data/tlg0085.tlg003.perseus-grc2.tb.xml\n",
            "2023-10-08 15:32:54,262 - __main__ - INFO - Processing data/raw/treebank_data-master/v1.6/greek/data/tlg0085.tlg004.perseus-grc2.tb.xml\n",
            "2023-10-08 15:32:54,360 - __main__ - INFO - Processing data/raw/treebank_data-master/v1.6/greek/data/tlg0085.tlg005.perseus-grc1.tb.xml\n",
            "2023-10-08 15:32:54,432 - __main__ - INFO - Processing data/raw/treebank_data-master/v1.6/greek/data/tlg0085.tlg006.perseus-grc2.tb.xml\n",
            "2023-10-08 15:32:54,471 - __main__ - INFO - Processing data/raw/treebank_data-master/v1.6/greek/data/tlg0085.tlg007.perseus-grc1.tb.xml\n",
            "2023-10-08 15:32:54,568 - __main__ - INFO - Processing data/raw/treebank_data-master/v1.6/greek/data/tlg0540.tlg001.perseus-grc1.tb.xml\n",
            "2023-10-08 15:32:54,586 - __main__ - INFO - Processing data/raw/treebank_data-master/v1.6/greek/data/tlg0540.tlg014.perseus-grc1.tb.xml\n",
            "2023-10-08 15:32:54,598 - __main__ - INFO - Processing data/raw/treebank_data-master/v1.6/greek/data/tlg0540.tlg015.perseus-grc1.tb.xml\n",
            "2023-10-08 15:32:54,602 - __main__ - INFO - Processing data/raw/treebank_data-master/v1.6/greek/data/tlg0540.tlg023.perseus-grc1.tb.xml\n",
            "2023-10-08 15:32:54,606 - __main__ - INFO - Processing data/raw/treebank_data-master/v1.6/greek/data/tlg0543.tlg001.perseus-grc1.tb.xml\n",
            "100% 77/77 [00:04<00:00, 16.52it/s]\n",
            "2023-10-08 15:32:55,482 - util - INFO - Exported data/interim/ft_raw.pkl\n",
            "2023-10-08 15:32:55,482 - __main__ - INFO - Success! Extracted 558019 words: [{'form': 'Θουκυδίδης', 'postag': 'n-s---mn-'}, {'form': 'Ἀθηναῖος', 'postag': 'n-s---mn-'}, {'form': 'ξυνέγραψε', 'postag': 'v3saia---'}, {'form': 'τὸν', 'postag': 'l-s---ma-'}, {'form': 'πόλεμον', 'postag': 'n-s---ma-'}, {'form': 'τῶν', 'postag': 'l-p---mg-'}, {'form': 'Πελοποννησίων', 'postag': 'n-p---mg-'}, {'form': 'καὶ', 'postag': 'c--------'}, {'form': 'Ἀθηναίων', 'postag': 'n-p---mg-'}, {'form': ',', 'postag': 'u--------'}]\n",
            "2023-10-08 15:32:55,604 - __main__ - INFO - Building targets map:\n",
            "2023-10-08 15:32:55,620 - util - INFO - Exported data/reference/ft_targets_map.pkl\n",
            "2023-10-08 15:32:55,620 - __main__ - INFO - Success! Built targets map for 9 targets: ['pos', 'pers', 'num', 'tense', 'mood', 'voice', 'gend', 'case', 'degree']\n",
            "2023-10-08 15:32:55,621 - __main__ - INFO - Cleaning fine-tuning data:\n",
            "2023-10-08 15:32:55,925 - util - INFO - Imported data/interim/ft_raw.pkl\n",
            "2023-10-08 15:32:55,925 - util - INFO - Imported data/reference/ft_targets_map.pkl\n",
            "100% 558019/558019 [00:02<00:00, 244156.88it/s]\n",
            "2023-10-08 15:32:58,349 - util - INFO - Exported data/interim/ft_clean.pkl\n",
            "2023-10-08 15:32:58,545 - util - INFO - Exported data/processed/ft_targets.pkl\n",
            "2023-10-08 15:32:58,546 - __main__ - INFO - Success! Exported 541784 words (16235 malformed words).\n",
            "2023-10-08 15:32:58,626 - __main__ - INFO - Normalizing data:\n",
            "2023-10-08 15:32:58,716 - util - INFO - Imported data/interim/ft_clean.pkl\n",
            "100% 541784/541784 [00:01<00:00, 333641.39it/s]\n",
            "2023-10-08 15:33:00,491 - util - INFO - Exported data/processed/ft_norm.pkl\n",
            "2023-10-08 15:33:00,491 - __main__ - INFO - Success! Performed unicode normalization and stripped non-Greek characters.\n",
            "2023-10-08 15:33:00,672 - util - INFO - Imported data/processed/ft_norm.pkl\n",
            "2023-10-08 15:33:00,673 - __main__ - INFO - Syllabifying 541784 words: ['Θουκυδίδης', 'Ἀθηναῖος', 'ξυνέγραψε', 'τὸν', 'πόλεμον', 'τῶν', 'Πελοποννησίων', 'καὶ', 'Ἀθηναίων', ',']\n",
            "100% 541784/541784 [00:06<00:00, 83341.07it/s]\n",
            "2023-10-08 15:33:07,753 - util - INFO - Exported data/processed/ft_syl.pkl\n",
            "2023-10-08 15:33:07,753 - __main__ - INFO - Success! Generated 541784 syllables: [['Θου', 'κυ', 'δί', 'δης'], ['Ἀ', 'θη', 'ναῖ', 'ος'], ['ξυ', 'νέ', 'γρα', 'ψε'], ['τὸν'], ['πό', 'λε', 'μον'], ['τῶν'], ['Πε', 'λο', 'πον', 'νη', 'σί', 'ων'], ['καὶ'], ['Ἀ', 'θη', 'ναί', 'ων'], [',']]\n"
          ]
        }
      ],
      "source": [
        "!git clone -b nn https://github.com/tejomaygadgil/cgpos.git\n",
        "!pip install git+https://github.com/jtauber/greek-accentuation.git beta-code\n",
        "%cd cgpos/\n",
        "!make process_ft_data\n",
        "!python src/pretrain.py setup cloud_pt"
      ]
    },
    {
      "cell_type": "code",
      "source": [
        "!git pull"
      ],
      "metadata": {
        "colab": {
          "base_uri": "https://localhost:8080/"
        },
        "id": "lXPfH2o0ArXI",
        "outputId": "449cd123-66f3-408b-ab57-0e23ead28f77"
      },
      "id": "lXPfH2o0ArXI",
      "execution_count": 76,
      "outputs": [
        {
          "output_type": "stream",
          "name": "stdout",
          "text": [
            "remote: Enumerating objects: 11, done.\u001b[K\n",
            "remote: Counting objects:   9% (1/11)\u001b[K\rremote: Counting objects:  18% (2/11)\u001b[K\rremote: Counting objects:  27% (3/11)\u001b[K\rremote: Counting objects:  36% (4/11)\u001b[K\rremote: Counting objects:  45% (5/11)\u001b[K\rremote: Counting objects:  54% (6/11)\u001b[K\rremote: Counting objects:  63% (7/11)\u001b[K\rremote: Counting objects:  72% (8/11)\u001b[K\rremote: Counting objects:  81% (9/11)\u001b[K\rremote: Counting objects:  90% (10/11)\u001b[K\rremote: Counting objects: 100% (11/11)\u001b[K\rremote: Counting objects: 100% (11/11), done.\u001b[K\n",
            "remote: Compressing objects:  50% (1/2)\u001b[K\rremote: Compressing objects: 100% (2/2)\u001b[K\rremote: Compressing objects: 100% (2/2), done.\u001b[K\n",
            "remote: Total 6 (delta 4), reused 6 (delta 4), pack-reused 0\u001b[K\n",
            "Unpacking objects:  16% (1/6)\rUnpacking objects:  33% (2/6)\rUnpacking objects:  50% (3/6)\rUnpacking objects:  66% (4/6)\rUnpacking objects:  83% (5/6)\rUnpacking objects: 100% (6/6)\rUnpacking objects: 100% (6/6), 745 bytes | 372.00 KiB/s, done.\n",
            "From https://github.com/tejomaygadgil/cgpos\n",
            "   8f24c99..6a56dd9  nn         -> origin/nn\n",
            "Updating 8f24c99..6a56dd9\n",
            "Fast-forward\n",
            " src/config.py   |  1 \u001b[32m+\u001b[m\n",
            " src/pretrain.py | 36 \u001b[32m++++++++++++++++++\u001b[m\u001b[31m------------------\u001b[m\n",
            " src/util.py     |  2 \u001b[32m+\u001b[m\u001b[31m-\u001b[m\n",
            " 3 files changed, 20 insertions(+), 19 deletions(-)\n"
          ]
        }
      ]
    },
    {
      "cell_type": "code",
      "source": [
        "!pip install wandb\n",
        "import wandb\n",
        "wandb.login()"
      ],
      "metadata": {
        "colab": {
          "base_uri": "https://localhost:8080/",
          "height": 816
        },
        "id": "JbOYRQiW7LHl",
        "outputId": "02971643-8552-4758-b191-fe541fa62800"
      },
      "id": "JbOYRQiW7LHl",
      "execution_count": 7,
      "outputs": [
        {
          "output_type": "stream",
          "name": "stdout",
          "text": [
            "Collecting wandb\n",
            "  Downloading wandb-0.15.12-py3-none-any.whl (2.1 MB)\n",
            "\u001b[2K     \u001b[90m━━━━━━━━━━━━━━━━━━━━━━━━━━━━━━━━━━━━━━━━\u001b[0m \u001b[32m2.1/2.1 MB\u001b[0m \u001b[31m23.7 MB/s\u001b[0m eta \u001b[36m0:00:00\u001b[0m\n",
            "\u001b[?25hRequirement already satisfied: Click!=8.0.0,>=7.1 in /usr/local/lib/python3.10/dist-packages (from wandb) (8.1.7)\n",
            "Collecting GitPython!=3.1.29,>=1.0.0 (from wandb)\n",
            "  Downloading GitPython-3.1.37-py3-none-any.whl (190 kB)\n",
            "\u001b[2K     \u001b[90m━━━━━━━━━━━━━━━━━━━━━━━━━━━━━━━━━━━━━━\u001b[0m \u001b[32m190.0/190.0 kB\u001b[0m \u001b[31m24.4 MB/s\u001b[0m eta \u001b[36m0:00:00\u001b[0m\n",
            "\u001b[?25hRequirement already satisfied: requests<3,>=2.0.0 in /usr/local/lib/python3.10/dist-packages (from wandb) (2.31.0)\n",
            "Requirement already satisfied: psutil>=5.0.0 in /usr/local/lib/python3.10/dist-packages (from wandb) (5.9.5)\n",
            "Collecting sentry-sdk>=1.0.0 (from wandb)\n",
            "  Downloading sentry_sdk-1.31.0-py2.py3-none-any.whl (224 kB)\n",
            "\u001b[2K     \u001b[90m━━━━━━━━━━━━━━━━━━━━━━━━━━━━━━━━━━━━━━\u001b[0m \u001b[32m224.8/224.8 kB\u001b[0m \u001b[31m25.2 MB/s\u001b[0m eta \u001b[36m0:00:00\u001b[0m\n",
            "\u001b[?25hCollecting docker-pycreds>=0.4.0 (from wandb)\n",
            "  Downloading docker_pycreds-0.4.0-py2.py3-none-any.whl (9.0 kB)\n",
            "Requirement already satisfied: PyYAML in /usr/local/lib/python3.10/dist-packages (from wandb) (6.0.1)\n",
            "Collecting pathtools (from wandb)\n",
            "  Downloading pathtools-0.1.2.tar.gz (11 kB)\n",
            "  Preparing metadata (setup.py) ... \u001b[?25l\u001b[?25hdone\n",
            "Collecting setproctitle (from wandb)\n",
            "  Downloading setproctitle-1.3.3-cp310-cp310-manylinux_2_5_x86_64.manylinux1_x86_64.manylinux_2_17_x86_64.manylinux2014_x86_64.whl (30 kB)\n",
            "Requirement already satisfied: setuptools in /usr/local/lib/python3.10/dist-packages (from wandb) (67.7.2)\n",
            "Requirement already satisfied: appdirs>=1.4.3 in /usr/local/lib/python3.10/dist-packages (from wandb) (1.4.4)\n",
            "Requirement already satisfied: protobuf!=4.21.0,<5,>=3.19.0 in /usr/local/lib/python3.10/dist-packages (from wandb) (3.20.3)\n",
            "Requirement already satisfied: six>=1.4.0 in /usr/local/lib/python3.10/dist-packages (from docker-pycreds>=0.4.0->wandb) (1.16.0)\n",
            "Collecting gitdb<5,>=4.0.1 (from GitPython!=3.1.29,>=1.0.0->wandb)\n",
            "  Downloading gitdb-4.0.10-py3-none-any.whl (62 kB)\n",
            "\u001b[2K     \u001b[90m━━━━━━━━━━━━━━━━━━━━━━━━━━━━━━━━━━━━━━━━\u001b[0m \u001b[32m62.7/62.7 kB\u001b[0m \u001b[31m7.4 MB/s\u001b[0m eta \u001b[36m0:00:00\u001b[0m\n",
            "\u001b[?25hRequirement already satisfied: charset-normalizer<4,>=2 in /usr/local/lib/python3.10/dist-packages (from requests<3,>=2.0.0->wandb) (3.3.0)\n",
            "Requirement already satisfied: idna<4,>=2.5 in /usr/local/lib/python3.10/dist-packages (from requests<3,>=2.0.0->wandb) (3.4)\n",
            "Requirement already satisfied: urllib3<3,>=1.21.1 in /usr/local/lib/python3.10/dist-packages (from requests<3,>=2.0.0->wandb) (2.0.6)\n",
            "Requirement already satisfied: certifi>=2017.4.17 in /usr/local/lib/python3.10/dist-packages (from requests<3,>=2.0.0->wandb) (2023.7.22)\n",
            "Collecting smmap<6,>=3.0.1 (from gitdb<5,>=4.0.1->GitPython!=3.1.29,>=1.0.0->wandb)\n",
            "  Downloading smmap-5.0.1-py3-none-any.whl (24 kB)\n",
            "Building wheels for collected packages: pathtools\n",
            "  Building wheel for pathtools (setup.py) ... \u001b[?25l\u001b[?25hdone\n",
            "  Created wheel for pathtools: filename=pathtools-0.1.2-py3-none-any.whl size=8791 sha256=db6dc3767d95e59248a9ee2a240e7f1a28dfc437ee24734910dd0260924bf0ca\n",
            "  Stored in directory: /root/.cache/pip/wheels/e7/f3/22/152153d6eb222ee7a56ff8617d80ee5207207a8c00a7aab794\n",
            "Successfully built pathtools\n",
            "Installing collected packages: pathtools, smmap, setproctitle, sentry-sdk, docker-pycreds, gitdb, GitPython, wandb\n",
            "Successfully installed GitPython-3.1.37 docker-pycreds-0.4.0 gitdb-4.0.10 pathtools-0.1.2 sentry-sdk-1.31.0 setproctitle-1.3.3 smmap-5.0.1 wandb-0.15.12\n"
          ]
        },
        {
          "output_type": "display_data",
          "data": {
            "text/plain": [
              "<IPython.core.display.Javascript object>"
            ],
            "application/javascript": [
              "\n",
              "        window._wandbApiKey = new Promise((resolve, reject) => {\n",
              "            function loadScript(url) {\n",
              "            return new Promise(function(resolve, reject) {\n",
              "                let newScript = document.createElement(\"script\");\n",
              "                newScript.onerror = reject;\n",
              "                newScript.onload = resolve;\n",
              "                document.body.appendChild(newScript);\n",
              "                newScript.src = url;\n",
              "            });\n",
              "            }\n",
              "            loadScript(\"https://cdn.jsdelivr.net/npm/postmate/build/postmate.min.js\").then(() => {\n",
              "            const iframe = document.createElement('iframe')\n",
              "            iframe.style.cssText = \"width:0;height:0;border:none\"\n",
              "            document.body.appendChild(iframe)\n",
              "            const handshake = new Postmate({\n",
              "                container: iframe,\n",
              "                url: 'https://wandb.ai/authorize'\n",
              "            });\n",
              "            const timeout = setTimeout(() => reject(\"Couldn't auto authenticate\"), 5000)\n",
              "            handshake.then(function(child) {\n",
              "                child.on('authorize', data => {\n",
              "                    clearTimeout(timeout)\n",
              "                    resolve(data)\n",
              "                });\n",
              "            });\n",
              "            })\n",
              "        });\n",
              "    "
            ]
          },
          "metadata": {}
        },
        {
          "output_type": "stream",
          "name": "stderr",
          "text": [
            "\u001b[34m\u001b[1mwandb\u001b[0m: Logging into wandb.ai. (Learn how to deploy a W&B server locally: https://wandb.me/wandb-server)\n",
            "\u001b[34m\u001b[1mwandb\u001b[0m: You can find your API key in your browser here: https://wandb.ai/authorize\n",
            "wandb: Paste an API key from your profile and hit enter, or press ctrl+c to quit:"
          ]
        },
        {
          "name": "stdout",
          "output_type": "stream",
          "text": [
            " ··········\n"
          ]
        },
        {
          "output_type": "stream",
          "name": "stderr",
          "text": [
            "\u001b[34m\u001b[1mwandb\u001b[0m: Appending key for api.wandb.ai to your netrc file: /root/.netrc\n"
          ]
        },
        {
          "output_type": "execute_result",
          "data": {
            "text/plain": [
              "True"
            ]
          },
          "metadata": {},
          "execution_count": 7
        }
      ]
    },
    {
      "cell_type": "code",
      "execution_count": 4,
      "id": "ea3725fb-b223-4501-b16e-b9694fbbf7e5",
      "metadata": {
        "tags": [],
        "colab": {
          "base_uri": "https://localhost:8080/"
        },
        "id": "ea3725fb-b223-4501-b16e-b9694fbbf7e5",
        "outputId": "5dbea240-2cbb-4ffc-f59c-f440027e5f75"
      },
      "outputs": [
        {
          "output_type": "stream",
          "name": "stdout",
          "text": [
            "/content/cgpos\n"
          ]
        }
      ],
      "source": [
        "%cd /content/cgpos"
      ]
    },
    {
      "cell_type": "code",
      "execution_count": 78,
      "id": "3c286351-a1ab-48a3-ae69-c62c04d693d1",
      "metadata": {
        "tags": [],
        "colab": {
          "base_uri": "https://localhost:8080/"
        },
        "id": "3c286351-a1ab-48a3-ae69-c62c04d693d1",
        "outputId": "a12e61dc-e963-4470-8269-af00a093c1ff"
      },
      "outputs": [
        {
          "output_type": "stream",
          "name": "stdout",
          "text": [
            "The autoreload extension is already loaded. To reload it, use:\n",
            "  %reload_ext autoreload\n"
          ]
        }
      ],
      "source": [
        "%load_ext autoreload\n",
        "%autoreload 2"
      ]
    },
    {
      "cell_type": "code",
      "execution_count": 80,
      "id": "0c976812-5ef1-4b6e-b427-efdf4bceb443",
      "metadata": {
        "tags": [],
        "colab": {
          "base_uri": "https://localhost:8080/"
        },
        "id": "0c976812-5ef1-4b6e-b427-efdf4bceb443",
        "outputId": "6cf974fe-8225-4968-b205-66cfa94284c6"
      },
      "outputs": [
        {
          "output_type": "stream",
          "name": "stdout",
          "text": [
            "cuda\n"
          ]
        }
      ],
      "source": [
        "from collections import defaultdict\n",
        "import random\n",
        "\n",
        "from tqdm import tqdm\n",
        "import torch\n",
        "import torch.nn as nn\n",
        "\n",
        "from src.model import Transformer\n",
        "import src.config as cfg\n",
        "from src.util import read_pkl, encode, decode, get_batch, display_bar\n",
        "\n",
        "device = \"cuda\" if torch.cuda.is_available() else \"cpu\"\n",
        "print(device)"
      ]
    },
    {
      "cell_type": "code",
      "execution_count": 42,
      "id": "43bf11e9-ccd0-4a00-8cab-9bd5fa14a20f",
      "metadata": {
        "tags": [],
        "colab": {
          "base_uri": "https://localhost:8080/",
          "height": 272,
          "referenced_widgets": [
            "335b9d732870408d89cd5ebb3172dcb7",
            "475f583629cc46abb7707c6043562058",
            "ca3d7e5d93e844a3a6bc03a0e41ffa4c",
            "cc8213ee5caf4915b27ad3f5bb79c60b",
            "0ae826d8d4404782a8e18c43a9d275c3",
            "ee80a4a586ff435da8f1829b0ff09227",
            "2ee72305ccf84880807ca345fb0c9dbb",
            "036074dbb6a64564991235107239c5cf"
          ]
        },
        "id": "43bf11e9-ccd0-4a00-8cab-9bd5fa14a20f",
        "outputId": "bd57d441-a676-445d-ee4c-a3f144763722"
      },
      "outputs": [
        {
          "output_type": "display_data",
          "data": {
            "text/plain": [
              "<IPython.core.display.HTML object>"
            ],
            "text/html": [
              "Finishing last run (ID:2wlbf306) before initializing another..."
            ]
          },
          "metadata": {}
        },
        {
          "output_type": "display_data",
          "data": {
            "text/plain": [
              "<IPython.core.display.HTML object>"
            ],
            "text/html": [
              "Waiting for W&B process to finish... <strong style=\"color:green\">(success).</strong>"
            ]
          },
          "metadata": {}
        },
        {
          "output_type": "display_data",
          "data": {
            "text/plain": [
              "VBox(children=(Label(value='0.001 MB of 0.002 MB uploaded (0.000 MB deduped)\\r'), FloatProgress(value=0.578100…"
            ],
            "application/vnd.jupyter.widget-view+json": {
              "version_major": 2,
              "version_minor": 0,
              "model_id": "335b9d732870408d89cd5ebb3172dcb7"
            }
          },
          "metadata": {}
        },
        {
          "output_type": "display_data",
          "data": {
            "text/plain": [
              "<IPython.core.display.HTML object>"
            ],
            "text/html": [
              " View run <strong style=\"color:#cdcd00\">bumbling-butterfly-1</strong> at: <a href='https://wandb.ai/tejomaygadgil/ncgpos_ft/runs/2wlbf306' target=\"_blank\">https://wandb.ai/tejomaygadgil/ncgpos_ft/runs/2wlbf306</a><br/>Synced 5 W&B file(s), 0 media file(s), 0 artifact file(s) and 0 other file(s)"
            ]
          },
          "metadata": {}
        },
        {
          "output_type": "display_data",
          "data": {
            "text/plain": [
              "<IPython.core.display.HTML object>"
            ],
            "text/html": [
              "Find logs at: <code>./wandb/run-20231008_153446-2wlbf306/logs</code>"
            ]
          },
          "metadata": {}
        },
        {
          "output_type": "display_data",
          "data": {
            "text/plain": [
              "<IPython.core.display.HTML object>"
            ],
            "text/html": [
              "Successfully finished last run (ID:2wlbf306). Initializing new run:<br/>"
            ]
          },
          "metadata": {}
        },
        {
          "output_type": "display_data",
          "data": {
            "text/plain": [
              "<IPython.core.display.HTML object>"
            ],
            "text/html": [
              "Tracking run with wandb version 0.15.12"
            ]
          },
          "metadata": {}
        },
        {
          "output_type": "display_data",
          "data": {
            "text/plain": [
              "<IPython.core.display.HTML object>"
            ],
            "text/html": [
              "Run data is saved locally in <code>/content/cgpos/wandb/run-20231008_161149-d5248c83</code>"
            ]
          },
          "metadata": {}
        },
        {
          "output_type": "display_data",
          "data": {
            "text/plain": [
              "<IPython.core.display.HTML object>"
            ],
            "text/html": [
              "Syncing run <strong><a href='https://wandb.ai/tejomaygadgil/ncgpos_ft/runs/d5248c83' target=\"_blank\">lyric-thunder-2</a></strong> to <a href='https://wandb.ai/tejomaygadgil/ncgpos_ft' target=\"_blank\">Weights & Biases</a> (<a href='https://wandb.me/run' target=\"_blank\">docs</a>)<br/>"
            ]
          },
          "metadata": {}
        },
        {
          "output_type": "display_data",
          "data": {
            "text/plain": [
              "<IPython.core.display.HTML object>"
            ],
            "text/html": [
              " View project at <a href='https://wandb.ai/tejomaygadgil/ncgpos_ft' target=\"_blank\">https://wandb.ai/tejomaygadgil/ncgpos_ft</a>"
            ]
          },
          "metadata": {}
        },
        {
          "output_type": "display_data",
          "data": {
            "text/plain": [
              "<IPython.core.display.HTML object>"
            ],
            "text/html": [
              " View run at <a href='https://wandb.ai/tejomaygadgil/ncgpos_ft/runs/d5248c83' target=\"_blank\">https://wandb.ai/tejomaygadgil/ncgpos_ft/runs/d5248c83</a>"
            ]
          },
          "metadata": {}
        }
      ],
      "source": [
        "params = read_pkl(cfg.pt_params)\n",
        "wandb.init(project=\"ncgpos_ft\", config=params)\n",
        "for param, value in params.items():\n",
        "    globals()[param] = value\n",
        "device = \"cuda\" if torch.cuda.is_available() else \"cpu\""
      ]
    },
    {
      "cell_type": "code",
      "execution_count": 31,
      "id": "c345b4ae-ae81-436e-bfa6-cbbd03544633",
      "metadata": {
        "tags": [],
        "id": "c345b4ae-ae81-436e-bfa6-cbbd03544633"
      },
      "outputs": [],
      "source": []
    },
    {
      "cell_type": "code",
      "source": [
        "# Read encodings\n",
        "stoi = read_pkl(cfg.pt_stoi)\n",
        "itos = read_pkl(cfg.pt_itos)\n",
        "# Read data\n",
        "ft_syl = read_pkl(cfg.ft_syl)\n",
        "ft_targets = read_pkl(cfg.ft_targets)\n",
        "ft_targets_map = read_pkl(cfg.ft_targets_map)\n",
        "assert len(ft_syl) == len(ft_targets)\n",
        "# Process data\n",
        "default_stoi = defaultdict(lambda: 0, stoi) # Set to \"<UNK>\" if OOV\n",
        "tokens = []\n",
        "labels = []\n",
        "for i, word in enumerate(ft_syl):\n",
        "    for token in encode(default_stoi, word):\n",
        "        tokens.append(token)\n",
        "        labels.append(ft_targets[i][0])\n",
        "\n",
        "tokens = torch.tensor(tokens, dtype=torch.long)\n",
        "labels = torch.tensor(labels, dtype=torch.long)\n",
        "assert len(tokens) == len(labels)\n",
        "print(list(zip(ft_syl, ft_targets))[:5])\n",
        "print(list(zip(tokens.tolist(), labels.tolist()))[:10])"
      ],
      "metadata": {
        "id": "sHD2dXPkGxpB"
      },
      "id": "sHD2dXPkGxpB",
      "execution_count": 63,
      "outputs": []
    },
    {
      "cell_type": "code",
      "source": [],
      "metadata": {
        "colab": {
          "base_uri": "https://localhost:8080/"
        },
        "id": "ra3-m7vk7YzS",
        "outputId": "250139fa-2f15-4427-b9f5-6d607f0a0ce6"
      },
      "id": "ra3-m7vk7YzS",
      "execution_count": 65,
      "outputs": [
        {
          "output_type": "stream",
          "name": "stdout",
          "text": [
            "[(['Θου', 'κυ', 'δί', 'δης'], [2, 0, 1, 0, 0, 0, 1, 1, 0]), (['Ἀ', 'θη', 'ναῖ', 'ος'], [2, 0, 1, 0, 0, 0, 1, 1, 0]), (['ξυ', 'νέ', 'γρα', 'ψε'], [5, 3, 1, 7, 1, 1, 0, 0, 0]), (['τὸν'], [1, 0, 1, 0, 0, 0, 1, 4, 0]), (['πό', 'λε', 'μον'], [2, 0, 1, 0, 0, 0, 1, 4, 0])]\n",
            "[(1025, 2), (7409, 2), (4853, 2), (5001, 2), (15916, 2), (5970, 2), (8861, 2), (9665, 2), (9519, 5), (8752, 5)]\n"
          ]
        }
      ]
    },
    {
      "cell_type": "code",
      "source": [
        "tokens_chunks = torch.split(tokens, len(tokens) // (n_chunks - 1))\n",
        "labels_chunks = torch.split(labels, len(labels) // (n_chunks - 1))\n",
        "l = [1] * int(n_chunks * train_size) + [0] * int(n_chunks * (1 - train_size))\n",
        "random.shuffle(l)\n",
        "train_tokens = torch.cat([tokens_chunks[i] for i, v in enumerate(l) if v])\n",
        "train_labels = torch.cat([labels_chunks[i] for i, v in enumerate(l) if v])\n",
        "val_tokens = torch.cat([tokens_chunks[i] for i, v in enumerate(l) if not v])\n",
        "val_labels = torch.cat([labels_chunks[i] for i, v in enumerate(l) if not v])\n",
        "\n",
        "print(f\"train_size: {train_size}\")\n",
        "print(f\"n_chunks: {n_chunks}\")\n",
        "print(f\"Train size: {len(train_tokens):,} obs\")\n",
        "print(f\"Val size: {len(val_tokens):,} obs\")\n",
        "display_bar(l)\n"
      ],
      "metadata": {
        "colab": {
          "base_uri": "https://localhost:8080/"
        },
        "id": "-g63YjLmDVGN",
        "outputId": "58a14d19-d277-4358-c18c-d16706f1257c"
      },
      "id": "-g63YjLmDVGN",
      "execution_count": 69,
      "outputs": [
        {
          "output_type": "stream",
          "name": "stdout",
          "text": [
            "train_size: 0.98\n",
            "n_chunks: 500\n",
            "Train size: 1,095,328 obs\n",
            "Val size: 22,390 obs\n",
            "\n",
            "\u001b[42m \u001b[0m\u001b[42m \u001b[0m\u001b[42m \u001b[0m\u001b[42m \u001b[0m\u001b[42m \u001b[0m\u001b[42m \u001b[0m\u001b[42m \u001b[0m\u001b[42m \u001b[0m\u001b[42m \u001b[0m\u001b[42m \u001b[0m\u001b[42m \u001b[0m\u001b[42m \u001b[0m\u001b[42m \u001b[0m\u001b[41m \u001b[0m\u001b[42m \u001b[0m\u001b[42m \u001b[0m\u001b[42m \u001b[0m\u001b[42m \u001b[0m\u001b[42m \u001b[0m\u001b[42m \u001b[0m\u001b[42m \u001b[0m\u001b[42m \u001b[0m\u001b[42m \u001b[0m\u001b[42m \u001b[0m\u001b[42m \u001b[0m\u001b[42m \u001b[0m\u001b[42m \u001b[0m\u001b[42m \u001b[0m\u001b[42m \u001b[0m\u001b[42m \u001b[0m\u001b[42m \u001b[0m\u001b[42m \u001b[0m\u001b[42m \u001b[0m\u001b[42m \u001b[0m\u001b[42m \u001b[0m\u001b[42m \u001b[0m\u001b[42m \u001b[0m\u001b[42m \u001b[0m\u001b[42m \u001b[0m\u001b[42m \u001b[0m\u001b[42m \u001b[0m\u001b[42m \u001b[0m\u001b[42m \u001b[0m\u001b[42m \u001b[0m\u001b[42m \u001b[0m\u001b[42m \u001b[0m\u001b[42m \u001b[0m\u001b[42m \u001b[0m\u001b[42m \u001b[0m\u001b[42m \u001b[0m\n",
            "\u001b[42m \u001b[0m\u001b[42m \u001b[0m\u001b[42m \u001b[0m\u001b[42m \u001b[0m\u001b[42m \u001b[0m\u001b[42m \u001b[0m\u001b[42m \u001b[0m\u001b[42m \u001b[0m\u001b[42m \u001b[0m\u001b[42m \u001b[0m\u001b[42m \u001b[0m\u001b[42m \u001b[0m\u001b[42m \u001b[0m\u001b[42m \u001b[0m\u001b[42m \u001b[0m\u001b[42m \u001b[0m\u001b[42m \u001b[0m\u001b[42m \u001b[0m\u001b[42m \u001b[0m\u001b[42m \u001b[0m\u001b[42m \u001b[0m\u001b[42m \u001b[0m\u001b[42m \u001b[0m\u001b[42m \u001b[0m\u001b[41m \u001b[0m\u001b[42m \u001b[0m\u001b[42m \u001b[0m\u001b[42m \u001b[0m\u001b[42m \u001b[0m\u001b[42m \u001b[0m\u001b[41m \u001b[0m\u001b[42m \u001b[0m\u001b[42m \u001b[0m\u001b[42m \u001b[0m\u001b[42m \u001b[0m\u001b[42m \u001b[0m\u001b[42m \u001b[0m\u001b[42m \u001b[0m\u001b[42m \u001b[0m\u001b[42m \u001b[0m\u001b[42m \u001b[0m\u001b[42m \u001b[0m\u001b[42m \u001b[0m\u001b[42m \u001b[0m\u001b[42m \u001b[0m\u001b[42m \u001b[0m\u001b[42m \u001b[0m\u001b[42m \u001b[0m\u001b[42m \u001b[0m\u001b[42m \u001b[0m\n",
            "\u001b[42m \u001b[0m\u001b[42m \u001b[0m\u001b[42m \u001b[0m\u001b[42m \u001b[0m\u001b[42m \u001b[0m\u001b[42m \u001b[0m\u001b[42m \u001b[0m\u001b[42m \u001b[0m\u001b[42m \u001b[0m\u001b[42m \u001b[0m\u001b[42m \u001b[0m\u001b[42m \u001b[0m\u001b[42m \u001b[0m\u001b[42m \u001b[0m\u001b[42m \u001b[0m\u001b[42m \u001b[0m\u001b[42m \u001b[0m\u001b[42m \u001b[0m\u001b[42m \u001b[0m\u001b[42m \u001b[0m\u001b[42m \u001b[0m\u001b[42m \u001b[0m\u001b[42m \u001b[0m\u001b[42m \u001b[0m\u001b[42m \u001b[0m\u001b[42m \u001b[0m\u001b[42m \u001b[0m\u001b[42m \u001b[0m\u001b[42m \u001b[0m\u001b[42m \u001b[0m\u001b[42m \u001b[0m\u001b[42m \u001b[0m\u001b[42m \u001b[0m\u001b[42m \u001b[0m\u001b[42m \u001b[0m\u001b[42m \u001b[0m\u001b[42m \u001b[0m\u001b[42m \u001b[0m\u001b[42m \u001b[0m\u001b[42m \u001b[0m\u001b[42m \u001b[0m\u001b[42m \u001b[0m\u001b[42m \u001b[0m\u001b[42m \u001b[0m\u001b[42m \u001b[0m\u001b[42m \u001b[0m\u001b[42m \u001b[0m\u001b[42m \u001b[0m\u001b[42m \u001b[0m\u001b[42m \u001b[0m\n",
            "\u001b[42m \u001b[0m\u001b[42m \u001b[0m\u001b[42m \u001b[0m\u001b[42m \u001b[0m\u001b[42m \u001b[0m\u001b[42m \u001b[0m\u001b[42m \u001b[0m\u001b[42m \u001b[0m\u001b[42m \u001b[0m\u001b[42m \u001b[0m\u001b[42m \u001b[0m\u001b[41m \u001b[0m\u001b[42m \u001b[0m\u001b[42m \u001b[0m\u001b[42m \u001b[0m\u001b[42m \u001b[0m\u001b[42m \u001b[0m\u001b[42m \u001b[0m\u001b[42m \u001b[0m\u001b[42m \u001b[0m\u001b[42m \u001b[0m\u001b[42m \u001b[0m\u001b[42m \u001b[0m\u001b[42m \u001b[0m\u001b[42m \u001b[0m\u001b[42m \u001b[0m\u001b[42m \u001b[0m\u001b[41m \u001b[0m\u001b[42m \u001b[0m\u001b[41m \u001b[0m\u001b[42m \u001b[0m\u001b[42m \u001b[0m\u001b[42m \u001b[0m\u001b[42m \u001b[0m\u001b[42m \u001b[0m\u001b[42m \u001b[0m\u001b[42m \u001b[0m\u001b[42m \u001b[0m\u001b[42m \u001b[0m\u001b[42m \u001b[0m\u001b[42m \u001b[0m\u001b[42m \u001b[0m\u001b[42m \u001b[0m\u001b[42m \u001b[0m\u001b[42m \u001b[0m\u001b[42m \u001b[0m\u001b[42m \u001b[0m\u001b[42m \u001b[0m\u001b[42m \u001b[0m\u001b[42m \u001b[0m\n",
            "\u001b[42m \u001b[0m\u001b[42m \u001b[0m\u001b[42m \u001b[0m\u001b[42m \u001b[0m\u001b[42m \u001b[0m\u001b[42m \u001b[0m\u001b[42m \u001b[0m\u001b[42m \u001b[0m\u001b[42m \u001b[0m\u001b[42m \u001b[0m\u001b[42m \u001b[0m\u001b[42m \u001b[0m\u001b[42m \u001b[0m\u001b[42m \u001b[0m\u001b[42m \u001b[0m\u001b[42m \u001b[0m\u001b[42m \u001b[0m\u001b[42m \u001b[0m\u001b[42m \u001b[0m\u001b[42m \u001b[0m\u001b[42m \u001b[0m\u001b[42m \u001b[0m\u001b[42m \u001b[0m\u001b[42m \u001b[0m\u001b[42m \u001b[0m\u001b[42m \u001b[0m\u001b[42m \u001b[0m\u001b[42m \u001b[0m\u001b[42m \u001b[0m\u001b[41m \u001b[0m\u001b[42m \u001b[0m\u001b[42m \u001b[0m\u001b[42m \u001b[0m\u001b[42m \u001b[0m\u001b[42m \u001b[0m\u001b[42m \u001b[0m\u001b[42m \u001b[0m\u001b[41m \u001b[0m\u001b[42m \u001b[0m\u001b[42m \u001b[0m\u001b[42m \u001b[0m\u001b[42m \u001b[0m\u001b[42m \u001b[0m\u001b[42m \u001b[0m\u001b[42m \u001b[0m\u001b[42m \u001b[0m\u001b[42m \u001b[0m\u001b[42m \u001b[0m\u001b[42m \u001b[0m\u001b[42m \u001b[0m\n",
            "\u001b[42m \u001b[0m\u001b[42m \u001b[0m\u001b[42m \u001b[0m\u001b[42m \u001b[0m\u001b[42m \u001b[0m\u001b[42m \u001b[0m\u001b[42m \u001b[0m\u001b[42m \u001b[0m\u001b[42m \u001b[0m\u001b[42m \u001b[0m\u001b[42m \u001b[0m\u001b[42m \u001b[0m\u001b[42m \u001b[0m\u001b[42m \u001b[0m\u001b[42m \u001b[0m\u001b[42m \u001b[0m\u001b[42m \u001b[0m\u001b[42m \u001b[0m\u001b[42m \u001b[0m\u001b[42m \u001b[0m\u001b[42m \u001b[0m\u001b[42m \u001b[0m\u001b[42m \u001b[0m\u001b[42m \u001b[0m\u001b[42m \u001b[0m\u001b[42m \u001b[0m\u001b[42m \u001b[0m\u001b[42m \u001b[0m\u001b[42m \u001b[0m\u001b[42m \u001b[0m\u001b[42m \u001b[0m\u001b[42m \u001b[0m\u001b[42m \u001b[0m\u001b[42m \u001b[0m\u001b[42m \u001b[0m\u001b[42m \u001b[0m\u001b[42m \u001b[0m\u001b[42m \u001b[0m\u001b[42m \u001b[0m\u001b[42m \u001b[0m\u001b[42m \u001b[0m\u001b[42m \u001b[0m\u001b[42m \u001b[0m\u001b[42m \u001b[0m\u001b[42m \u001b[0m\u001b[42m \u001b[0m\u001b[42m \u001b[0m\u001b[42m \u001b[0m\u001b[42m \u001b[0m\u001b[42m \u001b[0m\n",
            "\u001b[42m \u001b[0m\u001b[42m \u001b[0m\u001b[42m \u001b[0m\u001b[42m \u001b[0m\u001b[42m \u001b[0m\u001b[42m \u001b[0m\u001b[42m \u001b[0m\u001b[42m \u001b[0m\u001b[42m \u001b[0m\u001b[42m \u001b[0m\u001b[42m \u001b[0m\u001b[42m \u001b[0m\u001b[42m \u001b[0m\u001b[42m \u001b[0m\u001b[42m \u001b[0m\u001b[42m \u001b[0m\u001b[42m \u001b[0m\u001b[42m \u001b[0m\u001b[42m \u001b[0m\u001b[42m \u001b[0m\u001b[42m \u001b[0m\u001b[42m \u001b[0m\u001b[42m \u001b[0m\u001b[42m \u001b[0m\u001b[42m \u001b[0m\u001b[42m \u001b[0m\u001b[42m \u001b[0m\u001b[42m \u001b[0m\u001b[42m \u001b[0m\u001b[42m \u001b[0m\u001b[42m \u001b[0m\u001b[42m \u001b[0m\u001b[42m \u001b[0m\u001b[42m \u001b[0m\u001b[42m \u001b[0m\u001b[42m \u001b[0m\u001b[42m \u001b[0m\u001b[42m \u001b[0m\u001b[42m \u001b[0m\u001b[42m \u001b[0m\u001b[42m \u001b[0m\u001b[42m \u001b[0m\u001b[42m \u001b[0m\u001b[42m \u001b[0m\u001b[42m \u001b[0m\u001b[42m \u001b[0m\u001b[42m \u001b[0m\u001b[42m \u001b[0m\u001b[42m \u001b[0m\u001b[42m \u001b[0m\n",
            "\u001b[42m \u001b[0m\u001b[42m \u001b[0m\u001b[42m \u001b[0m\u001b[42m \u001b[0m\u001b[42m \u001b[0m\u001b[42m \u001b[0m\u001b[42m \u001b[0m\u001b[42m \u001b[0m\u001b[41m \u001b[0m\u001b[42m \u001b[0m\u001b[42m \u001b[0m\u001b[42m \u001b[0m\u001b[42m \u001b[0m\u001b[42m \u001b[0m\u001b[42m \u001b[0m\u001b[42m \u001b[0m\u001b[42m \u001b[0m\u001b[42m \u001b[0m\u001b[42m \u001b[0m\u001b[41m \u001b[0m\u001b[42m \u001b[0m\u001b[42m \u001b[0m\u001b[42m \u001b[0m\u001b[42m \u001b[0m\u001b[42m \u001b[0m\u001b[42m \u001b[0m\u001b[42m \u001b[0m\u001b[42m \u001b[0m\u001b[42m \u001b[0m\u001b[42m \u001b[0m\u001b[42m \u001b[0m\u001b[42m \u001b[0m\u001b[42m \u001b[0m\u001b[42m \u001b[0m\u001b[42m \u001b[0m\u001b[42m \u001b[0m\u001b[42m \u001b[0m\u001b[42m \u001b[0m\u001b[42m \u001b[0m\u001b[42m \u001b[0m\u001b[42m \u001b[0m\u001b[42m \u001b[0m\u001b[42m \u001b[0m\u001b[42m \u001b[0m\u001b[42m \u001b[0m\u001b[42m \u001b[0m\u001b[42m \u001b[0m\u001b[42m \u001b[0m\u001b[42m \u001b[0m\u001b[42m \u001b[0m\n",
            "\u001b[42m \u001b[0m\u001b[42m \u001b[0m\u001b[42m \u001b[0m\u001b[42m \u001b[0m\u001b[42m \u001b[0m\u001b[42m \u001b[0m\u001b[42m \u001b[0m\u001b[42m \u001b[0m\u001b[42m \u001b[0m\u001b[42m \u001b[0m\u001b[42m \u001b[0m\u001b[42m \u001b[0m\u001b[42m \u001b[0m\u001b[42m \u001b[0m\u001b[42m \u001b[0m\u001b[42m \u001b[0m\u001b[42m \u001b[0m\u001b[42m \u001b[0m\u001b[42m \u001b[0m\u001b[42m \u001b[0m\u001b[42m \u001b[0m\u001b[42m \u001b[0m\u001b[42m \u001b[0m\u001b[42m \u001b[0m\u001b[42m \u001b[0m\u001b[42m \u001b[0m\u001b[42m \u001b[0m\u001b[42m \u001b[0m\u001b[42m \u001b[0m\u001b[42m \u001b[0m\u001b[42m \u001b[0m\u001b[42m \u001b[0m\u001b[42m \u001b[0m\u001b[42m \u001b[0m\u001b[42m \u001b[0m\u001b[42m \u001b[0m\u001b[42m \u001b[0m\u001b[42m \u001b[0m\u001b[42m \u001b[0m\u001b[42m \u001b[0m\u001b[42m \u001b[0m\u001b[42m \u001b[0m\u001b[42m \u001b[0m\u001b[42m \u001b[0m\u001b[42m \u001b[0m\u001b[42m \u001b[0m\u001b[42m \u001b[0m\u001b[42m \u001b[0m\u001b[42m \u001b[0m\u001b[42m \u001b[0m\n",
            "\u001b[42m \u001b[0m\u001b[42m \u001b[0m\u001b[42m \u001b[0m\u001b[42m \u001b[0m\u001b[42m \u001b[0m\u001b[42m \u001b[0m\u001b[42m \u001b[0m\u001b[42m \u001b[0m\u001b[42m \u001b[0m\u001b[42m \u001b[0m\u001b[42m \u001b[0m\u001b[42m \u001b[0m\u001b[42m \u001b[0m\u001b[42m \u001b[0m\u001b[42m \u001b[0m\u001b[42m \u001b[0m\u001b[42m \u001b[0m\u001b[42m \u001b[0m\u001b[42m \u001b[0m\u001b[42m \u001b[0m\u001b[42m \u001b[0m\u001b[42m \u001b[0m\u001b[42m \u001b[0m\u001b[42m \u001b[0m\u001b[42m \u001b[0m\u001b[42m \u001b[0m\u001b[42m \u001b[0m\u001b[42m \u001b[0m\u001b[42m \u001b[0m\u001b[42m \u001b[0m\u001b[42m \u001b[0m\u001b[42m \u001b[0m\u001b[42m \u001b[0m\u001b[42m \u001b[0m\u001b[42m \u001b[0m\u001b[42m \u001b[0m\u001b[42m \u001b[0m\u001b[42m \u001b[0m\u001b[42m \u001b[0m\u001b[42m \u001b[0m\u001b[42m \u001b[0m\u001b[42m \u001b[0m\u001b[42m \u001b[0m\u001b[42m \u001b[0m\u001b[42m \u001b[0m\u001b[42m \u001b[0m\u001b[42m \u001b[0m\u001b[42m \u001b[0m\u001b[42m \u001b[0m\u001b[42m \u001b[0m"
          ]
        }
      ]
    },
    {
      "cell_type": "code",
      "execution_count": 70,
      "id": "08d88270-5ba2-463e-aeed-bae16e4b3d95",
      "metadata": {
        "tags": [],
        "id": "08d88270-5ba2-463e-aeed-bae16e4b3d95"
      },
      "outputs": [],
      "source": [
        "model = Transformer(\n",
        "    vocab_size=17016,\n",
        "    block_size=256,\n",
        "    emb_size=512,\n",
        "    n_layer=6,\n",
        "    n_head=8,\n",
        "    dropout=0.6,\n",
        "    device=device\n",
        ")\n",
        "model.load_state_dict(torch.load(cfg.pt_wts, map_location=torch.device(device)))\n",
        "# Omg!!\n",
        "model.lm_head = nn.Linear(512, len(ft_targets_map[1][0]))\n",
        "\n",
        "m = model.to(device)"
      ]
    },
    {
      "cell_type": "code",
      "execution_count": 71,
      "id": "6e8db07a-9316-4357-88ad-b0050b295ad9",
      "metadata": {
        "id": "6e8db07a-9316-4357-88ad-b0050b295ad9"
      },
      "outputs": [],
      "source": [
        "@torch.no_grad()\n",
        "def estimate_loss(eval_iters, device, *batch_args):\n",
        "    out = []\n",
        "    model.eval()\n",
        "    for tokens, labels in [(train_tokens, train_labels), (val_tokens, val_labels)]:\n",
        "        losses = torch.zeros(eval_iters, device=device)\n",
        "        for k in range(eval_iters):\n",
        "            X, Y = get_batch(tokens, *batch_args, y=labels)\n",
        "            _, loss = model(X, Y)\n",
        "            losses[k] = loss.item()\n",
        "        out.append(losses.mean())\n",
        "    model.train()\n",
        "    return out\n"
      ]
    },
    {
      "cell_type": "code",
      "execution_count": 82,
      "id": "78631f67-3350-4af0-8ec6-713ec0cc51a9",
      "metadata": {
        "tags": [],
        "colab": {
          "base_uri": "https://localhost:8080/",
          "height": 462
        },
        "id": "78631f67-3350-4af0-8ec6-713ec0cc51a9",
        "outputId": "885f1a9c-8e37-483f-bff6-b8e1c8119ae5"
      },
      "outputs": [
        {
          "output_type": "stream",
          "name": "stderr",
          "text": [
            "  0%|          | 0/10000 [00:00<?, ?it/s]\n"
          ]
        },
        {
          "output_type": "error",
          "ename": "RuntimeError",
          "evalue": "ignored",
          "traceback": [
            "\u001b[0;31m---------------------------------------------------------------------------\u001b[0m",
            "\u001b[0;31mRuntimeError\u001b[0m                              Traceback (most recent call last)",
            "\u001b[0;32m<ipython-input-82-de8c5bf8340c>\u001b[0m in \u001b[0;36m<cell line: 2>\u001b[0;34m()\u001b[0m\n\u001b[1;32m      3\u001b[0m     \u001b[0;31m# Evaluate training and val loss every eval_interval\u001b[0m\u001b[0;34m\u001b[0m\u001b[0;34m\u001b[0m\u001b[0m\n\u001b[1;32m      4\u001b[0m     \u001b[0;32mif\u001b[0m \u001b[0;34m(\u001b[0m\u001b[0mstep\u001b[0m \u001b[0;34m%\u001b[0m \u001b[0meval_interval\u001b[0m \u001b[0;34m==\u001b[0m \u001b[0;36m0\u001b[0m\u001b[0;34m)\u001b[0m \u001b[0;32mor\u001b[0m \u001b[0;34m(\u001b[0m\u001b[0miter\u001b[0m \u001b[0;34m==\u001b[0m \u001b[0mmax_iters\u001b[0m \u001b[0;34m-\u001b[0m \u001b[0;36m1\u001b[0m\u001b[0;34m)\u001b[0m\u001b[0;34m:\u001b[0m\u001b[0;34m\u001b[0m\u001b[0;34m\u001b[0m\u001b[0m\n\u001b[0;32m----> 5\u001b[0;31m         train_loss, val_loss = estimate_loss(\n\u001b[0m\u001b[1;32m      6\u001b[0m             \u001b[0meval_iters\u001b[0m\u001b[0;34m,\u001b[0m \u001b[0mdevice\u001b[0m\u001b[0;34m,\u001b[0m \u001b[0mblock_size\u001b[0m\u001b[0;34m,\u001b[0m \u001b[0mbatch_size\u001b[0m\u001b[0;34m,\u001b[0m \u001b[0mdevice\u001b[0m\u001b[0;34m\u001b[0m\u001b[0;34m\u001b[0m\u001b[0m\n\u001b[1;32m      7\u001b[0m         )\n",
            "\u001b[0;32m/usr/local/lib/python3.10/dist-packages/torch/utils/_contextlib.py\u001b[0m in \u001b[0;36mdecorate_context\u001b[0;34m(*args, **kwargs)\u001b[0m\n\u001b[1;32m    113\u001b[0m     \u001b[0;32mdef\u001b[0m \u001b[0mdecorate_context\u001b[0m\u001b[0;34m(\u001b[0m\u001b[0;34m*\u001b[0m\u001b[0margs\u001b[0m\u001b[0;34m,\u001b[0m \u001b[0;34m**\u001b[0m\u001b[0mkwargs\u001b[0m\u001b[0;34m)\u001b[0m\u001b[0;34m:\u001b[0m\u001b[0;34m\u001b[0m\u001b[0;34m\u001b[0m\u001b[0m\n\u001b[1;32m    114\u001b[0m         \u001b[0;32mwith\u001b[0m \u001b[0mctx_factory\u001b[0m\u001b[0;34m(\u001b[0m\u001b[0;34m)\u001b[0m\u001b[0;34m:\u001b[0m\u001b[0;34m\u001b[0m\u001b[0;34m\u001b[0m\u001b[0m\n\u001b[0;32m--> 115\u001b[0;31m             \u001b[0;32mreturn\u001b[0m \u001b[0mfunc\u001b[0m\u001b[0;34m(\u001b[0m\u001b[0;34m*\u001b[0m\u001b[0margs\u001b[0m\u001b[0;34m,\u001b[0m \u001b[0;34m**\u001b[0m\u001b[0mkwargs\u001b[0m\u001b[0;34m)\u001b[0m\u001b[0;34m\u001b[0m\u001b[0;34m\u001b[0m\u001b[0m\n\u001b[0m\u001b[1;32m    116\u001b[0m \u001b[0;34m\u001b[0m\u001b[0m\n\u001b[1;32m    117\u001b[0m     \u001b[0;32mreturn\u001b[0m \u001b[0mdecorate_context\u001b[0m\u001b[0;34m\u001b[0m\u001b[0;34m\u001b[0m\u001b[0m\n",
            "\u001b[0;32m<ipython-input-71-1c9ea6c92a1c>\u001b[0m in \u001b[0;36mestimate_loss\u001b[0;34m(eval_iters, device, *batch_args)\u001b[0m\n\u001b[1;32m      4\u001b[0m     \u001b[0mmodel\u001b[0m\u001b[0;34m.\u001b[0m\u001b[0meval\u001b[0m\u001b[0;34m(\u001b[0m\u001b[0;34m)\u001b[0m\u001b[0;34m\u001b[0m\u001b[0;34m\u001b[0m\u001b[0m\n\u001b[1;32m      5\u001b[0m     \u001b[0;32mfor\u001b[0m \u001b[0mtokens\u001b[0m\u001b[0;34m,\u001b[0m \u001b[0mlabels\u001b[0m \u001b[0;32min\u001b[0m \u001b[0;34m[\u001b[0m\u001b[0;34m(\u001b[0m\u001b[0mtrain_tokens\u001b[0m\u001b[0;34m,\u001b[0m \u001b[0mtrain_labels\u001b[0m\u001b[0;34m)\u001b[0m\u001b[0;34m,\u001b[0m \u001b[0;34m(\u001b[0m\u001b[0mval_tokens\u001b[0m\u001b[0;34m,\u001b[0m \u001b[0mval_labels\u001b[0m\u001b[0;34m)\u001b[0m\u001b[0;34m]\u001b[0m\u001b[0;34m:\u001b[0m\u001b[0;34m\u001b[0m\u001b[0;34m\u001b[0m\u001b[0m\n\u001b[0;32m----> 6\u001b[0;31m         \u001b[0mlosses\u001b[0m \u001b[0;34m=\u001b[0m \u001b[0mtorch\u001b[0m\u001b[0;34m.\u001b[0m\u001b[0mzeros\u001b[0m\u001b[0;34m(\u001b[0m\u001b[0meval_iters\u001b[0m\u001b[0;34m,\u001b[0m \u001b[0mdevice\u001b[0m\u001b[0;34m=\u001b[0m\u001b[0mdevice\u001b[0m\u001b[0;34m)\u001b[0m\u001b[0;34m\u001b[0m\u001b[0;34m\u001b[0m\u001b[0m\n\u001b[0m\u001b[1;32m      7\u001b[0m         \u001b[0;32mfor\u001b[0m \u001b[0mk\u001b[0m \u001b[0;32min\u001b[0m \u001b[0mrange\u001b[0m\u001b[0;34m(\u001b[0m\u001b[0meval_iters\u001b[0m\u001b[0;34m)\u001b[0m\u001b[0;34m:\u001b[0m\u001b[0;34m\u001b[0m\u001b[0;34m\u001b[0m\u001b[0m\n\u001b[1;32m      8\u001b[0m             \u001b[0mX\u001b[0m\u001b[0;34m,\u001b[0m \u001b[0mY\u001b[0m \u001b[0;34m=\u001b[0m \u001b[0mget_batch\u001b[0m\u001b[0;34m(\u001b[0m\u001b[0mtokens\u001b[0m\u001b[0;34m,\u001b[0m \u001b[0;34m*\u001b[0m\u001b[0mbatch_args\u001b[0m\u001b[0;34m,\u001b[0m \u001b[0my\u001b[0m\u001b[0;34m=\u001b[0m\u001b[0mlabels\u001b[0m\u001b[0;34m)\u001b[0m\u001b[0;34m\u001b[0m\u001b[0;34m\u001b[0m\u001b[0m\n",
            "\u001b[0;31mRuntimeError\u001b[0m: CUDA error: device-side assert triggered\nCUDA kernel errors might be asynchronously reported at some other API call, so the stacktrace below might be incorrect.\nFor debugging consider passing CUDA_LAUNCH_BLOCKING=1.\nCompile with `TORCH_USE_CUDA_DSA` to enable device-side assertions.\n"
          ]
        }
      ],
      "source": [
        "optimizer = torch.optim.AdamW(m.parameters(), lr=learning_rate)\n",
        "for step in tqdm(range(max_iters)):\n",
        "    # Evaluate training and val loss every eval_interval\n",
        "    if (step % eval_interval == 0) or (iter == max_iters - 1):\n",
        "        train_loss, val_loss = estimate_loss(\n",
        "            eval_iters, device, block_size, batch_size, device\n",
        "        )\n",
        "        wandb.log({\"train_loss\": train_loss, \"val_loss\": val_loss})\n",
        "        with logging_redirect_tqdm():\n",
        "            logging.info(\n",
        "                f\"step {step}: train loss {train_loss:.4f}, val loss {val_loss:.4f}\"\n",
        "            )\n",
        "            logging.info(generate(generate_len, block_size, model, device))\n",
        "\n",
        "    # Sample batch\n",
        "    xb, yb = get_batch(train_tokens, block_size, batch_size, device, y=train_labels)\n",
        "    _, loss = m(xb, yb)\n",
        "    optimizer.zero_grad(set_to_none=True)\n",
        "    loss.backward()\n",
        "    optimizer.step()\n",
        "\n",
        "wandb.finish()"
      ]
    },
    {
      "cell_type": "code",
      "execution_count": null,
      "id": "5a319f13-c2a1-42db-9225-9335d253e698",
      "metadata": {
        "tags": [],
        "id": "5a319f13-c2a1-42db-9225-9335d253e698"
      },
      "outputs": [],
      "source": [
        ""
      ]
    }
  ],
  "metadata": {
    "kernelspec": {
      "display_name": "Python 3",
      "name": "python3"
    },
    "language_info": {
      "codemirror_mode": {
        "name": "ipython",
        "version": 3
      },
      "file_extension": ".py",
      "mimetype": "text/x-python",
      "name": "python",
      "nbconvert_exporter": "python",
      "pygments_lexer": "ipython3",
      "version": "3.11.5"
    },
    "colab": {
      "provenance": [],
      "gpuType": "T4"
    },
    "accelerator": "GPU",
    "widgets": {
      "application/vnd.jupyter.widget-state+json": {
        "335b9d732870408d89cd5ebb3172dcb7": {
          "model_module": "@jupyter-widgets/controls",
          "model_name": "VBoxModel",
          "model_module_version": "1.5.0",
          "state": {
            "_dom_classes": [],
            "_model_module": "@jupyter-widgets/controls",
            "_model_module_version": "1.5.0",
            "_model_name": "VBoxModel",
            "_view_count": null,
            "_view_module": "@jupyter-widgets/controls",
            "_view_module_version": "1.5.0",
            "_view_name": "VBoxView",
            "box_style": "",
            "children": [
              "IPY_MODEL_475f583629cc46abb7707c6043562058",
              "IPY_MODEL_ca3d7e5d93e844a3a6bc03a0e41ffa4c"
            ],
            "layout": "IPY_MODEL_cc8213ee5caf4915b27ad3f5bb79c60b"
          }
        },
        "475f583629cc46abb7707c6043562058": {
          "model_module": "@jupyter-widgets/controls",
          "model_name": "LabelModel",
          "model_module_version": "1.5.0",
          "state": {
            "_dom_classes": [],
            "_model_module": "@jupyter-widgets/controls",
            "_model_module_version": "1.5.0",
            "_model_name": "LabelModel",
            "_view_count": null,
            "_view_module": "@jupyter-widgets/controls",
            "_view_module_version": "1.5.0",
            "_view_name": "LabelView",
            "description": "",
            "description_tooltip": null,
            "layout": "IPY_MODEL_0ae826d8d4404782a8e18c43a9d275c3",
            "placeholder": "​",
            "style": "IPY_MODEL_ee80a4a586ff435da8f1829b0ff09227",
            "value": "0.001 MB of 0.002 MB uploaded (0.000 MB deduped)\r"
          }
        },
        "ca3d7e5d93e844a3a6bc03a0e41ffa4c": {
          "model_module": "@jupyter-widgets/controls",
          "model_name": "FloatProgressModel",
          "model_module_version": "1.5.0",
          "state": {
            "_dom_classes": [],
            "_model_module": "@jupyter-widgets/controls",
            "_model_module_version": "1.5.0",
            "_model_name": "FloatProgressModel",
            "_view_count": null,
            "_view_module": "@jupyter-widgets/controls",
            "_view_module_version": "1.5.0",
            "_view_name": "ProgressView",
            "bar_style": "",
            "description": "",
            "description_tooltip": null,
            "layout": "IPY_MODEL_2ee72305ccf84880807ca345fb0c9dbb",
            "max": 1,
            "min": 0,
            "orientation": "horizontal",
            "style": "IPY_MODEL_036074dbb6a64564991235107239c5cf",
            "value": 0.5781004709576139
          }
        },
        "cc8213ee5caf4915b27ad3f5bb79c60b": {
          "model_module": "@jupyter-widgets/base",
          "model_name": "LayoutModel",
          "model_module_version": "1.2.0",
          "state": {
            "_model_module": "@jupyter-widgets/base",
            "_model_module_version": "1.2.0",
            "_model_name": "LayoutModel",
            "_view_count": null,
            "_view_module": "@jupyter-widgets/base",
            "_view_module_version": "1.2.0",
            "_view_name": "LayoutView",
            "align_content": null,
            "align_items": null,
            "align_self": null,
            "border": null,
            "bottom": null,
            "display": null,
            "flex": null,
            "flex_flow": null,
            "grid_area": null,
            "grid_auto_columns": null,
            "grid_auto_flow": null,
            "grid_auto_rows": null,
            "grid_column": null,
            "grid_gap": null,
            "grid_row": null,
            "grid_template_areas": null,
            "grid_template_columns": null,
            "grid_template_rows": null,
            "height": null,
            "justify_content": null,
            "justify_items": null,
            "left": null,
            "margin": null,
            "max_height": null,
            "max_width": null,
            "min_height": null,
            "min_width": null,
            "object_fit": null,
            "object_position": null,
            "order": null,
            "overflow": null,
            "overflow_x": null,
            "overflow_y": null,
            "padding": null,
            "right": null,
            "top": null,
            "visibility": null,
            "width": null
          }
        },
        "0ae826d8d4404782a8e18c43a9d275c3": {
          "model_module": "@jupyter-widgets/base",
          "model_name": "LayoutModel",
          "model_module_version": "1.2.0",
          "state": {
            "_model_module": "@jupyter-widgets/base",
            "_model_module_version": "1.2.0",
            "_model_name": "LayoutModel",
            "_view_count": null,
            "_view_module": "@jupyter-widgets/base",
            "_view_module_version": "1.2.0",
            "_view_name": "LayoutView",
            "align_content": null,
            "align_items": null,
            "align_self": null,
            "border": null,
            "bottom": null,
            "display": null,
            "flex": null,
            "flex_flow": null,
            "grid_area": null,
            "grid_auto_columns": null,
            "grid_auto_flow": null,
            "grid_auto_rows": null,
            "grid_column": null,
            "grid_gap": null,
            "grid_row": null,
            "grid_template_areas": null,
            "grid_template_columns": null,
            "grid_template_rows": null,
            "height": null,
            "justify_content": null,
            "justify_items": null,
            "left": null,
            "margin": null,
            "max_height": null,
            "max_width": null,
            "min_height": null,
            "min_width": null,
            "object_fit": null,
            "object_position": null,
            "order": null,
            "overflow": null,
            "overflow_x": null,
            "overflow_y": null,
            "padding": null,
            "right": null,
            "top": null,
            "visibility": null,
            "width": null
          }
        },
        "ee80a4a586ff435da8f1829b0ff09227": {
          "model_module": "@jupyter-widgets/controls",
          "model_name": "DescriptionStyleModel",
          "model_module_version": "1.5.0",
          "state": {
            "_model_module": "@jupyter-widgets/controls",
            "_model_module_version": "1.5.0",
            "_model_name": "DescriptionStyleModel",
            "_view_count": null,
            "_view_module": "@jupyter-widgets/base",
            "_view_module_version": "1.2.0",
            "_view_name": "StyleView",
            "description_width": ""
          }
        },
        "2ee72305ccf84880807ca345fb0c9dbb": {
          "model_module": "@jupyter-widgets/base",
          "model_name": "LayoutModel",
          "model_module_version": "1.2.0",
          "state": {
            "_model_module": "@jupyter-widgets/base",
            "_model_module_version": "1.2.0",
            "_model_name": "LayoutModel",
            "_view_count": null,
            "_view_module": "@jupyter-widgets/base",
            "_view_module_version": "1.2.0",
            "_view_name": "LayoutView",
            "align_content": null,
            "align_items": null,
            "align_self": null,
            "border": null,
            "bottom": null,
            "display": null,
            "flex": null,
            "flex_flow": null,
            "grid_area": null,
            "grid_auto_columns": null,
            "grid_auto_flow": null,
            "grid_auto_rows": null,
            "grid_column": null,
            "grid_gap": null,
            "grid_row": null,
            "grid_template_areas": null,
            "grid_template_columns": null,
            "grid_template_rows": null,
            "height": null,
            "justify_content": null,
            "justify_items": null,
            "left": null,
            "margin": null,
            "max_height": null,
            "max_width": null,
            "min_height": null,
            "min_width": null,
            "object_fit": null,
            "object_position": null,
            "order": null,
            "overflow": null,
            "overflow_x": null,
            "overflow_y": null,
            "padding": null,
            "right": null,
            "top": null,
            "visibility": null,
            "width": null
          }
        },
        "036074dbb6a64564991235107239c5cf": {
          "model_module": "@jupyter-widgets/controls",
          "model_name": "ProgressStyleModel",
          "model_module_version": "1.5.0",
          "state": {
            "_model_module": "@jupyter-widgets/controls",
            "_model_module_version": "1.5.0",
            "_model_name": "ProgressStyleModel",
            "_view_count": null,
            "_view_module": "@jupyter-widgets/base",
            "_view_module_version": "1.2.0",
            "_view_name": "StyleView",
            "bar_color": null,
            "description_width": ""
          }
        }
      }
    }
  },
  "nbformat": 4,
  "nbformat_minor": 5
}