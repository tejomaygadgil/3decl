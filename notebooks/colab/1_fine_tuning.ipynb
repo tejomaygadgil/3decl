{
 "cells": [
  {
   "cell_type": "markdown",
   "id": "4dc2d7bd-f0b2-4012-84d6-006406ae707c",
   "metadata": {
    "id": "4dc2d7bd-f0b2-4012-84d6-006406ae707c",
    "tags": []
   },
   "source": [
    "<a href=\"https://colab.research.google.com/github/tejomaygadgil/cgpos/blob/nn/notebooks/colab/1_fine_tuning.ipynb\" target=\"_parent\"><img src=\"https://colab.research.google.com/assets/colab-badge.svg\" alt=\"Open In Colab\"/></a>"
   ]
  },
  {
   "cell_type": "code",
   "execution_count": null,
   "id": "E5Op3eRH6CJW",
   "metadata": {
    "colab": {
     "base_uri": "https://localhost:8080/"
    },
    "id": "E5Op3eRH6CJW",
    "outputId": "3437e04a-34a2-4566-e03f-c5e81ead13ab"
   },
   "outputs": [],
   "source": [
    "from google.colab import drive\n",
    "drive.mount('/content/drive')"
   ]
  },
  {
   "cell_type": "code",
   "execution_count": null,
   "id": "JbOYRQiW7LHl",
   "metadata": {
    "colab": {
     "base_uri": "https://localhost:8080/",
     "height": 816
    },
    "id": "JbOYRQiW7LHl",
    "outputId": "fb1f67ce-a231-45e7-9463-88a99512daa2"
   },
   "outputs": [],
   "source": [
    "!pip install wandb\n",
    "import wandb\n",
    "wandb.login()"
   ]
  },
  {
   "cell_type": "code",
   "execution_count": null,
   "id": "073b0da2-89d3-453f-aa3b-bfa840e42ea1",
   "metadata": {
    "colab": {
     "base_uri": "https://localhost:8080/"
    },
    "id": "073b0da2-89d3-453f-aa3b-bfa840e42ea1",
    "outputId": "f20ab1e2-2827-4597-ab9c-185910e15055"
   },
   "outputs": [],
   "source": [
    "!git clone -b nn https://github.com/tejomaygadgil/cgpos.git\n",
    "!pip install git+https://github.com/jtauber/greek-accentuation.git beta-code\n",
    "%cd /content/cgpos\n",
    "!make process_ft_data\n",
    "!python src/train.py setup pt_cloud"
   ]
  },
  {
   "cell_type": "code",
   "execution_count": null,
   "id": "lXPfH2o0ArXI",
   "metadata": {
    "colab": {
     "base_uri": "https://localhost:8080/"
    },
    "id": "lXPfH2o0ArXI",
    "outputId": "2219ad05-19b1-412a-a619-ffd9ffc82529"
   },
   "outputs": [],
   "source": [
    "!git pull"
   ]
  },
  {
   "cell_type": "code",
   "execution_count": null,
   "id": "5a319f13-c2a1-42db-9225-9335d253e698",
   "metadata": {
    "id": "5a319f13-c2a1-42db-9225-9335d253e698",
    "tags": []
   },
   "outputs": [],
   "source": [
    "!python src/train.py fine_tune"
   ]
  }
 ],
 "metadata": {
  "accelerator": "GPU",
  "colab": {
   "gpuType": "V100",
   "include_colab_link": true,
   "machine_shape": "hm",
   "provenance": []
  },
  "kernelspec": {
   "display_name": "Python 3 (ipykernel)",
   "language": "python",
   "name": "python3"
  },
  "language_info": {
   "codemirror_mode": {
    "name": "ipython",
    "version": 3
   },
   "file_extension": ".py",
   "mimetype": "text/x-python",
   "name": "python",
   "nbconvert_exporter": "python",
   "pygments_lexer": "ipython3",
   "version": "3.11.5"
  }
 },
 "nbformat": 4,
 "nbformat_minor": 5
}
