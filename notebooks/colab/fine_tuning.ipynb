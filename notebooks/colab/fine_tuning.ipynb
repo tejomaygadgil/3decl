{
 "cells": [
  {
   "cell_type": "code",
   "execution_count": 3,
   "id": "3c286351-a1ab-48a3-ae69-c62c04d693d1",
   "metadata": {
    "tags": []
   },
   "outputs": [
    {
     "name": "stdout",
     "output_type": "stream",
     "text": [
      "The autoreload extension is already loaded. To reload it, use:\n",
      "  %reload_ext autoreload\n"
     ]
    }
   ],
   "source": [
    "%load_ext autoreload\n",
    "%autoreload 2"
   ]
  },
  {
   "cell_type": "code",
   "execution_count": 4,
   "id": "ea3725fb-b223-4501-b16e-b9694fbbf7e5",
   "metadata": {
    "tags": []
   },
   "outputs": [
    {
     "name": "stdout",
     "output_type": "stream",
     "text": [
      "/home/tejomay/cgpos\n"
     ]
    }
   ],
   "source": [
    "%cd ../../"
   ]
  },
  {
   "cell_type": "code",
   "execution_count": 5,
   "id": "0c976812-5ef1-4b6e-b427-efdf4bceb443",
   "metadata": {
    "tags": []
   },
   "outputs": [],
   "source": [
    "import random \n",
    "\n",
    "import torch\n",
    "import torch.nn as nn\n",
    "\n",
    "from src.model import Transformer\n",
    "import src.config as cfg\n",
    "from src.util import read_pkl, encode, decode, get_batch\n",
    "\n",
    "device = \"cuda\" if torch.cuda.is_available() else \"cpu\""
   ]
  },
  {
   "cell_type": "code",
   "execution_count": 54,
   "id": "c7c0e505-9c77-4832-8366-0019fbacdcc8",
   "metadata": {
    "tags": []
   },
   "outputs": [
    {
     "name": "stdout",
     "output_type": "stream",
     "text": [
      "['NNP', 'POS', 'NN', 'NN']\n"
     ]
    }
   ],
   "source": [
    "# Given data\n",
    "orig_tokens = [\"John\", \"Johanson\", \"'s\",  \"house\"]\n",
    "labels = [\"NNP\",  \"NNP\",      \"POS\", \"NN\"]\n",
    "\n",
    "bert_tokens = [\"[CLS]\", \"john\", \"johan\", \"##son\", \"'\", \"s\", \"house\", \"[SEP]\"]\n",
    "orig_to_tok_map = [1, 2, 4, 6]\n",
    "\n",
    "# Initialize an empty list for token labels\n",
    "token_labels = []\n",
    "\n",
    "# Create a mapping from token indices to label indices\n",
    "label_idx = 0\n",
    "\n",
    "for i, orig_idx in enumerate(orig_to_tok_map):\n",
    "    if i == len(orig_to_tok_map) - 1:\n",
    "        # If it's the last token, just repeat the label for all subtokens.\n",
    "        token_labels.append(labels[label_idx])\n",
    "    else:\n",
    "        # Check if the next original token index is different.\n",
    "        if orig_to_tok_map[i + 1] != orig_idx:\n",
    "            # If different, increment the label index.\n",
    "            label_idx += 1\n",
    "        # Append the label corresponding to the current original token.\n",
    "        token_labels.append(labels[label_idx])\n",
    "\n",
    "# Now, token_labels contains the labels for each token in bert_tokens.\n",
    "print(token_labels)"
   ]
  },
  {
   "cell_type": "code",
   "execution_count": null,
   "id": "cfb59cba-f7d4-4ca4-85fa-0805b5cbb008",
   "metadata": {},
   "outputs": [],
   "source": []
  },
  {
   "cell_type": "code",
   "execution_count": null,
   "id": "90f2fab8-4aca-4278-ad09-6308726df2be",
   "metadata": {},
   "outputs": [],
   "source": []
  },
  {
   "cell_type": "code",
   "execution_count": null,
   "id": "5a87a2f1-8076-4e87-a0d4-15b135ea05a9",
   "metadata": {},
   "outputs": [],
   "source": []
  },
  {
   "cell_type": "code",
   "execution_count": 15,
   "id": "c345b4ae-ae81-436e-bfa6-cbbd03544633",
   "metadata": {
    "tags": []
   },
   "outputs": [],
   "source": [
    "ft_syl = read_pkl(cfg.ft_syl)\n",
    "ft_targets = read_pkl(cfg.ft_targets)\n",
    "assert len(ft_syl) == len(ft_targets)"
   ]
  },
  {
   "cell_type": "code",
   "execution_count": 19,
   "id": "3dac0948-c058-427a-9bfd-975b9e0d00bc",
   "metadata": {
    "tags": []
   },
   "outputs": [],
   "source": [
    "ft_targets_map = read_pkl(cfg.ft_targets_map)"
   ]
  },
  {
   "cell_type": "code",
   "execution_count": 38,
   "id": "cf40f76c-c11e-4963-b09a-e3ed8d96ec7a",
   "metadata": {
    "tags": []
   },
   "outputs": [
    {
     "data": {
      "text/plain": [
       "[(['Θου', 'κυ', 'δί', 'δης'], [2, 0, 1, 0, 0, 0, 1, 1, 0]),\n",
       " (['Ἀ', 'θη', 'ναῖ', 'ος'], [2, 0, 1, 0, 0, 0, 1, 1, 0]),\n",
       " (['ξυ', 'νέ', 'γρα', 'ψε'], [5, 3, 1, 7, 1, 1, 0, 0, 0]),\n",
       " (['τὸν'], [1, 0, 1, 0, 0, 0, 1, 4, 0]),\n",
       " (['πό', 'λε', 'μον'], [2, 0, 1, 0, 0, 0, 1, 4, 0]),\n",
       " (['τῶν'], [1, 0, 2, 0, 0, 0, 1, 2, 0]),\n",
       " (['Πε', 'λο', 'πον', 'νη', 'σί', 'ων'], [2, 0, 2, 0, 0, 0, 1, 2, 0]),\n",
       " (['καὶ'], [8, 0, 0, 0, 0, 0, 0, 0, 0]),\n",
       " (['Ἀ', 'θη', 'ναί', 'ων'], [2, 0, 2, 0, 0, 0, 1, 2, 0]),\n",
       " ([','], [12, 0, 0, 0, 0, 0, 0, 0, 0])]"
      ]
     },
     "execution_count": 38,
     "metadata": {},
     "output_type": "execute_result"
    }
   ],
   "source": [
    "list(zip(ft_syl, ft_targets))[:10]"
   ]
  },
  {
   "cell_type": "code",
   "execution_count": 4,
   "id": "a8270ce7-ffa4-4ac4-9c95-60b7d6cb4a6b",
   "metadata": {
    "tags": []
   },
   "outputs": [],
   "source": [
    "train_size = 0.98\n",
    "n_chunks = 500\n",
    "random_seed = 20\n",
    "unc_rate = 0.01"
   ]
  },
  {
   "cell_type": "code",
   "execution_count": 5,
   "id": "025b617d-26a8-4171-a50c-76f272b5d567",
   "metadata": {
    "tags": []
   },
   "outputs": [],
   "source": [
    "data = read_pkl(cfg.pt_syl)\n",
    "vocab = [\"<UNK>\"] + sorted(set(data))\n",
    "data = [d if random.random() > unc_rate else \"<UNK>\" for d in data]\n",
    "vocab_size = len(vocab)\n",
    "stoi = {ch: i for i, ch in enumerate(vocab)}\n",
    "itos = {i: ch for ch, i in stoi.items()}"
   ]
  },
  {
   "cell_type": "code",
   "execution_count": 19,
   "id": "b21c8755-d8aa-485f-a71a-dbc19ee20061",
   "metadata": {
    "tags": []
   },
   "outputs": [],
   "source": [
    "d = defaultdict(lambda: 7, {4: 6, 7: 8})"
   ]
  },
  {
   "cell_type": "code",
   "execution_count": 24,
   "id": "af8b4b28-bfcd-4ed7-b54b-91c07fcc9eb1",
   "metadata": {
    "tags": []
   },
   "outputs": [
    {
     "data": {
      "text/plain": [
       "defaultdict(<function __main__.<lambda>()>, {4: 6, 7: 8, 10: 7})"
      ]
     },
     "execution_count": 24,
     "metadata": {},
     "output_type": "execute_result"
    }
   ],
   "source": [
    "d"
   ]
  },
  {
   "cell_type": "code",
   "execution_count": 7,
   "id": "8afacb1d-ce2c-4e6d-abf0-195958ccf1c2",
   "metadata": {
    "tags": []
   },
   "outputs": [],
   "source": [
    "# Train and test split\n",
    "tokens = torch.tensor(encode(stoi, data), dtype=torch.long)\n",
    "chunks = torch.split(tokens, len(data) // (n_chunks - 1))\n",
    "l = [1] * int(n_chunks * train_size) + [0] * int(n_chunks * (1 - train_size))\n",
    "random.shuffle(l)\n",
    "train_data = torch.cat([chunks[i] for i, v in enumerate(l) if v])\n",
    "val_data = torch.cat([chunks[i] for i, v in enumerate(l) if not v])"
   ]
  },
  {
   "cell_type": "code",
   "execution_count": 8,
   "id": "89c76433-75fb-4482-9db9-461279daad2e",
   "metadata": {
    "tags": []
   },
   "outputs": [],
   "source": [
    "x, y = get_batch(train_data, 256, 64, \"cpu\")"
   ]
  },
  {
   "cell_type": "code",
   "execution_count": 44,
   "id": "08d88270-5ba2-463e-aeed-bae16e4b3d95",
   "metadata": {
    "tags": []
   },
   "outputs": [],
   "source": [
    "model = Transformer(\n",
    "    vocab_size=17016, \n",
    "    block_size=256, \n",
    "    emb_size=512, \n",
    "    n_layer=6, \n",
    "    n_head=8, \n",
    "    dropout=0.6, \n",
    "    device=device\n",
    ")\n",
    "model.load_state_dict(torch.load('wts/wts_2023-10-08_03-49-37.pth', map_location=torch.device(device)))\n",
    "# Omg!!\n",
    "model.lm_head = nn.Linear(512, len(ft_targets_map[1][0]))\n",
    "\n",
    "m = model.to(device)"
   ]
  },
  {
   "cell_type": "code",
   "execution_count": 28,
   "id": "78631f67-3350-4af0-8ec6-713ec0cc51a9",
   "metadata": {
    "tags": []
   },
   "outputs": [
    {
     "data": {
      "text/plain": [
       "Linear(in_features=512, out_features=16970, bias=True)"
      ]
     },
     "execution_count": 28,
     "metadata": {},
     "output_type": "execute_result"
    }
   ],
   "source": [
    "model.lm_head"
   ]
  },
  {
   "cell_type": "code",
   "execution_count": 42,
   "id": "5a319f13-c2a1-42db-9225-9335d253e698",
   "metadata": {
    "tags": []
   },
   "outputs": [],
   "source": [
    "class POSTagger(nn.Module):\n",
    "    "
   ]
  }
 ],
 "metadata": {
  "kernelspec": {
   "display_name": "Python 3 (ipykernel)",
   "language": "python",
   "name": "python3"
  },
  "language_info": {
   "codemirror_mode": {
    "name": "ipython",
    "version": 3
   },
   "file_extension": ".py",
   "mimetype": "text/x-python",
   "name": "python",
   "nbconvert_exporter": "python",
   "pygments_lexer": "ipython3",
   "version": "3.11.5"
  }
 },
 "nbformat": 4,
 "nbformat_minor": 5
}
