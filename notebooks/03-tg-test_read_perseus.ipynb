{
 "cells": [
  {
   "cell_type": "markdown",
   "id": "c6305972-3da4-4a5e-9cb4-55f5bc9ea7c5",
   "metadata": {},
   "source": [
    "# Goal: Running `cgpos` methods in jupyter notebook.\n",
    "\n",
    "Requirements\n",
    "1. Load hydra params\n",
    "2. Init logger (to see output).\n",
    "\n",
    "A bit of overhead but it works great!"
   ]
  },
  {
   "cell_type": "code",
   "execution_count": 1,
   "id": "b2c52928-656e-4f30-9137-a8acbec1f673",
   "metadata": {},
   "outputs": [],
   "source": [
    "%load_ext autoreload\n",
    "%autoreload 2"
   ]
  },
  {
   "cell_type": "code",
   "execution_count": 2,
   "id": "fc62a533-47fa-42e8-8279-7ee23b342135",
   "metadata": {},
   "outputs": [],
   "source": [
    "from cgpos.data import make_dataset\n",
    "from cgpos.data.make_dataset import read_perseus\n",
    "from hydra import initialize, compose\n",
    "import logging"
   ]
  },
  {
   "cell_type": "code",
   "execution_count": 3,
   "id": "0a4b26b9-f3b7-40df-934b-97a2334ee41c",
   "metadata": {},
   "outputs": [],
   "source": [
    "# Load hydra params\n",
    "initialize(\"../conf\", version_base=None)\n",
    "cfg = compose(config_name='main')\n",
    "# Init logger\n",
    "logging.basicConfig(level=logging.DEBUG) "
   ]
  },
  {
   "cell_type": "code",
   "execution_count": 4,
   "id": "63b801da-0b00-405a-bcd0-9014aeeb5a8f",
   "metadata": {},
   "outputs": [
    {
     "name": "stderr",
     "output_type": "stream",
     "text": [
      "INFO:cgpos.data.make_dataset:Processing Perseus data:\n",
      "INFO:cgpos.data.make_dataset:Importing 33 files from /home/tejomay/cgpos/data/raw/treebank_data-master/v2.0/Greek/nonArethusaCompliant/\n",
      "INFO:cgpos.data.make_dataset:Processing tlg0003.tlg001.perseus-grc1.1.tb.xml\n",
      "INFO:cgpos.data.make_dataset:Processing tlg0059.tlg001.perseus-grc1.tb.xml\n",
      "INFO:cgpos.data.make_dataset:Processing tlg0085.tlg004.perseus-grc2.tb.xml\n",
      "INFO:cgpos.data.make_dataset:Processing tlg0540.tlg015.perseus-grc1.tb.xml\n",
      "INFO:cgpos.data.make_dataset:Processing tlg0085.tlg007.perseus-grc1.tb.xml\n",
      "INFO:cgpos.data.make_dataset:Processing tlg0011.tlg005.perseus-grc2.tb.xml\n",
      "INFO:cgpos.data.make_dataset:Processing tlg0096.tlg002.opp-grc2.1-53.tb.xml\n",
      "INFO:cgpos.data.make_dataset:Processing tlg0012.tlg002.perseus-grc1.tb.xml\n",
      "INFO:cgpos.data.make_dataset:Processing tlg0013.tlg002.perseus-grc1.tb.xml\n",
      "INFO:cgpos.data.make_dataset:Processing tlg0020.tlg003.perseus-grc1.tb.xml\n",
      "INFO:cgpos.data.make_dataset:Processing tlg0543.tlg001.perseus-grc1.tb.xml\n",
      "INFO:cgpos.data.make_dataset:Processing tlg0008.tlg001.perseus-grc1.12.tb.xml\n",
      "INFO:cgpos.data.make_dataset:Processing tlg0011.tlg001.perseus-grc2.tb.xml\n",
      "INFO:cgpos.data.make_dataset:Processing tlg0085.tlg001.perseus-grc2.tb.xml\n",
      "INFO:cgpos.data.make_dataset:Processing tlg0007.tlg004.perseus-grc1.tb.xml\n",
      "INFO:cgpos.data.make_dataset:Processing tlg0011.tlg002.perseus-grc2.tb.xml\n",
      "INFO:cgpos.data.make_dataset:Processing tlg0085.tlg002.perseus-grc2.tb.xml\n",
      "INFO:cgpos.data.make_dataset:Processing tlg0085.tlg003.perseus-grc2.tb.xml\n",
      "INFO:cgpos.data.make_dataset:Processing tlg0548.tlg001.perseus-grc1.1.1.1-1.4.1.tb.xml\n",
      "INFO:cgpos.data.make_dataset:Processing tlg0020.tlg001.perseus-grc1.tb.xml\n",
      "INFO:cgpos.data.make_dataset:Processing tlg0540.tlg014.perseus-grc1.tb.xml\n",
      "INFO:cgpos.data.make_dataset:Processing tlg0011.tlg003.perseus-grc1.tb.xml\n",
      "INFO:cgpos.data.make_dataset:Processing tlg0540.tlg023.perseus-grc1.tb.xml\n",
      "INFO:cgpos.data.make_dataset:Processing tlg0020.tlg002.perseus-grc1.tb.xml\n",
      "INFO:cgpos.data.make_dataset:Processing tlg0085.tlg005.perseus-grc1.tb.xml\n",
      "INFO:cgpos.data.make_dataset:Processing tlg0008.tlg001.perseus-grc1.13.tb.xml\n",
      "INFO:cgpos.data.make_dataset:Processing tlg0011.tlg004.perseus-grc1.tb.xml\n",
      "INFO:cgpos.data.make_dataset:Processing tlg0085.tlg006.perseus-grc2.tb.xml\n",
      "INFO:cgpos.data.make_dataset:Processing tlg0012.tlg001.perseus-grc1.tb.xml\n",
      "INFO:cgpos.data.make_dataset:Processing tlg0540.tlg001.perseus-grc1.tb.xml\n",
      "INFO:cgpos.data.make_dataset:Processing tlg0060.tlg001.perseus-grc3.11.tb.xml\n",
      "INFO:cgpos.data.make_dataset:Processing tlg0016.tlg001.perseus-grc1.1.tb.xml\n",
      "INFO:cgpos.data.make_dataset:Processing tlg0007.tlg015.perseus-grc1.tb.xml\n",
      "INFO:root:Success! Extracted 615672 words from 33 files.\n",
      "INFO:root:Exporting to /home/tejomay/cgpos/data/processed/perseus.pkl\n"
     ]
    }
   ],
   "source": [
    "# Run method\n",
    "read_perseus(cfg)"
   ]
  }
 ],
 "metadata": {
  "kernelspec": {
   "display_name": "Python 3 (ipykernel)",
   "language": "python",
   "name": "python3"
  },
  "language_info": {
   "codemirror_mode": {
    "name": "ipython",
    "version": 3
   },
   "file_extension": ".py",
   "mimetype": "text/x-python",
   "name": "python",
   "nbconvert_exporter": "python",
   "pygments_lexer": "ipython3",
   "version": "3.11.4"
  }
 },
 "nbformat": 4,
 "nbformat_minor": 5
}
