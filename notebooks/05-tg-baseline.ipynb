{
 "cells": [
  {
   "cell_type": "code",
   "execution_count": 1,
   "id": "eb314d06-f20c-4e2a-8f68-ebcc7b9e75e6",
   "metadata": {
    "scrolled": true
   },
   "outputs": [],
   "source": [
    "%load_ext autoreload\n",
    "%autoreload 2"
   ]
  },
  {
   "cell_type": "code",
   "execution_count": 19,
   "id": "4e3eea84-3019-4ce1-bd46-6fc758323db0",
   "metadata": {},
   "outputs": [],
   "source": [
    "import os\n",
    "import logging\n",
    "from collections import defaultdict, Counter\n",
    "\n",
    "import pandas as pd\n",
    "import numpy as np\n",
    "import matplotlib.pyplot as plt\n",
    "from hydra import initialize, compose\n",
    "import hydra\n",
    "\n",
    "from cgpos.utils.util import import_pkl"
   ]
  },
  {
   "cell_type": "code",
   "execution_count": 149,
   "id": "f422948f-a38d-4bc3-9913-17232d6d9424",
   "metadata": {},
   "outputs": [],
   "source": [
    "from greek_accentuation.characters import strip_accents"
   ]
  },
  {
   "cell_type": "code",
   "execution_count": 3,
   "id": "945faf51-fbe6-4be0-a2be-8f42843ccc71",
   "metadata": {},
   "outputs": [],
   "source": [
    "# Reset hydra\n",
    "hydra.core.global_hydra.GlobalHydra.instance().clear()\n",
    "# Load hydra params\n",
    "initialize(\"../conf/\", version_base=None)\n",
    "config = compose(config_name='main')\n",
    "# Init logger\n",
    "logging.basicConfig(level=logging.INFO) "
   ]
  },
  {
   "cell_type": "code",
   "execution_count": 4,
   "id": "2405ed92-b0b4-4102-a594-1640227d2762",
   "metadata": {},
   "outputs": [],
   "source": [
    "# Load data\n",
    "data = import_pkl(config.perseus.featurized)"
   ]
  },
  {
   "cell_type": "code",
   "execution_count": 150,
   "id": "fcbcc952-6edd-4ff9-9846-68097e738ef5",
   "metadata": {},
   "outputs": [],
   "source": [
    "# Remove accents\n",
    "data_no_accent = data.copy()\n",
    "for word in data_no_accent:\n",
    "    if 'syllables' in word:\n",
    "        word['syllables'] = [strip_accents(syllable) for syllable in word['syllables']] "
   ]
  },
  {
   "cell_type": "code",
   "execution_count": 151,
   "id": "4235fafa-d46a-41da-9db0-1c94fa31d71d",
   "metadata": {
    "scrolled": true
   },
   "outputs": [],
   "source": [
    "# Bag of syllables\n",
    "def bos(data, train=0.8): \n",
    "    logger = logging.getLogger(__name__)\n",
    "    # Train test split\n",
    "    logger.info(f\"Train-test split: {train * 100}%\")\n",
    "    shuffled = random.sample(data, len(data))\n",
    "    train_ind = int(len(data) * train)\n",
    "    train_data = shuffled[:train_ind] \n",
    "    test_data = shuffled[train_ind:]\n",
    "    logger.info(f\"Train obs: {len(train_data)}\")\n",
    "    logger.info(f\"Test obs:  {len(test_data)}\")\n",
    "\n",
    "    # Build bag of syllables feature\n",
    "    bos = defaultdict(Counter)\n",
    "    for word in train_data:\n",
    "        if 'pos' in word:\n",
    "            pos = word['pos']\n",
    "            for syllable in word['syllables']:\n",
    "                bos[syllable][pos] +=1\n",
    "    \n",
    "    results = []\n",
    "    for obs in test_data:\n",
    "        try:\n",
    "            syl_data = []\n",
    "            pred_syl = []\n",
    "            for syl in obs['syllables']:\n",
    "                syl_dict = bos[syl]\n",
    "                syl_data.append((syl, syl_dict))\n",
    "                pred_syl.append(max(syl_dict, key=syl_dict.get))\n",
    "            true = obs['pos']    \n",
    "            pred = max(set(pred_syl), key=pred_syl.count)\n",
    "            results.append({\n",
    "                'true': true,\n",
    "                'pred': pred,\n",
    "                'pred_syl': pred_syl,\n",
    "                'syl_data': syl_data,\n",
    "            })\n",
    "        except (KeyError, ValueError):\n",
    "            pass\n",
    "\n",
    "    acc = np.mean([res['true'] == res['pred'] for res in results]) * 100\n",
    "    logger.info(f\"Accuracy {acc:.{2}f}%\")\n",
    "\n",
    "    return [train_data, test_data, bos, test, results]"
   ]
  },
  {
   "cell_type": "code",
   "execution_count": 157,
   "id": "e2492167-04a7-41b3-a1ec-e888b40983b5",
   "metadata": {},
   "outputs": [
    {
     "name": "stderr",
     "output_type": "stream",
     "text": [
      "INFO:__main__:Train-test split: 80.0%\n",
      "INFO:__main__:Train obs: 446334\n",
      "INFO:__main__:Test obs:  111584\n",
      "INFO:__main__:Accuracy 62.58%\n"
     ]
    }
   ],
   "source": [
    "data_results = bos(data)"
   ]
  },
  {
   "cell_type": "code",
   "execution_count": 158,
   "id": "227803a0-ce5b-4531-abfd-8bc9e9691001",
   "metadata": {},
   "outputs": [
    {
     "name": "stderr",
     "output_type": "stream",
     "text": [
      "INFO:__main__:Train-test split: 10.0%\n",
      "INFO:__main__:Train obs: 55791\n",
      "INFO:__main__:Test obs:  502127\n",
      "INFO:__main__:Accuracy 62.93%\n"
     ]
    }
   ],
   "source": [
    "data_no_accent_results = bos(data_no_accent, 0.1)"
   ]
  }
 ],
 "metadata": {
  "kernelspec": {
   "display_name": "Python 3 (ipykernel)",
   "language": "python",
   "name": "python3"
  },
  "language_info": {
   "codemirror_mode": {
    "name": "ipython",
    "version": 3
   },
   "file_extension": ".py",
   "mimetype": "text/x-python",
   "name": "python",
   "nbconvert_exporter": "python",
   "pygments_lexer": "ipython3",
   "version": "3.11.4"
  }
 },
 "nbformat": 4,
 "nbformat_minor": 5
}
