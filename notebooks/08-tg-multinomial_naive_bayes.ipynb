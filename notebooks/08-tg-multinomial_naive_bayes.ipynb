{
 "cells": [
  {
   "cell_type": "code",
   "execution_count": 1,
   "id": "eb314d06-f20c-4e2a-8f68-ebcc7b9e75e6",
   "metadata": {},
   "outputs": [],
   "source": [
    "%load_ext autoreload\n",
    "%autoreload 2"
   ]
  },
  {
   "cell_type": "code",
   "execution_count": 2,
   "id": "4e3eea84-3019-4ce1-bd46-6fc758323db0",
   "metadata": {},
   "outputs": [],
   "source": [
    "import os\n",
    "import logging\n",
    "from collections import defaultdict, Counter\n",
    "\n",
    "import pandas as pd\n",
    "import numpy as np\n",
    "import matplotlib.pyplot as plt\n",
    "from hydra import initialize, compose\n",
    "import hydra\n",
    "from sklearn.model_selection import train_test_split\n",
    "\n",
    "from cgpos.utils.util import import_pkl, export_pkl, get_abs_dir, flatten\n",
    "from cgpos.models.multinomial_naive_bayes import MultinomialNaiveBayes"
   ]
  },
  {
   "cell_type": "code",
   "execution_count": 3,
   "id": "945faf51-fbe6-4be0-a2be-8f42843ccc71",
   "metadata": {
    "scrolled": true
   },
   "outputs": [],
   "source": [
    "# Reset hydra\n",
    "hydra.core.global_hydra.GlobalHydra.instance().clear()\n",
    "# Load hydra params\n",
    "initialize(\"../conf/\", version_base=None)\n",
    "config = compose(config_name='main')\n",
    "# Init logger\n",
    "logging.basicConfig(level=logging.INFO) "
   ]
  },
  {
   "cell_type": "code",
   "execution_count": 4,
   "id": "c5a65f07-3aac-4e2d-91dd-cce297fc204d",
   "metadata": {},
   "outputs": [
    {
     "name": "stderr",
     "output_type": "stream",
     "text": [
      "INFO:cgpos.utils.util:Importing /home/tejomay/cgpos/data/processed/cleaned.pkl\n",
      "INFO:cgpos.utils.util:Importing /home/tejomay/cgpos/data/processed/features.pkl\n",
      "INFO:cgpos.utils.util:Importing /home/tejomay/cgpos/data/reference/target_map.pkl\n"
     ]
    }
   ],
   "source": [
    "uid, text, targets = import_pkl(config.data.cleaned)\n",
    "features = import_pkl(config.data.features)\n",
    "target_names, target_short, target_long = import_pkl(config.reference.target_map)"
   ]
  },
  {
   "cell_type": "code",
   "execution_count": 5,
   "id": "3374fa51-817c-4eb9-8d1c-8d230b262abd",
   "metadata": {},
   "outputs": [
    {
     "name": "stderr",
     "output_type": "stream",
     "text": [
      "INFO:root:Multinomial Naive Bayes (alpha=0.2, ngram_range=(1, 5)) accuracy on pos: 88.67%\n",
      "INFO:root:Multinomial Naive Bayes (alpha=0.2, ngram_range=(1, 5)) accuracy on pers: 95.96%\n",
      "INFO:root:Multinomial Naive Bayes (alpha=0.2, ngram_range=(1, 5)) accuracy on num: 94.65%\n",
      "INFO:root:Multinomial Naive Bayes (alpha=0.2, ngram_range=(1, 5)) accuracy on tense: 96.61%\n",
      "INFO:root:Multinomial Naive Bayes (alpha=0.2, ngram_range=(1, 5)) accuracy on mood: 96.74%\n",
      "INFO:root:Multinomial Naive Bayes (alpha=0.2, ngram_range=(1, 5)) accuracy on voice: 96.99%\n",
      "INFO:root:Multinomial Naive Bayes (alpha=0.2, ngram_range=(1, 5)) accuracy on gend: 92.43%\n",
      "INFO:root:Multinomial Naive Bayes (alpha=0.2, ngram_range=(1, 5)) accuracy on case: 93.02%\n",
      "INFO:root:Multinomial Naive Bayes (alpha=0.2, ngram_range=(1, 5)) accuracy on degree: 98.08%\n",
      "INFO:root:Overall accuracy: 76.66%\n"
     ]
    }
   ],
   "source": [
    "X_train, X_test, y_train, y_test = train_test_split(features, targets, train_size=0.8, random_state=20)\n",
    "y_train = [np.array([y[class_i] for y in y_train]) for class_i in range(len(y_train[0]))]\n",
    "y_test = [np.array([y[class_i] for y in y_test]) for class_i in range(len(y_test[0]))]\n",
    "\n",
    "preds = []\n",
    "for i, label in enumerate(target_names):\n",
    "    y_train_i = y_train[i]\n",
    "    y_test_i = y_test[i]\n",
    "    alpha = 0.2\n",
    "    ngram_range = (1, 5)\n",
    "    mnb = MultinomialNaiveBayes(alpha, ngram_range)\n",
    "    mnb.fit(X_train, y_train_i)\n",
    "    y_pred = mnb.predict(X_test)\n",
    "    accuracy = np.mean(y_pred == y_test_i)\n",
    "    logging.info(f\"Multinomial Naive Bayes (alpha={alpha}, ngram_range={ngram_range}) accuracy on {label}: {accuracy * 100:.2f}%\")\n",
    "    preds.append(y_pred)\n",
    "preds = np.array(preds)\n",
    "logging.info(f\"Overall accuracy: {np.mean((preds == y_test).all(axis=0)) * 100:.2f}%\")"
   ]
  }
 ],
 "metadata": {
  "kernelspec": {
   "display_name": "Python 3 (ipykernel)",
   "language": "python",
   "name": "python3"
  },
  "language_info": {
   "codemirror_mode": {
    "name": "ipython",
    "version": 3
   },
   "file_extension": ".py",
   "mimetype": "text/x-python",
   "name": "python",
   "nbconvert_exporter": "python",
   "pygments_lexer": "ipython3",
   "version": "3.11.4"
  }
 },
 "nbformat": 4,
 "nbformat_minor": 5
}
