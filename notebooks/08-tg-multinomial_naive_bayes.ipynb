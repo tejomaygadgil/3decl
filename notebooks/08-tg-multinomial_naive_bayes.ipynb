{
 "cells": [
  {
   "cell_type": "code",
   "execution_count": 1,
   "id": "eb314d06-f20c-4e2a-8f68-ebcc7b9e75e6",
   "metadata": {},
   "outputs": [],
   "source": [
    "%load_ext autoreload\n",
    "%autoreload 2"
   ]
  },
  {
   "cell_type": "code",
   "execution_count": 2,
   "id": "4e3eea84-3019-4ce1-bd46-6fc758323db0",
   "metadata": {},
   "outputs": [],
   "source": [
    "import os\n",
    "import logging\n",
    "from collections import defaultdict, Counter\n",
    "\n",
    "import pandas as pd\n",
    "import numpy as np\n",
    "import matplotlib.pyplot as plt\n",
    "from hydra import initialize, compose\n",
    "import hydra\n",
    "from sklearn.model_selection import train_test_split\n",
    "\n",
    "from cgpos.utils.util import import_pkl, export_pkl, get_abs_dir, flatten\n",
    "from cgpos.models.multinomial_naive_bayes import MultinomialNaiveBayes"
   ]
  },
  {
   "cell_type": "code",
   "execution_count": 3,
   "id": "945faf51-fbe6-4be0-a2be-8f42843ccc71",
   "metadata": {
    "scrolled": true
   },
   "outputs": [],
   "source": [
    "# Reset hydra\n",
    "hydra.core.global_hydra.GlobalHydra.instance().clear()\n",
    "# Load hydra params\n",
    "initialize(\"../conf/\", version_base=None)\n",
    "config = compose(config_name='main')\n",
    "# Init logger\n",
    "logging.basicConfig(level=logging.INFO) "
   ]
  },
  {
   "cell_type": "code",
   "execution_count": 4,
   "id": "c5a65f07-3aac-4e2d-91dd-cce297fc204d",
   "metadata": {},
   "outputs": [
    {
     "name": "stderr",
     "output_type": "stream",
     "text": [
      "INFO:cgpos.utils.util:Importing /home/tejomay/cgpos/data/processed/cleaned.pkl\n",
      "INFO:cgpos.utils.util:Importing /home/tejomay/cgpos/data/processed/features.pkl\n",
      "INFO:cgpos.utils.util:Importing /home/tejomay/cgpos/data/reference/target_map.pkl\n"
     ]
    }
   ],
   "source": [
    "uid, text, targets = import_pkl(config.data.cleaned)\n",
    "features = import_pkl(config.data.features)\n",
    "target_map = import_pkl(config.reference.target_map)"
   ]
  },
  {
   "cell_type": "code",
   "execution_count": 5,
   "id": "3374fa51-817c-4eb9-8d1c-8d230b262abd",
   "metadata": {},
   "outputs": [
    {
     "name": "stderr",
     "output_type": "stream",
     "text": [
      "INFO:root:Multinomial Naive Bayes (alpha=1, ngram_range=(1, 5)) accuracy on pos: 87.53%\n",
      "INFO:root:Multinomial Naive Bayes (alpha=1, ngram_range=(1, 5)) accuracy on pers: 96.92%\n",
      "INFO:root:Multinomial Naive Bayes (alpha=1, ngram_range=(1, 5)) accuracy on num: 94.96%\n",
      "INFO:root:Multinomial Naive Bayes (alpha=1, ngram_range=(1, 5)) accuracy on tense: 96.80%\n",
      "INFO:root:Multinomial Naive Bayes (alpha=1, ngram_range=(1, 5)) accuracy on mood: 97.01%\n",
      "INFO:root:Multinomial Naive Bayes (alpha=1, ngram_range=(1, 5)) accuracy on voice: 97.47%\n",
      "INFO:root:Multinomial Naive Bayes (alpha=1, ngram_range=(1, 5)) accuracy on gend: 92.31%\n",
      "INFO:root:Multinomial Naive Bayes (alpha=1, ngram_range=(1, 5)) accuracy on case: 92.96%\n",
      "INFO:root:Multinomial Naive Bayes (alpha=1, ngram_range=(1, 5)) accuracy on degree: 99.74%\n"
     ]
    }
   ],
   "source": [
    "for class_i, class_name in enumerate(target_map[0]):\n",
    "    alpha = 1\n",
    "    ngram_range = (1, 5)\n",
    "    X_train, X_test, y_train, y_test = train_test_split(\n",
    "        features, np.array([target[class_i] for target in targets]), \n",
    "        train_size=0.8, random_state=20\n",
    "    )\n",
    "    mnb = MultinomialNaiveBayes(alpha=alpha, ngram_range=ngram_range)\n",
    "    mnb.fit(X_train, y_train)\n",
    "    y_pred = mnb.predict(X_test)\n",
    "    accuracy = np.mean(y_pred == y_test)\n",
    "    logging.info(f\"Multinomial Naive Bayes (alpha={alpha}, ngram_range={ngram_range}) accuracy on {class_name}: {accuracy * 100:.2f}%\")"
   ]
  }
 ],
 "metadata": {
  "kernelspec": {
   "display_name": "Python 3 (ipykernel)",
   "language": "python",
   "name": "python3"
  },
  "language_info": {
   "codemirror_mode": {
    "name": "ipython",
    "version": 3
   },
   "file_extension": ".py",
   "mimetype": "text/x-python",
   "name": "python",
   "nbconvert_exporter": "python",
   "pygments_lexer": "ipython3",
   "version": "3.11.4"
  }
 },
 "nbformat": 4,
 "nbformat_minor": 5
}
