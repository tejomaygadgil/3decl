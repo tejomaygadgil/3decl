{
 "cells": [
  {
   "cell_type": "code",
   "execution_count": 60,
   "id": "eb314d06-f20c-4e2a-8f68-ebcc7b9e75e6",
   "metadata": {},
   "outputs": [
    {
     "name": "stdout",
     "output_type": "stream",
     "text": [
      "The autoreload extension is already loaded. To reload it, use:\n",
      "  %reload_ext autoreload\n"
     ]
    }
   ],
   "source": [
    "%load_ext autoreload\n",
    "%autoreload 2"
   ]
  },
  {
   "cell_type": "code",
   "execution_count": 61,
   "id": "4e3eea84-3019-4ce1-bd46-6fc758323db0",
   "metadata": {},
   "outputs": [],
   "source": [
    "import os\n",
    "import logging\n",
    "\n",
    "import pandas as pd\n",
    "import numpy as np\n",
    "import matplotlib.pyplot as plt\n",
    "from hydra import initialize, compose\n",
    "import hydra\n",
    "\n",
    "from cgpos.utils.util import import_pkl, export_pkl, get_abs_dir"
   ]
  },
  {
   "cell_type": "code",
   "execution_count": 62,
   "id": "945faf51-fbe6-4be0-a2be-8f42843ccc71",
   "metadata": {
    "scrolled": true
   },
   "outputs": [],
   "source": [
    "# Reset hydra\n",
    "hydra.core.global_hydra.GlobalHydra.instance().clear()\n",
    "# Load hydra params\n",
    "initialize(\"../conf/\", version_base=None)\n",
    "config = compose(config_name='main')\n",
    "# Init logger\n",
    "logging.basicConfig(level=logging.INFO) "
   ]
  },
  {
   "cell_type": "code",
   "execution_count": 174,
   "id": "c5a65f07-3aac-4e2d-91dd-cce297fc204d",
   "metadata": {},
   "outputs": [
    {
     "name": "stderr",
     "output_type": "stream",
     "text": [
      "INFO:cgpos.utils.util:Importing /home/tejomay/cgpos/data/processed/cleaned.pkl\n"
     ]
    }
   ],
   "source": [
    "uid, features, targets = import_pkl(config.data.cleaned)"
   ]
  },
  {
   "cell_type": "code",
   "execution_count": 184,
   "id": "034489d5-031f-45e2-8cd6-477595c5ed41",
   "metadata": {},
   "outputs": [],
   "source": [
    "from sklearn.feature_extraction.text import CountVectorizer\n",
    "from sklearn.feature_extraction.text import TfidfTransformer\n",
    "from sklearn.naive_bayes import MultinomialNB\n",
    "from sklearn.linear_model import SGDClassifier\n",
    "from sklearn.tree import DecisionTreeClassifier\n",
    "from sklearn.model_selection import GridSearchCV\n",
    "from sklearn.pipeline import Pipeline\n",
    "from sklearn.model_selection import train_test_split"
   ]
  },
  {
   "cell_type": "code",
   "execution_count": 181,
   "id": "0c7a7b8e-8934-4de4-97f3-9a2503a716f8",
   "metadata": {},
   "outputs": [],
   "source": [
    "X = [\" \".join(syllables) for syllables in features]\n",
    "# y = [pos_class[0] for pos_class in targets]\n",
    "y = targets\n",
    "X_train, X_test, y_train, y_test = train_test_split(X, y, train_size=0.8, random_state=20)"
   ]
  },
  {
   "cell_type": "code",
   "execution_count": 185,
   "id": "1ccf37a5-9a92-49cc-8341-ab582912c3b3",
   "metadata": {},
   "outputs": [],
   "source": [
    "text_clf = Pipeline([\n",
    "    ('vect', CountVectorizer(lowercase=False, ngram_range=(1,5))),\n",
    "    ('tfidf', TfidfTransformer()),\n",
    "    # ('clf', MultinomialNB()),\n",
    "    ('clf', DecisionTreeClassifier())\n",
    "    # ('clf', SGDClassifier(loss='hinge', penalty='l2',\n",
    "    #                       alpha=1e-3, random_state=42,\n",
    "    #                       max_iter=5, tol=None)),  # SVM\n",
    "])"
   ]
  },
  {
   "cell_type": "code",
   "execution_count": 186,
   "id": "0372d03e-6dab-4598-8c31-e3ce26aa8616",
   "metadata": {},
   "outputs": [
    {
     "name": "stdout",
     "output_type": "stream",
     "text": [
      "Accuracy: 94.17%\n"
     ]
    }
   ],
   "source": [
    "text_clf.fit(X_train, y_train)\n",
    "y_pred = text_clf.predict(X_test)\n",
    "print(f\"Accuracy: {np.mean(y_pred == y_test) * 100:.2f}%\")"
   ]
  },
  {
   "cell_type": "code",
   "execution_count": 167,
   "id": "d7cd09f5-b836-405e-afa1-283a96a429c7",
   "metadata": {},
   "outputs": [
    {
     "name": "stdout",
     "output_type": "stream",
     "text": [
      "Accuracy: 75.77%\n"
     ]
    }
   ],
   "source": [
    "parameters = {\n",
    "    'tfidf__use_idf': (True, False),\n",
    "    'clf__alpha': (1e-2, 1e-3),\n",
    "}\n",
    "gs_clf = GridSearchCV(text_clf, parameters, cv=5, n_jobs=-1)\n",
    "\n",
    "gs_clf.fit(X_train, y_train)\n",
    "y_pred = gs_clf.predict(X_test)\n",
    "print(f\"Accuracy: {np.mean(y_pred == y_test) * 100:.2f}%\")"
   ]
  }
 ],
 "metadata": {
  "kernelspec": {
   "display_name": "Python 3 (ipykernel)",
   "language": "python",
   "name": "python3"
  },
  "language_info": {
   "codemirror_mode": {
    "name": "ipython",
    "version": 3
   },
   "file_extension": ".py",
   "mimetype": "text/x-python",
   "name": "python",
   "nbconvert_exporter": "python",
   "pygments_lexer": "ipython3",
   "version": "3.11.4"
  }
 },
 "nbformat": 4,
 "nbformat_minor": 5
}
